{
 "cells": [
  {
   "cell_type": "code",
   "execution_count": 1,
   "metadata": {},
   "outputs": [
    {
     "name": "stderr",
     "output_type": "stream",
     "text": [
      "[   INFO   ] MusicExtractorSVM: no classifier models were configured by default\n"
     ]
    }
   ],
   "source": [
    "%reload_ext autoreload\n",
    "%autoreload 2\n",
    "\n",
    "import os\n",
    "import sys\n",
    "import json\n",
    "os.environ[\"CUDA_VISIBLE_DEVICES\"] = \"-1\"\n",
    "\n",
    "from glob import glob\n",
    "\n",
    "import numpy as np\n",
    "import pandas as pd\n",
    "import matplotlib.pyplot as plt\n",
    "\n",
    "code_dir = os.path.dirname(os.getcwd())\n",
    "sys.path.append(code_dir)\n",
    "\n",
    "from nmfp import audio_processing\n",
    "\n",
    "import IPython.display as ipd\n",
    "\n",
    "fs = 8000\n",
    "\n",
    "fma_dir = \"point_to_your_fma+dir\"\n",
    "\n",
    "datasets_dir = \"../../datasets/\"\n",
    "fma_8k_dir = os.path.join(datasets_dir, \"fma-wav_8khz_16bit\", \"audio\")\n",
    "nafp_dataset_dir  = os.path.join(datasets_dir, \"neural-audio-fp-dataset\")\n",
    "nafp_pp_dataset_dir  = os.path.join(datasets_dir, \"nafp_pp-dataset\")"
   ]
  },
  {
   "cell_type": "markdown",
   "metadata": {},
   "source": [
    "## Music of NAFP"
   ]
  },
  {
   "cell_type": "code",
   "execution_count": 7,
   "metadata": {},
   "outputs": [
    {
     "name": "stdout",
     "output_type": "stream",
     "text": [
      "500\n",
      "500\n",
      "1000\n"
     ]
    }
   ],
   "source": [
    "nafp_music_dir = os.path.join(nafp_dataset_dir, \"music\")\n",
    "\n",
    "nafp_music_train_dir = os.path.join(nafp_music_dir, \"train\")\n",
    "nafp_music_train_paths = sorted(glob(os.path.join(nafp_music_train_dir, \"**/*.wav\"), recursive=True))\n",
    "\n",
    "# We deleted these files to save disk space\n",
    "# test_dummy_dir = os.path.join(nafp_music_dir, \"test-dummy-db-100k-full\") #/from_fma_large10k-30s_for_mini/\n",
    "# test_dummy_paths = glob(os.path.join(test_dummy_dir, \"**/*.wav\"), recursive=True)\n",
    "# print(len(test_dummy_paths))\n",
    "\n",
    "nafp_music_test_query_dir = os.path.join(nafp_music_dir, \"test-query-db-500-30s\")\n",
    "\n",
    "nafp_music_db_dir = os.path.join(nafp_music_test_query_dir, \"db\")\n",
    "nafp_music_db_paths = sorted(glob(os.path.join(nafp_music_db_dir, \"**/*.wav\"), recursive=True))\n",
    "print(len(nafp_music_db_paths))\n",
    "\n",
    "nafp_music_query_dir = os.path.join(nafp_music_test_query_dir, \"query\")\n",
    "nafp_music_query_paths = sorted(glob(os.path.join(nafp_music_query_dir, \"**/*.wav\"), recursive=True))\n",
    "print(len(nafp_music_query_paths))\n",
    "\n",
    "nafp_music_query_fixed_dir = os.path.join(nafp_music_test_query_dir, \"query_fixed_SNR\")\n",
    "nafp_music_query_fixed_paths = sorted(glob(os.path.join(nafp_music_query_fixed_dir, \"**/*.wav\"), recursive=True))\n",
    "print(len(nafp_music_query_fixed_paths))"
   ]
  },
  {
   "cell_type": "code",
   "execution_count": 3,
   "metadata": {},
   "outputs": [],
   "source": [
    "# i = 400\n",
    "\n",
    "# path = db_paths[i]\n",
    "# print(path)\n",
    "# ipd.display(ipd.Audio(path))\n",
    "\n",
    "# path = query_paths[i]\n",
    "# print(path)\n",
    "# ipd.display(ipd.Audio(path))"
   ]
  },
  {
   "cell_type": "markdown",
   "metadata": {},
   "source": [
    "## Background Noise Data"
   ]
  },
  {
   "cell_type": "markdown",
   "metadata": {},
   "source": [
    "### NAFP"
   ]
  },
  {
   "cell_type": "code",
   "execution_count": 2,
   "metadata": {},
   "outputs": [
    {
     "name": "stdout",
     "output_type": "stream",
     "text": [
      "1246 BG Training files\n",
      "310 BG Testing files\n"
     ]
    }
   ],
   "source": [
    "nafp_bg_dir = os.path.join(nafp_dataset_dir, \"aug\", \"bg\")\n",
    "\n",
    "nafp_bg_tr_dir = os.path.join(nafp_bg_dir, \"tr\")\n",
    "nafp_bg_tr_paths = glob(os.path.join(nafp_bg_tr_dir, \"*/*.wav\"))\n",
    "print(f\"{len(nafp_bg_tr_paths)} BG Training files\")\n",
    "\n",
    "nafp_bg_ts_dir = os.path.join(nafp_bg_dir, \"ts\")\n",
    "nafp_bg_ts_paths = glob(os.path.join(nafp_bg_ts_dir, \"*/*.wav\"))\n",
    "print(f\"{len(nafp_bg_ts_paths)} BG Testing files\")"
   ]
  },
  {
   "cell_type": "markdown",
   "metadata": {},
   "source": [
    "#### Quantitative Analysis"
   ]
  },
  {
   "cell_type": "code",
   "execution_count": 3,
   "metadata": {},
   "outputs": [
    {
     "name": "stdout",
     "output_type": "stream",
     "text": [
      "Min: 10.0 s, Max: 438.077 s, Mean: 15.256609249598716 s, Median: 10.0 s\n",
      "Total: 316.82891875 minutes\n",
      "Min: 10.0 s, Max: 300.0 s, Mean: 13.498117741935484 s, Median: 10.0 s\n",
      "Total: 69.74027500000001 minutes\n"
     ]
    }
   ],
   "source": [
    "nafp_bg_tr_path_durations = []\n",
    "for bg_path in nafp_bg_tr_paths:\n",
    "    bg_audio = audio_processing.load_wav(bg_path, fs=fs)\n",
    "    nafp_bg_tr_path_durations.append([bg_path, len(bg_audio)/fs])\n",
    "nafp_bg_tr_path_durations = sorted(nafp_bg_tr_path_durations, key=lambda x: x[1])\n",
    "nafp_bg_tr_path_durations = np.array([dur for _,dur in nafp_bg_tr_path_durations])\n",
    "print(f\"Min: {nafp_bg_tr_path_durations.min()} s, Max: {nafp_bg_tr_path_durations.max()} s, Mean: {nafp_bg_tr_path_durations.mean()} s, Median: {np.median(nafp_bg_tr_path_durations)} s\")\n",
    "print(f\"Total: {nafp_bg_tr_path_durations.sum()/60} minutes\")\n",
    "\n",
    "nafp_bg_ts_path_durations = []\n",
    "for bg_path in nafp_bg_ts_paths:\n",
    "    bg_audio = audio_processing.load_wav(bg_path, fs=fs)\n",
    "    nafp_bg_ts_path_durations.append([bg_path, len(bg_audio)/fs])\n",
    "nafp_bg_ts_path_durations = sorted(nafp_bg_ts_path_durations, key=lambda x: x[1])\n",
    "nafp_bg_ts_path_durations = np.array([dur for _,dur in nafp_bg_ts_path_durations])\n",
    "print(f\"Min: {nafp_bg_ts_path_durations.min()} s, Max: {nafp_bg_ts_path_durations.max()} s, Mean: {nafp_bg_ts_path_durations.mean()} s, Median: {np.median(nafp_bg_ts_path_durations)} s\")\n",
    "print(f\"Total: {nafp_bg_ts_path_durations.sum()/60} minutes\")"
   ]
  },
  {
   "cell_type": "code",
   "execution_count": 6,
   "metadata": {},
   "outputs": [
    {
     "name": "stdout",
     "output_type": "stream",
     "text": [
      "['audioset_subway_metro_underground_not_music', 'random_noise', 'pub_noise_8k']\n",
      "1224\n",
      "12240.0\n",
      "896\n",
      "896.0\n",
      "22\n",
      "6769.735125000001\n",
      "331.7622520833333\n"
     ]
    }
   ],
   "source": [
    "print(os.listdir(nafp_bg_tr_dir))\n",
    "\n",
    "nafp_bg_tr_subway_dir = os.path.join(nafp_bg_tr_dir, \"audioset_subway_metro_underground_not_music\")\n",
    "nafp_bg_tr_subway_paths = sorted(glob(os.path.join(nafp_bg_tr_subway_dir, \"*.wav\")))\n",
    "print(len(nafp_bg_tr_subway_paths))\n",
    "nafp_bg_tr_subway_durations = []\n",
    "for _path in nafp_bg_tr_subway_paths:\n",
    "    audio_len = audio_processing.check_wav_file(_path, fs=fs)\n",
    "    nafp_bg_tr_subway_durations.append(audio_len/fs)\n",
    "print(sum(nafp_bg_tr_subway_durations))\n",
    "\n",
    "nafp_bg_tr_noise_dir = os.path.join(nafp_bg_tr_dir, \"random_noise\")\n",
    "nafp_bg_tr_noise_paths = sorted(glob(os.path.join(nafp_bg_tr_noise_dir, \"**\", \"*.wav\"), recursive=True))\n",
    "print(len(nafp_bg_tr_noise_paths))\n",
    "nafp_bg_tr_noise_durations = []\n",
    "for _path in nafp_bg_tr_noise_paths:\n",
    "    audio_len = audio_processing.check_wav_file(_path, fs=fs)\n",
    "    nafp_bg_tr_noise_durations.append(audio_len/fs)\n",
    "print(sum(nafp_bg_tr_noise_durations))\n",
    "\n",
    "nafp_bg_tr_pub_dir = os.path.join(nafp_bg_tr_dir, \"pub_noise_8k\")\n",
    "nafp_bg_tr_pub_paths = sorted(glob(os.path.join(nafp_bg_tr_pub_dir, \"*.wav\")))\n",
    "print(len(nafp_bg_tr_pub_paths))\n",
    "nafp_bg_tr_pub_durations = []\n",
    "for _path in nafp_bg_tr_pub_paths:\n",
    "    audio_len = audio_processing.check_wav_file(_path, fs=fs)\n",
    "    nafp_bg_tr_pub_durations.append(audio_len/fs)\n",
    "print(sum(nafp_bg_tr_pub_durations))\n",
    "\n",
    "print((sum(nafp_bg_tr_subway_durations)+sum(nafp_bg_tr_noise_durations)+sum(nafp_bg_tr_pub_durations))/60)"
   ]
  },
  {
   "cell_type": "code",
   "execution_count": 7,
   "metadata": {},
   "outputs": [
    {
     "name": "stdout",
     "output_type": "stream",
     "text": [
      "['audioset_subway_metro_underground_not_music', 'random_noise', 'pub_noise_8k']\n",
      "305\n",
      "3050.0\n",
      "222\n",
      "222.0\n",
      "5\n",
      "1134.4165\n",
      "73.440275\n"
     ]
    }
   ],
   "source": [
    "print(os.listdir(nafp_bg_ts_dir))\n",
    "\n",
    "nafp_bg_ts_subway_dir = os.path.join(nafp_bg_ts_dir, \"audioset_subway_metro_underground_not_music\")\n",
    "nafp_bg_ts_subway_paths = sorted(glob(os.path.join(nafp_bg_ts_subway_dir, \"*.wav\")))\n",
    "print(len(nafp_bg_ts_subway_paths))\n",
    "nafp_bg_ts_subway_durations = []\n",
    "for _path in nafp_bg_ts_subway_paths:\n",
    "    audio_len = audio_processing.check_wav_file(_path, fs=fs)\n",
    "    nafp_bg_ts_subway_durations.append(audio_len/fs)\n",
    "print(sum(nafp_bg_ts_subway_durations))\n",
    "\n",
    "nafp_bg_ts_noise_dir = os.path.join(nafp_bg_ts_dir, \"random_noise\")\n",
    "nafp_bg_ts_noise_paths = sorted(glob(os.path.join(nafp_bg_ts_noise_dir, \"**\", \"*.wav\"), recursive=True))\n",
    "print(len(nafp_bg_ts_noise_paths))\n",
    "nafp_bg_ts_noise_durations = []\n",
    "for _path in nafp_bg_ts_noise_paths:\n",
    "    audio_len = audio_processing.check_wav_file(_path, fs=fs)\n",
    "    nafp_bg_ts_noise_durations.append(audio_len/fs)\n",
    "print(sum(nafp_bg_ts_noise_durations))\n",
    "\n",
    "nafp_bg_ts_pub_dir = os.path.join(nafp_bg_ts_dir, \"pub_noise_8k\")\n",
    "nafp_bg_ts_pub_paths = sorted(glob(os.path.join(nafp_bg_ts_pub_dir, \"*.wav\")))\n",
    "print(len(nafp_bg_ts_pub_paths))\n",
    "nafp_bg_ts_pub_durations = []\n",
    "for _path in nafp_bg_ts_pub_paths:\n",
    "    audio_len = audio_processing.check_wav_file(_path, fs=fs)\n",
    "    nafp_bg_ts_pub_durations.append(audio_len/fs)\n",
    "print(sum(nafp_bg_ts_pub_durations))\n",
    "\n",
    "print((sum(nafp_bg_ts_subway_durations)+sum(nafp_bg_ts_noise_durations)+sum(nafp_bg_ts_pub_durations))/60)"
   ]
  },
  {
   "cell_type": "markdown",
   "metadata": {},
   "source": [
    "### TUT"
   ]
  },
  {
   "cell_type": "code",
   "execution_count": 4,
   "metadata": {},
   "outputs": [
    {
     "name": "stdout",
     "output_type": "stream",
     "text": [
      "1170\n",
      "390\n"
     ]
    }
   ],
   "source": [
    "# tut_dataset_dir = os.path.join(datasets_dir, \"TUT-acoustic-scenes-2016\")\n",
    "tut_dataset_dir = os.path.join(datasets_dir, \"TUT-acoustic-scenes-2016-8khz_16bit\")\n",
    "\n",
    "tut_dev_dir = os.path.join(tut_dataset_dir, \"TUT-acoustic-scenes-2016-development\")\n",
    "tut_dev_paths = sorted(glob(os.path.join(tut_dev_dir, \"**/*.wav\"), recursive=True))\n",
    "print(len(tut_dev_paths))\n",
    "\n",
    "tut_eval_dir = os.path.join(tut_dataset_dir, \"TUT-acoustic-scenes-2016-evaluation\")\n",
    "tut_eval_paths = sorted(glob(os.path.join(tut_eval_dir, \"**/*.wav\"), recursive=True))\n",
    "print(len(tut_eval_paths))"
   ]
  },
  {
   "cell_type": "code",
   "execution_count": 5,
   "metadata": {},
   "outputs": [
    {
     "name": "stdout",
     "output_type": "stream",
     "text": [
      "(1170, 2)\n"
     ]
    },
    {
     "data": {
      "text/html": [
       "<div>\n",
       "<style scoped>\n",
       "    .dataframe tbody tr th:only-of-type {\n",
       "        vertical-align: middle;\n",
       "    }\n",
       "\n",
       "    .dataframe tbody tr th {\n",
       "        vertical-align: top;\n",
       "    }\n",
       "\n",
       "    .dataframe thead th {\n",
       "        text-align: right;\n",
       "    }\n",
       "</style>\n",
       "<table border=\"1\" class=\"dataframe\">\n",
       "  <thead>\n",
       "    <tr style=\"text-align: right;\">\n",
       "      <th></th>\n",
       "      <th>0</th>\n",
       "      <th>1</th>\n",
       "    </tr>\n",
       "  </thead>\n",
       "  <tbody>\n",
       "    <tr>\n",
       "      <th>0</th>\n",
       "      <td>a001_0_30.wav</td>\n",
       "      <td>residential_area</td>\n",
       "    </tr>\n",
       "    <tr>\n",
       "      <th>1</th>\n",
       "      <td>a001_120_150.wav</td>\n",
       "      <td>residential_area</td>\n",
       "    </tr>\n",
       "    <tr>\n",
       "      <th>2</th>\n",
       "      <td>a001_150_180.wav</td>\n",
       "      <td>residential_area</td>\n",
       "    </tr>\n",
       "    <tr>\n",
       "      <th>3</th>\n",
       "      <td>a001_30_60.wav</td>\n",
       "      <td>residential_area</td>\n",
       "    </tr>\n",
       "    <tr>\n",
       "      <th>4</th>\n",
       "      <td>a001_60_90.wav</td>\n",
       "      <td>residential_area</td>\n",
       "    </tr>\n",
       "  </tbody>\n",
       "</table>\n",
       "</div>"
      ],
      "text/plain": [
       "                  0                 1\n",
       "0     a001_0_30.wav  residential_area\n",
       "1  a001_120_150.wav  residential_area\n",
       "2  a001_150_180.wav  residential_area\n",
       "3    a001_30_60.wav  residential_area\n",
       "4    a001_60_90.wav  residential_area"
      ]
     },
     "execution_count": 5,
     "metadata": {},
     "output_type": "execute_result"
    }
   ],
   "source": [
    "tut_dev_csv = os.path.join(tut_dev_dir, \"meta.txt\")\n",
    "tut_dev_df = pd.read_csv(tut_dev_csv, sep=\"\\t\", header=None)\n",
    "print(tut_dev_df.shape)\n",
    "tut_dev_df[0] = tut_dev_df[0].apply(lambda x: x.split(\"/\")[1]) # remove the path\n",
    "tut_dev_df.head()"
   ]
  },
  {
   "cell_type": "code",
   "execution_count": 6,
   "metadata": {},
   "outputs": [
    {
     "name": "stdout",
     "output_type": "stream",
     "text": [
      "(390, 2)\n"
     ]
    },
    {
     "data": {
      "text/html": [
       "<div>\n",
       "<style scoped>\n",
       "    .dataframe tbody tr th:only-of-type {\n",
       "        vertical-align: middle;\n",
       "    }\n",
       "\n",
       "    .dataframe tbody tr th {\n",
       "        vertical-align: top;\n",
       "    }\n",
       "\n",
       "    .dataframe thead th {\n",
       "        text-align: right;\n",
       "    }\n",
       "</style>\n",
       "<table border=\"1\" class=\"dataframe\">\n",
       "  <thead>\n",
       "    <tr style=\"text-align: right;\">\n",
       "      <th></th>\n",
       "      <th>0</th>\n",
       "      <th>1</th>\n",
       "    </tr>\n",
       "  </thead>\n",
       "  <tbody>\n",
       "    <tr>\n",
       "      <th>0</th>\n",
       "      <td>178.wav</td>\n",
       "      <td>bus</td>\n",
       "    </tr>\n",
       "    <tr>\n",
       "      <th>1</th>\n",
       "      <td>188.wav</td>\n",
       "      <td>park</td>\n",
       "    </tr>\n",
       "    <tr>\n",
       "      <th>2</th>\n",
       "      <td>185.wav</td>\n",
       "      <td>forest_path</td>\n",
       "    </tr>\n",
       "    <tr>\n",
       "      <th>3</th>\n",
       "      <td>143.wav</td>\n",
       "      <td>beach</td>\n",
       "    </tr>\n",
       "    <tr>\n",
       "      <th>4</th>\n",
       "      <td>62.wav</td>\n",
       "      <td>park</td>\n",
       "    </tr>\n",
       "  </tbody>\n",
       "</table>\n",
       "</div>"
      ],
      "text/plain": [
       "         0            1\n",
       "0  178.wav          bus\n",
       "1  188.wav         park\n",
       "2  185.wav  forest_path\n",
       "3  143.wav        beach\n",
       "4   62.wav         park"
      ]
     },
     "execution_count": 6,
     "metadata": {},
     "output_type": "execute_result"
    }
   ],
   "source": [
    "tut_eval_csv = os.path.join(tut_eval_dir, \"meta.txt\")\n",
    "tut_eval_df = pd.read_csv(tut_eval_csv, sep=\"\\t\", header=None)\n",
    "tut_eval_df[0] = tut_eval_df[0].apply(lambda x: x.split(\"/\")[1]) # remove the path\n",
    "print(tut_eval_df.shape)\n",
    "tut_eval_df.head()"
   ]
  },
  {
   "cell_type": "code",
   "execution_count": 9,
   "metadata": {},
   "outputs": [],
   "source": [
    "# path = random.choice(tut_dev_paths)\n",
    "# print(path)\n",
    "# print(tut_dev_df[tut_dev_df[0] == os.path.split(path)[-1]])\n",
    "# ipd.display(ipd.Audio(path))\n",
    "\n",
    "# path = random.choice(tut_eval_paths)\n",
    "# print(path)\n",
    "# print(tut_eval_df[tut_eval_df[0] == os.path.split(path)[-1]])\n",
    "# ipd.display(ipd.Audio(path))"
   ]
  },
  {
   "cell_type": "markdown",
   "metadata": {},
   "source": [
    "#### Quantitative Analysis"
   ]
  },
  {
   "cell_type": "code",
   "execution_count": 11,
   "metadata": {},
   "outputs": [
    {
     "name": "stdout",
     "output_type": "stream",
     "text": [
      "1170\n",
      "35100.0\n",
      "30.0\n",
      "30.0\n",
      "30.0\n"
     ]
    }
   ],
   "source": [
    "print(len(tut_dev_paths))\n",
    "tut_dev_durations = []\n",
    "for _path in tut_dev_paths:\n",
    "    audio_len = audio_processing.check_wav_file(_path, fs=fs)\n",
    "    tut_dev_durations.append(audio_len/fs)\n",
    "print(sum(tut_dev_durations))\n",
    "print(np.mean(tut_dev_durations))\n",
    "print(np.median(tut_dev_durations))\n",
    "print(np.max(tut_dev_durations))"
   ]
  },
  {
   "cell_type": "code",
   "execution_count": 12,
   "metadata": {},
   "outputs": [
    {
     "name": "stdout",
     "output_type": "stream",
     "text": [
      "390\n",
      "11700.0\n",
      "30.0\n",
      "30.0\n",
      "30.0\n"
     ]
    }
   ],
   "source": [
    "print(len(tut_eval_paths))\n",
    "tut_eval_durations = []\n",
    "for _path in tut_eval_paths:\n",
    "    audio_len = audio_processing.check_wav_file(_path, fs=fs)\n",
    "    tut_eval_durations.append(audio_len/fs)\n",
    "print(sum(tut_eval_durations))\n",
    "print(np.mean(tut_eval_durations))\n",
    "print(np.median(tut_eval_durations))\n",
    "print(np.max(tut_eval_durations))"
   ]
  },
  {
   "cell_type": "markdown",
   "metadata": {},
   "source": [
    "## Room Impulse Response Data"
   ]
  },
  {
   "cell_type": "markdown",
   "metadata": {},
   "source": [
    "### OpenAIR"
   ]
  },
  {
   "cell_type": "code",
   "execution_count": 3,
   "metadata": {},
   "outputs": [
    {
     "name": "stdout",
     "output_type": "stream",
     "text": [
      "143\n",
      "28\n",
      "elveden-hall-suffolk-england\n",
      "falkland-palace-royal-tennis-court\n",
      "gill-heads-mine\n",
      "hamilton-mausoleum\n",
      "innocent-railway-tunnel\n",
      "koli-national-park-summer\n",
      "koli-national-park-winter\n",
      "lady-chapel-st-albans-cathedral\n",
      "maes-howe\n",
      "r1-nuclear-reactor-hall\n",
      "saint-lawrence-church-molenbeek-wersbeek-belgium\n",
      "shrine-and-parish-church-all-saints-north-street-_\n",
      "spokane-womans-club\n",
      "sports-centre-university-york\n",
      "spring-lane-building-university-york\n",
      "st-andrews-church\n",
      "st-margarets-church-ncem-5-piece-band-spatial-measurements\n",
      "st-matthews-church-walsall\n",
      "st-patricks-church-patrington\n",
      "stairway-university-york\n",
      "terrys-factory-warehouse\n",
      "terrys-typing-room\n",
      "trollers-gill\n",
      "tyndall-bruce-monument\n",
      "usina-del-arte-symphony-hall\n",
      "waveguide-web-example-audio\n",
      "wheldrake-wood\n",
      "york-minster\n"
     ]
    }
   ],
   "source": [
    "open_air_8k_dir = os.path.join(datasets_dir, \"IR\", \"room\", \"OPENAIR-mono_and_stereo-8khz_16bit_mono\")\n",
    "open_air_8k_paths = sorted(glob(os.path.join(open_air_8k_dir, \"**/*.wav\"), recursive=True))\n",
    "print(len(open_air_8k_paths))\n",
    "\n",
    "open_air_8k_rooms = sorted([d for d in os.listdir(open_air_8k_dir) if os.path.isdir(os.path.join(open_air_8k_dir, d))])\n",
    "print(len(open_air_8k_rooms))\n",
    "print('\\n'.join(open_air_8k_rooms))\n",
    "\n",
    "open_air_8k_names = sorted([os.path.basename(path) for path in open_air_8k_paths])\n",
    "# print(len(open_air_8k_names))"
   ]
  },
  {
   "cell_type": "markdown",
   "metadata": {},
   "source": [
    "#### Analyze IR durations"
   ]
  },
  {
   "cell_type": "code",
   "execution_count": null,
   "metadata": {},
   "outputs": [
    {
     "name": "stdout",
     "output_type": "stream",
     "text": [
      "There are 143 IRs\n",
      "Min duration: 1.0000 s\n",
      "Max duration: 22.6704 s\n",
      "Mean duration: 5.2280 s\n",
      "Std duration: 3.6559 s\n",
      "Median duration: 5.0000 s\n",
      "Total duration: 12.4600 m\n",
      "141 files are longer than 1.0 s\n",
      "Total duration of these files: 12.4267 m\n"
     ]
    },
    {
     "data": {
      "image/png": "[encoded data removed]",
      "text/plain": [
       "<Figure size 1800x500 with 1 Axes>"
      ]
     },
     "metadata": {},
     "output_type": "display_data"
    }
   ],
   "source": [
    "T = 1.0\n",
    "\n",
    "openair_8k_ir_durations = []\n",
    "for ir_path in open_air_8k_paths:\n",
    "    ir_len = audio_processing.check_wav_file(ir_path, fs=fs)\n",
    "    openair_8k_ir_durations.append(ir_len/fs)\n",
    "print(f\"There are {len(openair_8k_ir_durations)} IRs\")\n",
    "openair_8k_ir_durations = np.array(openair_8k_ir_durations)\n",
    "print(f\"Min duration: {openair_8k_ir_durations.min():.4f} s\")\n",
    "print(f\"Max duration: {openair_8k_ir_durations.max():.4f} s\")\n",
    "print(f\"Mean duration: {openair_8k_ir_durations.mean():.4f} s\")\n",
    "print(f\"Std duration: {openair_8k_ir_durations.std():.4f} s\")\n",
    "print(f\"Median duration: {np.median(openair_8k_ir_durations):.4f} s\")\n",
    "print(f\"Total duration: {openair_8k_ir_durations.sum()/60:.4f} m\")\n",
    "\n",
    "open_air_8k_long_ir_durs = [dur for dur in openair_8k_ir_durations if dur > T]\n",
    "print(f\"{len(open_air_8k_long_ir_durs)} files are longer than {T} s\")\n",
    "print(f\"Total duration of these files: {sum(open_air_8k_long_ir_durs)/60:.4f} m\")\n",
    "\n",
    "fig, ax = plt.subplots(figsize=(18, 5), constrained_layout=True)\n",
    "fig.suptitle(\"OpenAIR Mono and Stereo IRs Duration Histogram\")\n",
    "\n",
    "x_max = max(openair_8k_ir_durations)\n",
    "\n",
    "ax.hist(openair_8k_ir_durations, bins=np.arange(0, x_max+0.5, 0.5))\n",
    "# ax.set_title(\"Train Set\")\n",
    "ax.set_xticks(np.arange(0, x_max+0.5, 0.5))\n",
    "ax.set_xlim([0,x_max+0.5])\n",
    "ax.set_ylabel(\"Count\")\n",
    "ax.set_yticks(np.arange(0, 46, 5))\n",
    "ax.grid()\n",
    "plt.show()"
   ]
  },
  {
   "cell_type": "code",
   "execution_count": null,
   "metadata": {},
   "outputs": [
    {
     "data": {
      "image/png": "[encoded data removed]",
      "text/plain": [
       "<Figure size 1800x500 with 1 Axes>"
      ]
     },
     "metadata": {},
     "output_type": "display_data"
    }
   ],
   "source": [
    "open_air_8k_room_durations = []\n",
    "for room in open_air_8k_rooms:\n",
    "    room_dir = os.path.join(open_air_8k_dir, room)\n",
    "    room_paths = sorted(glob(os.path.join(room_dir, \"**\", \"*.wav\"), recursive=True))\n",
    "    _durations = []\n",
    "    for _path in room_paths:\n",
    "        audio_len = audio_processing.check_wav_file(_path, fs=fs)\n",
    "        _durations.append(audio_len/fs)\n",
    "    dur = np.min(_durations)\n",
    "    open_air_8k_room_durations.append(dur)\n",
    "\n",
    "fig, ax = plt.subplots(figsize=(18, 5), constrained_layout=True)\n",
    "fig.suptitle(\"OpenAIR Rooms with Mono and Stereo IRs Duration Histogram\")\n",
    "\n",
    "x_max = max(open_air_8k_room_durations)\n",
    "ax.hist(open_air_8k_room_durations, bins=np.arange(0, x_max+0.5, 0.5))\n",
    "ax.set_xticks(np.arange(0, x_max+0.5, 0.5))\n",
    "ax.set_xlim([0-0.25,x_max+0.5])\n",
    "ax.set_ylabel(\"Count\")\n",
    "ax.grid()\n",
    "plt.show()"
   ]
  },
  {
   "cell_type": "markdown",
   "metadata": {},
   "source": [
    "#### Listen to the rooms"
   ]
  },
  {
   "cell_type": "code",
   "execution_count": null,
   "metadata": {},
   "outputs": [
    {
     "name": "stdout",
     "output_type": "stream",
     "text": [
      "falkland-palace-royal-tennis-court\n",
      "1\n"
     ]
    }
   ],
   "source": [
    "room = open_air_8k_rooms[1]\n",
    "print(room)\n",
    "room_ir_paths = sorted(glob(os.path.join(open_air_8k_dir, room, \"**/*.wav\"), recursive=True))\n",
    "print(len(room_ir_paths))"
   ]
  },
  {
   "cell_type": "code",
   "execution_count": null,
   "metadata": {},
   "outputs": [],
   "source": [
    "audio_path = nafp_music_db_paths[100]\n",
    "audio = audio_processing.load_wav(audio_path, fs=fs)\n",
    "print(audio_path)\n",
    "ipd.display(ipd.Audio(audio, rate=fs))"
   ]
  },
  {
   "cell_type": "code",
   "execution_count": null,
   "metadata": {},
   "outputs": [],
   "source": [
    "for ir_path in room_ir_paths:\n",
    "\n",
    "    ir = audio_processing.load_wav(ir_path, fs=fs)\n",
    "    print(os.path.basename(ir_path))\n",
    "    print(np.max(np.abs(ir)))\n",
    "    print(len(ir)/fs)\n",
    "    ipd.display(ipd.Audio(ir, rate=fs))\n",
    "\n",
    "    audio_room = audio_processing.convolve_with_IR(audio, ir)\n",
    "    ipd.display(ipd.Audio(audio_room[:10*fs], rate=fs))"
   ]
  },
  {
   "cell_type": "markdown",
   "metadata": {},
   "source": [
    "#### Find Mono and Stereo Files"
   ]
  },
  {
   "cell_type": "code",
   "execution_count": 19,
   "metadata": {},
   "outputs": [
    {
     "name": "stdout",
     "output_type": "stream",
     "text": [
      "604\n",
      "56\n"
     ]
    }
   ],
   "source": [
    "open_air_dir = os.path.join(datasets_dir, \"IR\", \"room\", \"OPENAIR\", \"IRs\")\n",
    "open_air_ir_paths = sorted(glob(os.path.join(open_air_dir, \"**/*.wav\"), recursive=True))\n",
    "print(len(open_air_ir_paths))\n",
    "\n",
    "open_air_rooms = sorted([d for d in os.listdir(open_air_dir) if os.path.isdir(os.path.join(open_air_dir, d))])\n",
    "print(len(open_air_rooms))\n",
    "# print('\\n'.join(open_air_rooms))\n",
    "\n",
    "open_air_ir_names = sorted([os.path.basename(path) for path in open_air_ir_paths])\n",
    "# print(len(open_air_ir_names))"
   ]
  },
  {
   "cell_type": "code",
   "execution_count": null,
   "metadata": {},
   "outputs": [
    {
     "name": "stdout",
     "output_type": "stream",
     "text": [
      "['stereo']\n",
      "['b-format']\n",
      "['b-format']\n",
      "['b-format']\n",
      "['b-format']\n",
      "['clifford-tower-IR-Bformat']\n",
      "['b-format', 'mono']\n",
      "['b-format']\n",
      "['stereo']\n",
      "['b-format']\n",
      "['b-format', 'mono', 'stereo', 'surround-5-1']\n",
      "['IR_ScaleModel', 'IR_Streched_ScaleModel']\n",
      "['b-format']\n",
      "['b-format', 'mono']\n",
      "['b-format', 'stereo', 'surround-5-1']\n",
      "['HH-3order-Ambisonic-16channels', 'HH-Bformat']\n",
      "['b-format']\n",
      "['b-format']\n",
      "['auralizations']\n",
      "['Auralization Results-20220429T115329Z-001']\n",
      "['Auralization Results']\n",
      "['b-format', 'mono']\n",
      "['b-format']\n",
      "['b-format', 'mono']\n",
      "['b-format', 'mono']\n",
      "['b-format', 'mono', 'stereo', 'surround-5-1']\n",
      "['B-Format', 'Examples', 'Images', 'Virtual Recreation']\n",
      "['b-format', 'stereo']\n",
      "['b-format']\n",
      "['PL001-3order-Ambisonic-16channels', 'PL001-bformat']\n",
      "['b-format', 'mono', 'stereo', 'surround-5-1']\n",
      "['b-format']\n",
      "['stereo']\n",
      "['b-format', 'mono']\n",
      "['mono']\n",
      "['stereo']\n",
      "['b-format', 'mono', 'stereo', 'surround-5-1']\n",
      "['b-format', 'stereo']\n",
      "['b-format', 'stereo']\n",
      "['stereo']\n",
      "['b-format', 'Video']\n",
      "['b-format', 'stereo']\n",
      "['b-format', 'stereo']\n",
      "['mono']\n",
      "['b-format']\n",
      "['b-format', 'stereo']\n",
      "['stereo']\n",
      "['b-format', 'mono', 'stereo', 'surround-5-1']\n",
      "['b-format', 'mono', 'stereo', 'surround-5-1']\n",
      "['b-format', 'mono']\n",
      "['b-format', 'stereo']\n",
      "['b-format', 'mono', 'stereo', 'surround-5-1']\n",
      "['b-format', 'mono', 'stereo']\n",
      "['mono']\n",
      "['mono']\n",
      "['IR_M30', 'IR_SF']\n",
      "['b-format']\n",
      "['b-format', 'stereo', 'surround-5-1']\n"
     ]
    }
   ],
   "source": [
    "for root, dirs, files in os.walk(open_air_dir):\n",
    "    if root == open_air_dir:\n",
    "        continue\n",
    "    if dirs:\n",
    "        print(dirs)"
   ]
  },
  {
   "cell_type": "markdown",
   "metadata": {},
   "source": [
    "wheldrake-wood/IR_M30/ is mono 2 sources 2 receivers"
   ]
  },
  {
   "cell_type": "code",
   "execution_count": null,
   "metadata": {},
   "outputs": [
    {
     "name": "stdout",
     "output_type": "stream",
     "text": [
      "20\n",
      "15\n"
     ]
    }
   ],
   "source": [
    "open_air_mono_dirs = []\n",
    "open_air_no_mono_stereo_dirs = []\n",
    "for root, dirs, files in os.walk(open_air_dir):\n",
    "\n",
    "    if root == open_air_dir:\n",
    "        continue\n",
    "    if 'mono' in dirs:\n",
    "        # print(root)\n",
    "        open_air_mono_dirs.append(os.path.join(root, 'mono'))\n",
    "    elif 'stereo' in dirs:\n",
    "        open_air_no_mono_stereo_dirs.append(os.path.join(root, 'stereo'))\n",
    "\n",
    "    # edge case of mono\n",
    "    if 'IR_M30' in dirs:\n",
    "        open_air_mono_dirs.append(os.path.join(root, 'IR_M30'))\n",
    "\n",
    "print(len(open_air_mono_dirs))\n",
    "print(len(open_air_no_mono_stereo_dirs))"
   ]
  },
  {
   "cell_type": "code",
   "execution_count": null,
   "metadata": {},
   "outputs": [
    {
     "name": "stdout",
     "output_type": "stream",
     "text": [
      "86\n",
      "73\n"
     ]
    }
   ],
   "source": [
    "open_air_mono_paths = []\n",
    "for root in open_air_mono_dirs:\n",
    "    open_air_mono_paths.extend(glob(os.path.join(root, '**', \"*.wav\"), recursive=True))\n",
    "open_air_mono_paths = sorted(open_air_mono_paths)\n",
    "open_air_mono_names = [os.path.basename(path) for path in open_air_mono_paths]\n",
    "print(len(open_air_mono_paths))\n",
    "\n",
    "open_air_no_mono_stereo_paths = []\n",
    "for root in open_air_no_mono_stereo_dirs:\n",
    "    open_air_no_mono_stereo_paths.extend(glob(os.path.join(root, '**', \"*.wav\"), recursive=True))\n",
    "open_air_no_mono_stereo_paths = sorted(open_air_no_mono_stereo_paths)\n",
    "open_air_no_mono_stereo_names = [os.path.basename(path) for path in open_air_no_mono_stereo_paths]\n",
    "print(len(open_air_no_mono_stereo_paths))"
   ]
  },
  {
   "cell_type": "code",
   "execution_count": null,
   "metadata": {},
   "outputs": [
    {
     "name": "stdout",
     "output_type": "stream",
     "text": [
      "../../datasets/IR/room/OPENAIR-mono/falkland-palace-royal-tennis-court/mono\n",
      "../../datasets/IR/room/OPENAIR-mono/gill-heads-mine/mono\n",
      "../../datasets/IR/room/OPENAIR-mono/innocent-railway-tunnel/mono\n",
      "../../datasets/IR/room/OPENAIR-mono/koli-national-park-summer/mono\n",
      "../../datasets/IR/room/OPENAIR-mono/koli-national-park-winter/mono\n",
      "../../datasets/IR/room/OPENAIR-mono/lady-chapel-st-albans-cathedral/mono\n",
      "../../datasets/IR/room/OPENAIR-mono/r1-nuclear-reactor-hall/mono\n",
      "../../datasets/IR/room/OPENAIR-mono/shrine-and-parish-church-all-saints-north-street-_/mono\n",
      "../../datasets/IR/room/OPENAIR-mono/sports-centre-university-york/mono\n",
      "../../datasets/IR/room/OPENAIR-mono/st-matthews-church-walsall/mono\n",
      "../../datasets/IR/room/OPENAIR-mono/terrys-factory-warehouse/mono\n",
      "../../datasets/IR/room/OPENAIR-mono/terrys-typing-room/mono\n",
      "../../datasets/IR/room/OPENAIR-mono/trollers-gill/mono\n",
      "../../datasets/IR/room/OPENAIR-mono/tyndall-bruce-monument/mono\n",
      "../../datasets/IR/room/OPENAIR-mono/usina-del-arte-symphony-hall/mono\n",
      "../../datasets/IR/room/OPENAIR-mono/waveguide-web-example-audio/mono\n",
      "../../datasets/IR/room/OPENAIR-mono/wheldrake-wood/IR_M30\n"
     ]
    }
   ],
   "source": [
    "openair_monos_new_dir = os.path.join(os.path.dirname(os.path.dirname(open_air_dir)), \"OPENAIR-mono\")\n",
    "os.makedirs(openair_monos_new_dir, exist_ok=True)\n",
    "\n",
    "for ir_dir in open_air_mono_dirs:\n",
    "\n",
    "    # creswell is  empty\n",
    "    # slinky is irrelevant\n",
    "    # virtual-membranes irrelevant\n",
    "    if \"creswell-crags\" in ir_dir or \"slinky-ir\" in ir_dir or \"virtual-membranes\" in ir_dir:\n",
    "        continue\n",
    "\n",
    "    structure = os.sep.join(ir_dir.split(os.sep)[-2:])\n",
    "    new_dir = os.path.join(openair_monos_new_dir, structure)\n",
    "    print(new_dir)\n",
    "    os.makedirs(new_dir, exist_ok=True)\n",
    "\n",
    "    ir_paths = sorted(glob(os.path.join(ir_dir, \"*.wav\")))\n",
    "    for path in ir_paths:\n",
    "        # Duplicate 32khz also exist\n",
    "        if \"r1-nuclear-reactor-hall/mono/r1_omni_48k.wav\" in path:\n",
    "            continue\n",
    "        # Only keep this real file\n",
    "        if \"waveguide-web-example-audio\" in path and \"courtyard_recorded_ir.wav\" != os.path.basename(path):\n",
    "            continue\n",
    "        name = os.path.basename(path)\n",
    "        new_path = os.path.join(new_dir, name)\n",
    "        # shutil.copy(path, new_path)"
   ]
  },
  {
   "cell_type": "code",
   "execution_count": null,
   "metadata": {},
   "outputs": [
    {
     "name": "stdout",
     "output_type": "stream",
     "text": [
      "../../datasets/IR/room/OPENAIR-stereo/1st-baptist-nashville/stereo\n",
      "../../datasets/IR/room/OPENAIR-stereo/elveden-hall-suffolk-england/stereo\n",
      "../../datasets/IR/room/OPENAIR-stereo/hamilton-mausoleum/stereo\n",
      "../../datasets/IR/room/OPENAIR-stereo/maes-howe/stereo\n",
      "../../datasets/IR/room/OPENAIR-stereo/saint-lawrence-church-molenbeek-wersbeek-belgium/stereo\n",
      "../../datasets/IR/room/OPENAIR-stereo/spokane-womans-club/stereo\n",
      "../../datasets/IR/room/OPENAIR-stereo/spring-lane-building-university-york/stereo\n",
      "../../datasets/IR/room/OPENAIR-stereo/st-andrews-church/stereo\n",
      "../../datasets/IR/room/OPENAIR-stereo/st-georges-episcopal-church/stereo\n",
      "../../datasets/IR/room/OPENAIR-stereo/st-margarets-church-ncem-5-piece-band-spatial-measurements/stereo\n",
      "../../datasets/IR/room/OPENAIR-stereo/st-marys-abbey-reconstruction/stereo\n",
      "../../datasets/IR/room/OPENAIR-stereo/st-patricks-church-patrington/stereo\n",
      "../../datasets/IR/room/OPENAIR-stereo/stairway-university-york/stereo\n",
      "../../datasets/IR/room/OPENAIR-stereo/york-minster/stereo\n"
     ]
    }
   ],
   "source": [
    "openair_stereos_new_dir = os.path.join(os.path.dirname(os.path.dirname(open_air_dir)), \"OPENAIR-stereo\")\n",
    "os.makedirs(openair_stereos_new_dir, exist_ok=True)\n",
    "\n",
    "for ir_dir in open_air_no_mono_stereo_dirs:\n",
    "\n",
    "    if \"tvisongur-sound-sculpture-iceland-model\" in ir_dir:\n",
    "        continue\n",
    "\n",
    "    structure = os.sep.join(ir_dir.split(os.sep)[-2:])\n",
    "    new_dir = os.path.join(openair_stereos_new_dir, structure)\n",
    "    print(new_dir)\n",
    "    os.makedirs(new_dir, exist_ok=True)\n",
    "\n",
    "    ir_paths = sorted(glob(os.path.join(ir_dir, \"*.wav\")))\n",
    "    for path in ir_paths:\n",
    "        name = os.path.basename(path)\n",
    "        new_path = os.path.join(new_dir, name)\n",
    "        # print(new_path)\n",
    "        # shutil.copy(path, new_path)"
   ]
  },
  {
   "cell_type": "markdown",
   "metadata": {},
   "source": [
    "### Aachen IR"
   ]
  },
  {
   "cell_type": "code",
   "execution_count": 20,
   "metadata": {},
   "outputs": [
    {
     "name": "stdout",
     "output_type": "stream",
     "text": [
      "224\n"
     ]
    }
   ],
   "source": [
    "aachen_ir_dir = os.path.join(datasets_dir, \"IR\", \"room\", \"AIR_1_4\")\n",
    "aachen_ir_paths = sorted(glob(os.path.join(aachen_ir_dir, \"**/*.wav\"), recursive=True))\n",
    "print(len(aachen_ir_paths))\n",
    "\n",
    "aachen_ir_names = sorted([os.path.basename(path) for path in aachen_ir_paths])"
   ]
  },
  {
   "cell_type": "code",
   "execution_count": 21,
   "metadata": {},
   "outputs": [
    {
     "name": "stdout",
     "output_type": "stream",
     "text": [
      "60\n",
      "6\n",
      "aula_carolina 11\n",
      "booth 6\n",
      "lecture 12\n",
      "meeting 10\n",
      "office 6\n",
      "stairway 15\n"
     ]
    }
   ],
   "source": [
    "aachen_bin_ir_dir = os.path.join(datasets_dir, \"IR\", \"room\", \"AIR_1_4-Binaural_no_dummy_head-from_mat-8khz_16bit\")\n",
    "\n",
    "aachen_bin_ir_paths = sorted(glob(os.path.join(aachen_bin_ir_dir, \"**/*.wav\"), recursive=True))\n",
    "print(len(aachen_bin_ir_paths))\n",
    "\n",
    "aachen_bin_ir_rooms = sorted([d for d in os.listdir(aachen_bin_ir_dir) if os.path.isdir(os.path.join(aachen_bin_ir_dir, d))])\n",
    "print(len(aachen_bin_ir_rooms))\n",
    "for room in aachen_bin_ir_rooms:\n",
    "    room_ir_paths = sorted(glob(os.path.join(aachen_bin_ir_dir, room, \"**/*.wav\"), recursive=True))\n",
    "    print(room, len(room_ir_paths))\n",
    "\n",
    "aachen_bin_ir_names = sorted([os.path.basename(path) for path in aachen_bin_ir_paths])"
   ]
  },
  {
   "cell_type": "markdown",
   "metadata": {},
   "source": [
    "#### Analyze IR durations"
   ]
  },
  {
   "cell_type": "code",
   "execution_count": 7,
   "metadata": {},
   "outputs": [
    {
     "data": {
      "image/png": "[encoded data removed]",
      "text/plain": [
       "<Figure size 1800x500 with 1 Axes>"
      ]
     },
     "metadata": {},
     "output_type": "display_data"
    }
   ],
   "source": [
    "aachen_bin_ir_durations = []\n",
    "for ir_path in aachen_bin_ir_paths:\n",
    "    dur = audio_processing.check_wav_file(ir_path, fs=fs) / fs\n",
    "    aachen_bin_ir_durations.append(dur)\n",
    "\n",
    "fig, ax = plt.subplots(figsize=(18, 5), constrained_layout=True)\n",
    "fig.suptitle(\"AachenIR Dataset BRIR Duration Histogram\")\n",
    "\n",
    "x_max = max(aachen_bin_ir_durations)\n",
    "ax.hist(aachen_bin_ir_durations, bins=np.arange(0, x_max+0.5, 0.5))\n",
    "ax.set_xticks(np.arange(0, x_max+0.5, 0.5))\n",
    "ax.set_xlim([0-0.25,x_max+0.5])\n",
    "ax.set_ylabel(\"Count\")\n",
    "ax.set_xlabel(\"Dur(s)\")\n",
    "ax.grid()\n",
    "plt.show()"
   ]
  },
  {
   "cell_type": "code",
   "execution_count": 8,
   "metadata": {},
   "outputs": [
    {
     "name": "stdout",
     "output_type": "stream",
     "text": [
      "aula_carolina\n",
      "9.987\n",
      "9.987\n",
      "9.987\n",
      "9.986999999999998\n",
      "\n",
      "booth\n",
      "0.682625\n",
      "0.682625\n",
      "0.682625\n",
      "0.6826249999999999\n",
      "\n",
      "lecture\n",
      "1.365375\n",
      "1.365375\n",
      "1.365375\n",
      "1.365375\n",
      "\n",
      "meeting\n",
      "0.682625\n",
      "0.682625\n",
      "0.682625\n",
      "0.682625\n",
      "\n",
      "office\n",
      "0.682625\n",
      "0.682625\n",
      "0.682625\n",
      "0.6826249999999999\n",
      "\n",
      "stairway\n",
      "2.0\n",
      "2.0\n",
      "2.0\n",
      "2.0\n",
      "\n"
     ]
    }
   ],
   "source": [
    "aachen_bin_ir_room_durations = []\n",
    "for room in aachen_bin_ir_rooms:\n",
    "    room_ir_paths = sorted(glob(os.path.join(aachen_bin_ir_dir, room, \"**/*.wav\"), recursive=True))\n",
    "    _durations = []\n",
    "    for ir_path in room_ir_paths:\n",
    "        audio_len = audio_processing.check_wav_file(ir_path, fs=fs)\n",
    "        _durations.append(audio_len/fs)\n",
    "    print(room)\n",
    "    print(np.min(_durations))\n",
    "    print(np.max(_durations))\n",
    "    print(np.median(_durations))\n",
    "    print(np.mean(_durations))\n",
    "    print()\n"
   ]
  },
  {
   "cell_type": "markdown",
   "metadata": {},
   "source": [
    "#### Listen to the rooms"
   ]
  },
  {
   "cell_type": "code",
   "execution_count": null,
   "metadata": {},
   "outputs": [
    {
     "name": "stdout",
     "output_type": "stream",
     "text": [
      "stairway\n"
     ]
    }
   ],
   "source": [
    "room = aachen_bin_ir_rooms[5]\n",
    "print(room)\n",
    "room_ir_paths = sorted(glob(os.path.join(aachen_bin_ir_dir, room, \"**/*.wav\"), recursive=True))"
   ]
  },
  {
   "cell_type": "code",
   "execution_count": null,
   "metadata": {},
   "outputs": [],
   "source": [
    "audio_path = nafp_music_db_paths[100]\n",
    "audio = audio_processing.load_wav(audio_path, fs=fs)\n",
    "print(audio_path)\n",
    "ipd.display(ipd.Audio(audio, rate=fs))"
   ]
  },
  {
   "cell_type": "code",
   "execution_count": null,
   "metadata": {},
   "outputs": [],
   "source": [
    "for ir_path in room_ir_paths:\n",
    "\n",
    "    ir = audio_processing.load_wav(ir_path, fs=fs)\n",
    "    print(os.path.basename(ir_path))\n",
    "    ipd.display(ipd.Audio(ir, rate=fs))\n",
    "\n",
    "    audio_room = audio_processing.convolve_with_IR(audio, ir)\n",
    "    ipd.display(ipd.Audio(audio_room[:5*fs], rate=fs))"
   ]
  },
  {
   "cell_type": "markdown",
   "metadata": {},
   "source": [
    "### MIT"
   ]
  },
  {
   "cell_type": "code",
   "execution_count": 22,
   "metadata": {},
   "outputs": [
    {
     "name": "stdout",
     "output_type": "stream",
     "text": [
      "270\n"
     ]
    }
   ],
   "source": [
    "mit_ir_dir = os.path.join(datasets_dir, \"IR\", \"room\", \"MIT_Survey-8khz_16bit\")\n",
    "mit_ir_paths = sorted(glob(os.path.join(mit_ir_dir, \"**/*.wav\"), recursive=True))\n",
    "print(len(mit_ir_paths))"
   ]
  },
  {
   "cell_type": "markdown",
   "metadata": {},
   "source": [
    "#### Analyze IR durations"
   ]
  },
  {
   "cell_type": "code",
   "execution_count": 10,
   "metadata": {},
   "outputs": [
    {
     "name": "stdout",
     "output_type": "stream",
     "text": [
      "There are 270 IRs\n",
      "Min duration: 0.0948 s\n",
      "Max duration: 1.9991 s\n",
      "Mean duration: 0.6445 s\n",
      "Std duration: 0.4690 s\n",
      "Median duration: 0.5611 s\n",
      "Total duration: 2.9004 m\n",
      "46 files are longer than 1.0 s\n",
      "Total duration of these files: 1.1394 m\n"
     ]
    },
    {
     "data": {
      "image/png": "[encoded data removed]",
      "text/plain": [
       "<Figure size 1800x500 with 1 Axes>"
      ]
     },
     "metadata": {},
     "output_type": "display_data"
    }
   ],
   "source": [
    "T = 1.0\n",
    "\n",
    "mit_ir_durations = []\n",
    "for ir_path in mit_ir_paths:\n",
    "    ir_len = audio_processing.check_wav_file(ir_path, fs=fs)\n",
    "    mit_ir_durations.append(ir_len/fs)\n",
    "# print(\"Train\")\n",
    "print(f\"There are {len(mit_ir_durations)} IRs\")\n",
    "mit_ir_durations = np.array(mit_ir_durations)\n",
    "print(f\"Min duration: {mit_ir_durations.min():.4f} s\")\n",
    "print(f\"Max duration: {mit_ir_durations.max():.4f} s\")\n",
    "print(f\"Mean duration: {mit_ir_durations.mean():.4f} s\")\n",
    "print(f\"Std duration: {mit_ir_durations.std():.4f} s\")\n",
    "print(f\"Median duration: {np.median(mit_ir_durations):.4f} s\")\n",
    "print(f\"Total duration: {mit_ir_durations.sum()/60:.4f} m\")\n",
    "\n",
    "mit_long_ir_durs = [dur for dur in mit_ir_durations if dur > T]\n",
    "print(f\"{len(mit_long_ir_durs)} files are longer than {T} s\")\n",
    "print(f\"Total duration of these files: {sum(mit_long_ir_durs)/60:.4f} m\")\n",
    "\n",
    "fig, ax = plt.subplots(figsize=(18, 5), constrained_layout=True)\n",
    "fig.suptitle(\"MIT IR Dataset Duration Histogram\")\n",
    "\n",
    "x_max = max(mit_ir_durations)\n",
    "delta_t = 0.25\n",
    "\n",
    "ax.hist(mit_ir_durations, bins=np.arange(0, x_max+delta_t, delta_t))\n",
    "# ax.set_title(\"Train Set\")\n",
    "ax.set_xticks(np.arange(0, x_max+delta_t, delta_t))\n",
    "ax.set_xlim([0-(delta_t/2),x_max+(delta_t/2)])\n",
    "ax.set_ylabel(\"Count\")\n",
    "ax.grid()\n",
    "plt.show()"
   ]
  },
  {
   "cell_type": "markdown",
   "metadata": {},
   "source": [
    "#### Listen to the rooms"
   ]
  },
  {
   "cell_type": "code",
   "execution_count": null,
   "metadata": {},
   "outputs": [],
   "source": [
    "audio_path = nafp_music_db_paths[100]\n",
    "audio = audio_processing.load_wav(audio_path, fs=fs)\n",
    "print(audio_path)\n",
    "ipd.display(ipd.Audio(audio, rate=fs))"
   ]
  },
  {
   "cell_type": "code",
   "execution_count": null,
   "metadata": {},
   "outputs": [
    {
     "name": "stdout",
     "output_type": "stream",
     "text": [
      "25 1.776375 h026_Gym_8txts.wav\n",
      "35 1.982 h036_Bathroom_5txts.wav\n",
      "40 1.999125 h041_TrainStation_SouthStationBoston_4txts.wav\n",
      "41 1.9935 h042_Hallway_ElementarySchool_4txts.wav\n",
      "42 1.98225 h043_Train_BostonTRedLine_4txts.wav\n",
      "48 1.99225 h049_MallFoodCourt_BurlingtonMall_3txts.wav\n",
      "59 1.566125 h060_Office_ConferenceRoom_3txts.wav\n",
      "80 1.987125 h081_Shower_2txts.wav\n",
      "93 1.57425 h094_Campground_CabinLivingroom_2txts.wav\n",
      "127 1.992375 h128_Supermarket_1txts.wav\n",
      "132 1.98125 h133_SubwayStation_ParkStreetBoston_1txts.wav\n",
      "138 1.994875 h139_OutsideStreetsOfBoston_1txts.wav\n",
      "177 1.6505 h178_OfficeFoyer_1txts.wav\n",
      "210 1.993 h211_Stairwell_1txts.wav\n",
      "212 1.868625 h213_SubwayStation_CentralSquareCambridge_1txts.wav\n",
      "231 1.659875 h232_Hallway_MITCampus_1txts.wav\n",
      "249 1.87225 h251_Hallway_MITCampus_1txts.wav\n",
      "253 1.52475 h255_MITCampus_StudentLounge_1txts.wav\n",
      "254 1.993375 h256_Stairwell_1txts.wav\n"
     ]
    }
   ],
   "source": [
    "for i,ir_path in enumerate(mit_ir_paths):\n",
    "    ir_dur = audio_processing.check_wav_file(ir_path, fs=fs) / fs\n",
    "    if ir_dur > 1.5:\n",
    "        print(i,ir_dur,os.path.basename(ir_path))"
   ]
  },
  {
   "cell_type": "code",
   "execution_count": null,
   "metadata": {},
   "outputs": [],
   "source": [
    "ir_path = mit_ir_paths[41]\n",
    "\n",
    "ir = audio_processing.load_wav(ir_path, fs=fs)\n",
    "\n",
    "print('IR')\n",
    "print(os.path.basename(ir_path))\n",
    "print(len(ir)/fs)\n",
    "ipd.display(ipd.Audio(ir, rate=fs))\n",
    "\n",
    "print('Music')\n",
    "ipd.display(ipd.Audio(audio[:10*fs], rate=fs))\n",
    "\n",
    "print('Music in Room')\n",
    "audio_room = audio_processing.convolve_with_IR(audio, ir)\n",
    "ipd.display(ipd.Audio(audio_room[:10*fs], rate=fs))"
   ]
  },
  {
   "cell_type": "markdown",
   "metadata": {},
   "source": [
    "### NAFP"
   ]
  },
  {
   "cell_type": "code",
   "execution_count": 23,
   "metadata": {},
   "outputs": [
    {
     "name": "stdout",
     "output_type": "stream",
     "text": [
      "345 IR Training files\n",
      "95 IR Testing files\n"
     ]
    }
   ],
   "source": [
    "nafp_ir_dir = os.path.join(nafp_dataset_dir, \"aug/ir\")\n",
    "\n",
    "nafp_ir_tr_dir = os.path.join(nafp_ir_dir, \"tr\")\n",
    "nafp_ir_tr_paths = glob(os.path.join(nafp_ir_tr_dir, \"*.wav\"))\n",
    "print(f\"{len(nafp_ir_tr_paths)} IR Training files\")\n",
    "\n",
    "nafp_ir_ts_dir = os.path.join(nafp_ir_dir, \"ts\")\n",
    "nafp_ir_ts_paths = glob(os.path.join(nafp_ir_ts_dir, \"*.wav\"))\n",
    "print(f\"{len(nafp_ir_ts_paths)} IR Testing files\")"
   ]
  },
  {
   "cell_type": "markdown",
   "metadata": {},
   "source": [
    "#### Analyze IR durations"
   ]
  },
  {
   "cell_type": "code",
   "execution_count": null,
   "metadata": {},
   "outputs": [
    {
     "name": "stdout",
     "output_type": "stream",
     "text": [
      "Train\n",
      "There are 345 IRs\n",
      "Min duration: 0.0015 s\n",
      "Max duration: 20.2800 s\n",
      "Mean duration: 2.0386 s\n",
      "Std duration: 1.7806 s\n",
      "Median duration: 1.7386 s\n",
      "Total duration: 11.7220 m\n",
      "266 files are longer than 1.0 s\n",
      "Total duration of these files: 11.2952 m\n",
      "\n",
      "Test\n",
      "There are 95 IRs\n",
      "Min duration: 0.0019 s\n",
      "Max duration: 23.0108 s\n",
      "Mean duration: 2.1089 s\n",
      "Std duration: 3.2728 s\n",
      "Median duration: 1.2985 s\n",
      "Total duration: 3.3390 m\n",
      "60 files are longer than 1.0 s\n",
      "Total duration of these files: 3.1111 m\n"
     ]
    },
    {
     "data": {
      "image/png": "[encoded data removed]",
      "text/plain": [
       "<Figure size 1800x500 with 2 Axes>"
      ]
     },
     "metadata": {},
     "output_type": "display_data"
    }
   ],
   "source": [
    "T = 1.0\n",
    "\n",
    "nafp_ir_tr_durations = []\n",
    "for ir_path in nafp_ir_tr_paths:\n",
    "    ir = audio_processing.load_wav(ir_path, fs=fs)\n",
    "    nafp_ir_tr_durations.append(len(ir)/fs)\n",
    "print(\"Train\")\n",
    "print(f\"There are {len(nafp_ir_tr_durations)} IRs\")\n",
    "nafp_ir_tr_durations = np.array(nafp_ir_tr_durations)\n",
    "print(f\"Min duration: {nafp_ir_tr_durations.min():.4f} s\")\n",
    "print(f\"Max duration: {nafp_ir_tr_durations.max():.4f} s\")\n",
    "print(f\"Mean duration: {nafp_ir_tr_durations.mean():.4f} s\")\n",
    "print(f\"Std duration: {nafp_ir_tr_durations.std():.4f} s\")\n",
    "print(f\"Median duration: {np.median(nafp_ir_tr_durations):.4f} s\")\n",
    "print(f\"Total duration: {nafp_ir_tr_durations.sum()/60:.4f} m\")\n",
    "\n",
    "long_ir_tr_durs = [dur for dur in nafp_ir_tr_durations if dur > T]\n",
    "print(f\"{len(long_ir_tr_durs)} files are longer than {T} s\")\n",
    "print(f\"Total duration of these files: {sum(long_ir_tr_durs)/60:.4f} m\")\n",
    "\n",
    "nafp_ir_ts_durations = []\n",
    "for ir_path in nafp_ir_ts_paths:\n",
    "    ir = audio_processing.load_wav(ir_path, fs=fs)\n",
    "    nafp_ir_ts_durations.append(len(ir)/fs)\n",
    "print(\"\\nTest\")\n",
    "print(f\"There are {len(nafp_ir_ts_durations)} IRs\")\n",
    "nafp_ir_ts_durations = np.array(nafp_ir_ts_durations)\n",
    "print(f\"Min duration: {nafp_ir_ts_durations.min():.4f} s\")\n",
    "print(f\"Max duration: {nafp_ir_ts_durations.max():.4f} s\")\n",
    "print(f\"Mean duration: {nafp_ir_ts_durations.mean():.4f} s\")\n",
    "print(f\"Std duration: {nafp_ir_ts_durations.std():.4f} s\")\n",
    "print(f\"Median duration: {np.median(nafp_ir_ts_durations):.4f} s\")\n",
    "print(f\"Total duration: {nafp_ir_ts_durations.sum()/60:.4f} m\")\n",
    "\n",
    "nafp_long_ir_ts_durs = [dur for dur in nafp_ir_ts_durations if dur > T]\n",
    "print(f\"{len(nafp_long_ir_ts_durs)} files are longer than {T} s\")\n",
    "print(f\"Total duration of these files: {sum(nafp_long_ir_ts_durs)/60:.4f} m\")\n",
    "\n",
    "fig, ax = plt.subplots(nrows=2, figsize=(18, 5), constrained_layout=True, sharex=True)\n",
    "fig.suptitle(\"NAFP IR Splits' Duration Histograms\")\n",
    "\n",
    "x_max = max(max(nafp_ir_tr_durations), max(nafp_ir_ts_durations))\n",
    "\n",
    "ax[0].hist(nafp_ir_tr_durations, bins=np.arange(0, x_max+0.5, 0.25))\n",
    "ax[0].set_title(\"Train Set\")\n",
    "\n",
    "ax[1].hist(nafp_ir_ts_durations, bins=np.arange(0, x_max+0.5, 0.25))\n",
    "ax[1].set_title(\"Test Set\")\n",
    "ax[1].set_xlabel(\"Duration (s)\")\n",
    "\n",
    "for _x in ax:\n",
    "    _x.set_xticks(np.arange(0, x_max+0.5, 0.5))\n",
    "    _x.set_xlim([0-0.25,x_max+0.5])\n",
    "    _x.set_ylabel(\"Count\")\n",
    "    _x.grid()\n",
    "plt.show()"
   ]
  },
  {
   "cell_type": "markdown",
   "metadata": {},
   "source": [
    "#### Listen to the rooms"
   ]
  },
  {
   "cell_type": "code",
   "execution_count": null,
   "metadata": {},
   "outputs": [
    {
     "name": "stdout",
     "output_type": "stream",
     "text": [
      "39 23.01075 ../../datasets/neural-audio-fp-dataset/aug/ir/ts/terrys_warehouse_stereo.wav\n",
      "67 20.28 ../../datasets/neural-audio-fp-dataset/aug/ir/ts/r1_ortf-48k.wav\n"
     ]
    }
   ],
   "source": [
    "for i,ir_dur in enumerate(nafp_ir_ts_durations):\n",
    "    if ir_dur > 10.0:\n",
    "        print(i,ir_dur,nafp_ir_ts_paths[i])"
   ]
  },
  {
   "cell_type": "code",
   "execution_count": null,
   "metadata": {},
   "outputs": [],
   "source": [
    "ipd.display(ipd.Audio(nafp_ir_ts_paths[0], rate=fs))"
   ]
  },
  {
   "cell_type": "markdown",
   "metadata": {},
   "source": [
    "#### NAFP IR File Type Analysis"
   ]
  },
  {
   "cell_type": "code",
   "execution_count": 24,
   "metadata": {},
   "outputs": [
    {
     "name": "stdout",
     "output_type": "stream",
     "text": [
      "440\n"
     ]
    }
   ],
   "source": [
    "nafp_ir_paths = sorted(glob(os.path.join(nafp_ir_dir, \"**\", \"*.wav\"), recursive=True))\n",
    "print(len(nafp_ir_paths))"
   ]
  },
  {
   "cell_type": "code",
   "execution_count": 25,
   "metadata": {},
   "outputs": [
    {
     "name": "stdout",
     "output_type": "stream",
     "text": [
      "197\n"
     ]
    },
    {
     "data": {
      "text/plain": [
       "['18a_smoking_room.wav',\n",
       " '1_c414_r.wav',\n",
       " '1_nt1_l.wav',\n",
       " '1a_marble_hall.wav',\n",
       " '3_c414_l.wav',\n",
       " '3_nt1_l.wav',\n",
       " '3_nt1_r.wav',\n",
       " '3a_hats_cloaks_the_lord.wav',\n",
       " '4_c414_r.wav',\n",
       " '4a_hats_cloaks_visitors.wav',\n",
       " '5_c414_r.wav',\n",
       " '5_nt1_r.wav',\n",
       " 'Altec_639.wav',\n",
       " 'Altec_670A.wav',\n",
       " 'Altec_670B.wav',\n",
       " 'American_R331.wav',\n",
       " 'Amperite_RA.wav',\n",
       " 'BBCmarconi_B.wav',\n",
       " 'BeO_BM2.wav',\n",
       " 'BeO_BM6.wav',\n",
       " 'Beomic_1000.wav',\n",
       " 'Beyer_M260.wav',\n",
       " 'Beyer_M360.wav',\n",
       " 'BnO_H9i.wav',\n",
       " 'Coles_4038.wav',\n",
       " 'Cozy_usbmic.wav',\n",
       " 'Doremi_351.wav',\n",
       " 'EMI_ribbon.wav',\n",
       " 'EV_RE20_Flat.wav',\n",
       " 'EV_RE20_HPF.wav',\n",
       " 'Fairpods2.wav',\n",
       " 'FilmIndustries_M8.wav',\n",
       " 'GEC_2373_Ribbon.wav',\n",
       " 'GEC_bigdynamic.wav',\n",
       " 'GNote2.wav',\n",
       " 'Grampian_GR2.wav',\n",
       " 'IR_AKGD12.wav',\n",
       " 'IR_AKG_FaultyD12.wav',\n",
       " 'IR_Astatic77.wav',\n",
       " 'IR_BeyerM500Stock.wav',\n",
       " 'IR_FosterDynamicDF1.wav',\n",
       " 'IR_Framez.wav',\n",
       " 'IR_GaumontKalee.wav',\n",
       " 'IR_Lomo52A5M.wav',\n",
       " 'IR_Meazzi.wav',\n",
       " 'IR_MelodiumRM6.wav',\n",
       " 'IR_OktavaMK18Silver.wav',\n",
       " 'IR_OktavaMK18_Overload.wav',\n",
       " 'IR_OktavaML16.wav',\n",
       " 'IR_RCAKU3a.wav',\n",
       " 'IR_ResloCR600.wav',\n",
       " 'IR_ResloDynamic.wav',\n",
       " 'IR_ResloURA.wav',\n",
       " 'IR_STC4033_Cardioid.wav',\n",
       " 'IR_STC4033_Pressure.wav',\n",
       " 'IR_STC4033_Ribbon.wav',\n",
       " 'IR_Shure510C.wav',\n",
       " 'Melodium_42B_1.wav',\n",
       " 'Melodium_Model12.wav',\n",
       " 'Mote2.wav',\n",
       " 'Oktava_ML19.wav',\n",
       " 'Pillar_usbmic.wav',\n",
       " 'QS7.wav',\n",
       " 'RCA_44BX_1.wav',\n",
       " 'RCA_44BX_2.wav',\n",
       " 'RCA_74B.wav',\n",
       " 'RCA_77DX_1.wav',\n",
       " 'RCA_77DX_2.wav',\n",
       " 'RCA_KU3a_1.wav',\n",
       " 'RCA_PB90.wav',\n",
       " 'RCA_varacoustic_fig8.wav',\n",
       " 'RS3.wav',\n",
       " 'RS7.wav',\n",
       " 'RS8.wav',\n",
       " 'Reslo_RB250.wav',\n",
       " 'Reslo_RB_RedLabel.wav',\n",
       " 'Reslo_RV.wav',\n",
       " 'Reslo_SR1.wav',\n",
       " 'Reslo_VMC2.wav',\n",
       " 'S3.wav',\n",
       " 'S7.wav',\n",
       " 'S8.wav',\n",
       " 'Samsungbundle.wav',\n",
       " 'Shure315_HPF.wav',\n",
       " 'Shure315_flat.wav',\n",
       " 'Sony_C37Fet.wav',\n",
       " 'Telefunken_M201.wav',\n",
       " 'Toshiba_TypeG.wav',\n",
       " 'Toshiba_TypeH_BK5.wav',\n",
       " 'Toshiba_TypeK_HPF.wav',\n",
       " 'Toshiba_TypeK_flat.wav',\n",
       " 'Xiaomipiston.wav',\n",
       " 'Zamsungbundle.wav',\n",
       " 'Zony pcm-a10.wav',\n",
       " 'air_binaural_aula_carolina_1_1_1_90_3.wav',\n",
       " 'air_binaural_booth_0_1_1.wav',\n",
       " 'air_binaural_lecture_1_0_2.wav',\n",
       " 'air_binaural_meeting_1_0_5.wav',\n",
       " 'air_binaural_office_1_1_3.wav',\n",
       " 'air_binaural_stairway_0_1_2_45.wav',\n",
       " 'air_binaural_stairway_1_1_1_60.wav',\n",
       " 'air_binaural_stairway_1_1_3_30.wav',\n",
       " 'air_phone_corridor_hfrp_1.wav',\n",
       " 'air_phone_meeting_hfrp_1.wav',\n",
       " 'air_phone_stairway2_hhp_1.wav',\n",
       " 'axiaomimia1.wav',\n",
       " 'concerthall_1mleft_fl.wav',\n",
       " 'concerthall_2mleft_sr.wav',\n",
       " 'concerthall_8mright_sr.wav',\n",
       " 'concertspeech2mright_sl.wav',\n",
       " 'conecerthall_4mright_fl.wav',\n",
       " 'conecrtspeech8mleft_fr.wav',\n",
       " 'eduleft_sl.wav',\n",
       " 'eduright_fr.wav',\n",
       " 'eduright_sl.wav',\n",
       " 'fakeairpod.wav',\n",
       " 'falkland_tennis_court_ortf.wav',\n",
       " 'gamsungS3.wav',\n",
       " 'hairpodpro.wav',\n",
       " 'hairpods1.wav',\n",
       " 'hearpod.wav',\n",
       " 'iphoneX.wav',\n",
       " 'iphoneX.wav',\n",
       " 'ir_church_saint-laurentius_molenbeek_bekkevoort_belgium.wav',\n",
       " 'jphone6.wav',\n",
       " 'jphoneXS.wav',\n",
       " 'left_fl.wav',\n",
       " 'left_fr.wav',\n",
       " 'left_fr.wav',\n",
       " 'left_sl.wav',\n",
       " 'left_sl.wav',\n",
       " 'left_sr.wav',\n",
       " 'left_sr.wav',\n",
       " 'lyd3_000_ortf_48k.wav',\n",
       " 'music2mright_sl.wav',\n",
       " 'music_2mleft_sl.wav',\n",
       " 'ortf_s1r1.wav',\n",
       " 'ortf_s2r2.wav',\n",
       " 'ortf_s3r3.wav',\n",
       " 'pixel3.wav',\n",
       " 'pobmarley.wav',\n",
       " 'r1_ortf-48k.wav',\n",
       " 'r1_ortf.wav',\n",
       " 'right_fl.wav',\n",
       " 'right_fr.wav',\n",
       " 'right_fr.wav',\n",
       " 'right_sl.wav',\n",
       " 'right_sl.wav',\n",
       " 'right_sr.wav',\n",
       " 'right_sr.wav',\n",
       " 'sennheisermm550x.wav',\n",
       " 'sonicast_dirak_mk2.wav',\n",
       " 'source1domefareceiver2domelabinaural.wav',\n",
       " 'source1domefareceiver3domesibinaural.wav',\n",
       " 'source1domefareceiver4domedobinaural.wav',\n",
       " 'source1domefareceiver5domemibinaural.wav',\n",
       " 'source2domelareceiver4domedobinaural.wav',\n",
       " 'source2domelareceiver5domemibinaural.wav',\n",
       " 'source3domesireceiver4domedobinaural.wav',\n",
       " 'source3domesireceiver5domemibinaural.wav',\n",
       " 'source4domedoreceiver1domefabinaural.wav',\n",
       " 'source4domedoreceiver2domelabinaural.wav',\n",
       " 'source4domedoreceiver3domesibinaural.wav',\n",
       " 'source5domemireceiver2domelabinaural.wav',\n",
       " 'source5domemireceiver3domesibinaural.wav',\n",
       " 'source5domemireceiver4domedobinaural.wav',\n",
       " 'sp1_mp1_ir_stereo_trimmed.wav',\n",
       " 'sp1_mp2_ir_stereo_trimmed.wav',\n",
       " 'sp1_mp3_ir_stereo_trimmed.wav',\n",
       " 'sp1_mp4_ir_stereo_trimmed.wav',\n",
       " 'sp1_mp5_ir_stereo_trimmed.wav',\n",
       " 'sp2_mp1_ir_stereo_trimmed.wav',\n",
       " 'sp2_mp3_ir_stereo_trimmed.wav',\n",
       " 'speech_1mleft_fr.wav',\n",
       " 'speech_2mleft_fr.wav',\n",
       " 'spokane_womans_club_ir.wav',\n",
       " 'sportscentre_ortf.wav',\n",
       " 'st_georges_close.wav',\n",
       " 'st_georges_far.wav',\n",
       " 'st_georges_far.wav',\n",
       " 'st_georges_medium.wav',\n",
       " 'stairwell_ir_stereo_trimmed.wav',\n",
       " 'stairwell_ortf.wav',\n",
       " 'terrys_typing_ortf.wav',\n",
       " 'terrys_warehouse_stereo.wav',\n",
       " 'tyndall_bruce_ortf.wav',\n",
       " 'usina_main_s1_p1.wav',\n",
       " 'usina_main_s1_p3.wav',\n",
       " 'usina_main_s1_p4.wav',\n",
       " 'usina_main_s2_p1.wav',\n",
       " 'usina_main_s2_p2.wav',\n",
       " 'usina_main_s2_p3.wav',\n",
       " 'usina_main_s2_p4.wav',\n",
       " 'usina_main_s2_p5.wav',\n",
       " 'vegabundle.wav',\n",
       " 'xiaomi_mi_airdots2.wav',\n",
       " 'xiaomimia1.wav']"
      ]
     },
     "execution_count": 25,
     "metadata": {},
     "output_type": "execute_result"
    }
   ],
   "source": [
    "# __ signifies that a RIR is convolved with a MIR\n",
    "nafp_ir_paths_filtered = sorted([path for path in nafp_ir_paths if \"__\" not in path])\n",
    "print(len(nafp_ir_paths_filtered))\n",
    "\n",
    "nafp_ir_names_filtered = sorted([os.path.basename(path) for path in nafp_ir_paths_filtered])\n",
    "nafp_ir_names_filtered"
   ]
  },
  {
   "cell_type": "code",
   "execution_count": 27,
   "metadata": {},
   "outputs": [
    {
     "name": "stdout",
     "output_type": "stream",
     "text": [
      "0\n",
      "59\n"
     ]
    }
   ],
   "source": [
    "nafp_aachen_names = sorted(list(set(nafp_ir_names_filtered).intersection(set(aachen_ir_names))))\n",
    "print(len(nafp_aachen_names))\n",
    "\n",
    "nafp_open_air_names = sorted(list(set(nafp_ir_names_filtered).intersection(set(open_air_ir_names))))\n",
    "print(len(nafp_open_air_names))"
   ]
  },
  {
   "cell_type": "code",
   "execution_count": 29,
   "metadata": {},
   "outputs": [
    {
     "name": "stdout",
     "output_type": "stream",
     "text": [
      "11\n"
     ]
    }
   ],
   "source": [
    "nafp_air_ir_names = [\n",
    "    'air_binaural_aula_carolina_1_1_1_90_3.wav',\n",
    "    'air_binaural_booth_0_1_1.wav',\n",
    "    'air_binaural_lecture_1_0_2.wav',\n",
    "    'air_binaural_meeting_1_0_5.wav',\n",
    "    'air_binaural_office_1_1_3.wav',\n",
    "    'air_binaural_stairway_0_1_2_45.wav',\n",
    "    'air_binaural_stairway_1_1_1_60.wav',\n",
    "    'air_binaural_stairway_1_1_3_30.wav',\n",
    "    'air_phone_corridor_hfrp_1.wav',\n",
    "    'air_phone_meeting_hfrp_1.wav',\n",
    "    'air_phone_stairway2_hhp_1.wav',\n",
    "]\n",
    "print(len(nafp_air_ir_names))"
   ]
  },
  {
   "cell_type": "code",
   "execution_count": 30,
   "metadata": {},
   "outputs": [
    {
     "data": {
      "text/plain": [
       "['Altec_639.wav',\n",
       " 'Altec_670A.wav',\n",
       " 'Altec_670B.wav',\n",
       " 'American_R331.wav',\n",
       " 'Amperite_RA.wav',\n",
       " 'BBCmarconi_B.wav',\n",
       " 'BeO_BM2.wav',\n",
       " 'BeO_BM6.wav',\n",
       " 'Beomic_1000.wav',\n",
       " 'Beyer_M260.wav',\n",
       " 'Beyer_M360.wav',\n",
       " 'BnO_H9i.wav',\n",
       " 'Coles_4038.wav',\n",
       " 'Cozy_usbmic.wav',\n",
       " 'Doremi_351.wav',\n",
       " 'EMI_ribbon.wav',\n",
       " 'EV_RE20_Flat.wav',\n",
       " 'EV_RE20_HPF.wav',\n",
       " 'Fairpods2.wav',\n",
       " 'FilmIndustries_M8.wav',\n",
       " 'GEC_2373_Ribbon.wav',\n",
       " 'GEC_bigdynamic.wav',\n",
       " 'GNote2.wav',\n",
       " 'Grampian_GR2.wav',\n",
       " 'IR_AKGD12.wav',\n",
       " 'IR_AKG_FaultyD12.wav',\n",
       " 'IR_Astatic77.wav',\n",
       " 'IR_BeyerM500Stock.wav',\n",
       " 'IR_FosterDynamicDF1.wav',\n",
       " 'IR_Framez.wav',\n",
       " 'IR_GaumontKalee.wav',\n",
       " 'IR_Lomo52A5M.wav',\n",
       " 'IR_Meazzi.wav',\n",
       " 'IR_MelodiumRM6.wav',\n",
       " 'IR_OktavaMK18Silver.wav',\n",
       " 'IR_OktavaMK18_Overload.wav',\n",
       " 'IR_OktavaML16.wav',\n",
       " 'IR_RCAKU3a.wav',\n",
       " 'IR_ResloCR600.wav',\n",
       " 'IR_ResloDynamic.wav',\n",
       " 'IR_ResloURA.wav',\n",
       " 'IR_STC4033_Cardioid.wav',\n",
       " 'IR_STC4033_Pressure.wav',\n",
       " 'IR_STC4033_Ribbon.wav',\n",
       " 'IR_Shure510C.wav',\n",
       " 'Melodium_42B_1.wav',\n",
       " 'Melodium_Model12.wav',\n",
       " 'Mote2.wav',\n",
       " 'Oktava_ML19.wav',\n",
       " 'Pillar_usbmic.wav',\n",
       " 'QS7.wav',\n",
       " 'RCA_44BX_1.wav',\n",
       " 'RCA_44BX_2.wav',\n",
       " 'RCA_74B.wav',\n",
       " 'RCA_77DX_1.wav',\n",
       " 'RCA_77DX_2.wav',\n",
       " 'RCA_KU3a_1.wav',\n",
       " 'RCA_PB90.wav',\n",
       " 'RCA_varacoustic_fig8.wav',\n",
       " 'RS3.wav',\n",
       " 'RS7.wav',\n",
       " 'RS8.wav',\n",
       " 'Reslo_RB250.wav',\n",
       " 'Reslo_RB_RedLabel.wav',\n",
       " 'Reslo_RV.wav',\n",
       " 'Reslo_SR1.wav',\n",
       " 'Reslo_VMC2.wav',\n",
       " 'S3.wav',\n",
       " 'S7.wav',\n",
       " 'S8.wav',\n",
       " 'Samsungbundle.wav',\n",
       " 'Shure315_HPF.wav',\n",
       " 'Shure315_flat.wav',\n",
       " 'Sony_C37Fet.wav',\n",
       " 'Telefunken_M201.wav',\n",
       " 'Toshiba_TypeG.wav',\n",
       " 'Toshiba_TypeH_BK5.wav',\n",
       " 'Toshiba_TypeK_HPF.wav',\n",
       " 'Toshiba_TypeK_flat.wav',\n",
       " 'Xiaomipiston.wav',\n",
       " 'Zamsungbundle.wav',\n",
       " 'Zony pcm-a10.wav',\n",
       " 'axiaomimia1.wav',\n",
       " 'concerthall_1mleft_fl.wav',\n",
       " 'concerthall_2mleft_sr.wav',\n",
       " 'concerthall_8mright_sr.wav',\n",
       " 'concertspeech2mright_sl.wav',\n",
       " 'conecerthall_4mright_fl.wav',\n",
       " 'conecrtspeech8mleft_fr.wav',\n",
       " 'eduleft_sl.wav',\n",
       " 'eduright_fr.wav',\n",
       " 'eduright_sl.wav',\n",
       " 'fakeairpod.wav',\n",
       " 'gamsungS3.wav',\n",
       " 'hairpodpro.wav',\n",
       " 'hairpods1.wav',\n",
       " 'hearpod.wav',\n",
       " 'iphoneX.wav',\n",
       " 'jphone6.wav',\n",
       " 'jphoneXS.wav',\n",
       " 'left_fl.wav',\n",
       " 'left_fr.wav',\n",
       " 'left_sl.wav',\n",
       " 'left_sr.wav',\n",
       " 'music2mright_sl.wav',\n",
       " 'music_2mleft_sl.wav',\n",
       " 'pixel3.wav',\n",
       " 'pobmarley.wav',\n",
       " 'right_fl.wav',\n",
       " 'right_fr.wav',\n",
       " 'right_sl.wav',\n",
       " 'right_sr.wav',\n",
       " 'sennheisermm550x.wav',\n",
       " 'sonicast_dirak_mk2.wav',\n",
       " 'speech_1mleft_fr.wav',\n",
       " 'speech_2mleft_fr.wav',\n",
       " 'vegabundle.wav',\n",
       " 'xiaomi_mi_airdots2.wav',\n",
       " 'xiaomimia1.wav']"
      ]
     },
     "execution_count": 30,
     "metadata": {},
     "output_type": "execute_result"
    }
   ],
   "source": [
    "sorted(list(set(nafp_ir_names_filtered).difference(nafp_open_air_names).difference(nafp_air_ir_names)))"
   ]
  },
  {
   "cell_type": "code",
   "execution_count": 69,
   "metadata": {},
   "outputs": [
    {
     "name": "stdout",
     "output_type": "stream",
     "text": [
      "65\n",
      "65\n"
     ]
    }
   ],
   "source": [
    "vintage_microphone_names = [\n",
    "    'Altec_639.wav',\n",
    "    'Altec_670A.wav',\n",
    "    'Altec_670B.wav',\n",
    "    'American_R331.wav',\n",
    "    'Amperite_RA.wav',\n",
    "    'BBCmarconi_B.wav',\n",
    "    'BeO_BM2.wav',\n",
    "    'BeO_BM6.wav',\n",
    "    'Beomic_1000.wav',\n",
    "    'Beyer_M260.wav',\n",
    "    'Beyer_M360.wav',\n",
    "    'Coles_4038.wav',\n",
    "    'Doremi_351.wav',\n",
    "    'EMI_ribbon.wav',\n",
    "    'EV_RE20_Flat.wav',\n",
    "    'EV_RE20_HPF.wav',\n",
    "    'FilmIndustries_M8.wav',\n",
    "    'GEC_2373_Ribbon.wav',\n",
    "    'GEC_bigdynamic.wav',\n",
    "    'Grampian_GR2.wav',\n",
    "    'IR_AKGD12.wav',\n",
    "    'IR_AKG_FaultyD12.wav',\n",
    "    'IR_Astatic77.wav',\n",
    "    'IR_BeyerM500Stock.wav',\n",
    "    'IR_FosterDynamicDF1.wav',\n",
    "    'IR_Framez.wav',\n",
    "    'IR_GaumontKalee.wav',\n",
    "    'IR_Lomo52A5M.wav',\n",
    "    'IR_Meazzi.wav',\n",
    "    'IR_MelodiumRM6.wav',\n",
    "    'IR_OktavaMK18Silver.wav',\n",
    "    'IR_OktavaMK18_Overload.wav',\n",
    "    'IR_OktavaML16.wav',\n",
    "    'IR_RCAKU3a.wav',\n",
    "    'IR_ResloCR600.wav',\n",
    "    'IR_ResloDynamic.wav',\n",
    "    'IR_ResloURA.wav',\n",
    "    'IR_STC4033_Cardioid.wav',\n",
    "    'IR_STC4033_Pressure.wav',\n",
    "    'IR_STC4033_Ribbon.wav',\n",
    "    'IR_Shure510C.wav',\n",
    "    'Melodium_42B_1.wav',\n",
    "    'Melodium_Model12.wav',\n",
    "    'Oktava_ML19.wav',\n",
    "    'RCA_44BX_1.wav',\n",
    "    'RCA_44BX_2.wav',\n",
    "    'RCA_74B.wav',\n",
    "    'RCA_77DX_1.wav',\n",
    "    'RCA_77DX_2.wav',\n",
    "    'RCA_KU3a_1.wav',\n",
    "    'RCA_PB90.wav',\n",
    "    'RCA_varacoustic_fig8.wav',\n",
    "    'Reslo_RB250.wav',\n",
    "    'Reslo_RB_RedLabel.wav',\n",
    "    'Reslo_RV.wav',\n",
    "    'Reslo_SR1.wav',\n",
    "    'Reslo_VMC2.wav',\n",
    "    'Shure315_HPF.wav',\n",
    "    'Shure315_flat.wav',\n",
    "    'Sony_C37Fet.wav',\n",
    "    'Telefunken_M201.wav',\n",
    "    'Toshiba_TypeG.wav',\n",
    "    'Toshiba_TypeH_BK5.wav',\n",
    "    'Toshiba_TypeK_HPF.wav',\n",
    "    'Toshiba_TypeK_flat.wav',\n",
    "]\n",
    "print(len(vintage_microphone_names))\n",
    "\n",
    "nafp_vintage_mic_ir_paths = [ir_path for ir_path in nafp_ir_paths_filtered if os.path.basename(ir_path) in vintage_microphone_names]\n",
    "print(len(nafp_vintage_mic_ir_paths))"
   ]
  },
  {
   "cell_type": "code",
   "execution_count": 98,
   "metadata": {},
   "outputs": [],
   "source": [
    "nafp_other_microphone_names = [\n",
    "    'Cozy_usbmic.wav', # usb Mic computer\n",
    "    'Pillar_usbmic.wav',\n",
    "    'Zony pcm-a10.wav', # Sony PCM-A10 good quality microphone\n",
    "]"
   ]
  },
  {
   "cell_type": "code",
   "execution_count": 110,
   "metadata": {},
   "outputs": [
    {
     "name": "stdout",
     "output_type": "stream",
     "text": [
      "16\n",
      "17\n"
     ]
    }
   ],
   "source": [
    "nafp_phone_microphone_names = [\n",
    "    'GNote2.wav',\n",
    "    'xiaomi_mi_airdots2.wav',\n",
    "    'xiaomimia1.wav',\n",
    "    'iphoneX.wav',\n",
    "    'jphone6.wav',\n",
    "    'jphoneXS.wav',\n",
    "    'gamsungS3.wav',\n",
    "    'S3.wav',\n",
    "    'S7.wav',\n",
    "    'S8.wav',\n",
    "    'Samsungbundle.wav',\n",
    "    'Xiaomipiston.wav',\n",
    "    'Zamsungbundle.wav',\n",
    "    'Mote2.wav', # not sure if Note2 phone\n",
    "    'axiaomimia1.wav',\n",
    "    'pixel3.wav',\n",
    "]\n",
    "print(len(nafp_phone_microphone_names))\n",
    "\n",
    "# iphoneX.wav is both in tr and ts!!!!\n",
    "nafp_phone_mic_paths = [ir_path for ir_path in nafp_ir_paths_filtered if os.path.basename(ir_path) in nafp_phone_microphone_names]\n",
    "print(len(nafp_phone_mic_paths))"
   ]
  },
  {
   "cell_type": "code",
   "execution_count": 102,
   "metadata": {},
   "outputs": [
    {
     "name": "stdout",
     "output_type": "stream",
     "text": [
      "8\n",
      "8\n"
     ]
    }
   ],
   "source": [
    "nafp_headphone_names = [\n",
    "    'BnO_H9i.wav', # headphone\n",
    "    'Fairpods2.wav', # I guess apple airpods\n",
    "    'fakeairpod.wav',\n",
    "    'hairpodpro.wav',\n",
    "    'hairpods1.wav',\n",
    "    'hearpod.wav',\n",
    "    'sennheisermm550x.wav', # headphone\n",
    "    'sonicast_dirak_mk2.wav', # Sonicast Dirac+ MK2 headphone\n",
    "]\n",
    "print(len(nafp_headphone_names))\n",
    "\n",
    "nafp_headphone_ir_paths = [ir_path for ir_path in nafp_ir_paths_filtered if os.path.basename(ir_path) in nafp_headphone_names]\n",
    "print(len(nafp_headphone_ir_paths))"
   ]
  },
  {
   "cell_type": "code",
   "execution_count": 101,
   "metadata": {},
   "outputs": [
    {
     "name": "stdout",
     "output_type": "stream",
     "text": [
      "27\n"
     ]
    },
    {
     "data": {
      "text/plain": [
       "['QS7.wav',\n",
       " 'RS3.wav',\n",
       " 'RS7.wav',\n",
       " 'RS8.wav',\n",
       " 'concerthall_1mleft_fl.wav',\n",
       " 'concerthall_2mleft_sr.wav',\n",
       " 'concerthall_8mright_sr.wav',\n",
       " 'concertspeech2mright_sl.wav',\n",
       " 'conecerthall_4mright_fl.wav',\n",
       " 'conecrtspeech8mleft_fr.wav',\n",
       " 'eduleft_sl.wav',\n",
       " 'eduright_fr.wav',\n",
       " 'eduright_sl.wav',\n",
       " 'left_fl.wav',\n",
       " 'left_fr.wav',\n",
       " 'left_sl.wav',\n",
       " 'left_sr.wav',\n",
       " 'music2mright_sl.wav',\n",
       " 'music_2mleft_sl.wav',\n",
       " 'pobmarley.wav',\n",
       " 'right_fl.wav',\n",
       " 'right_fr.wav',\n",
       " 'right_sl.wav',\n",
       " 'right_sr.wav',\n",
       " 'speech_1mleft_fr.wav',\n",
       " 'speech_2mleft_fr.wav',\n",
       " 'vegabundle.wav']"
      ]
     },
     "execution_count": 101,
     "metadata": {},
     "output_type": "execute_result"
    }
   ],
   "source": [
    "nafp_unkown_ir_names = sorted(list(set(nafp_ir_names_filtered).difference(nafp_open_air_names).difference(nafp_air_ir_names).difference(vintage_microphone_names).difference(nafp_other_microphone_names).difference(nafp_phone_microphone_names).difference(nafp_headphone_names)))\n",
    "print(len(nafp_unkown_ir_names))\n",
    "nafp_unkown_ir_names"
   ]
  },
  {
   "cell_type": "markdown",
   "metadata": {},
   "source": [
    "### NMFP"
   ]
  },
  {
   "cell_type": "code",
   "execution_count": 12,
   "metadata": {},
   "outputs": [
    {
     "name": "stdout",
     "output_type": "stream",
     "text": [
      "364\n",
      "109\n"
     ]
    }
   ],
   "source": [
    "nafp_pp_room_ir_dir = os.path.join(nafp_pp_dataset_dir, \"aug\", \"room_ir\")\n",
    "\n",
    "nafp_pp_tr_room_ir_paths = sorted(glob(os.path.join(nafp_pp_room_ir_dir, \"dev\", \"**\", \"*.wav\"), recursive=True))\n",
    "print(len(nafp_pp_tr_room_ir_paths))\n",
    "\n",
    "nafp_pp_ts_room_ir_paths = sorted(glob(os.path.join(nafp_pp_room_ir_dir, \"test\", \"**\", \"*.wav\"), recursive=True))\n",
    "print(len(nafp_pp_ts_room_ir_paths))"
   ]
  },
  {
   "cell_type": "code",
   "execution_count": 14,
   "metadata": {},
   "outputs": [
    {
     "data": {
      "image/png": "[encoded data removed]",
      "text/plain": [
       "<Figure size 1800x1000 with 2 Axes>"
      ]
     },
     "metadata": {},
     "output_type": "display_data"
    }
   ],
   "source": [
    "nafp_pp_tr_room_ir_durations = []\n",
    "for ir_path in nafp_pp_tr_room_ir_paths:\n",
    "    ir = audio_processing.load_wav(ir_path, fs=fs)\n",
    "    nafp_pp_tr_room_ir_durations.append(len(ir)/fs)\n",
    "nafp_pp_tr_room_ir_durations = np.array(nafp_pp_tr_room_ir_durations)\n",
    "\n",
    "nafp_pp_ts_room_ir_durations = []\n",
    "for ir_path in nafp_pp_ts_room_ir_paths:\n",
    "    ir = audio_processing.load_wav(ir_path, fs=fs)\n",
    "    nafp_pp_ts_room_ir_durations.append(len(ir)/fs)\n",
    "nafp_pp_ts_room_ir_durations = np.array(nafp_pp_ts_room_ir_durations)\n",
    "\n",
    "fig, ax = plt.subplots(nrows=2, figsize=(18, 10), constrained_layout=True, sharex=True)\n",
    "fig.suptitle(\"NAFP_PP Room IR Splits Duration Histograms\")\n",
    "\n",
    "x_max = max(max(nafp_pp_tr_room_ir_durations), max(nafp_pp_ts_room_ir_durations))\n",
    "\n",
    "ax[0].hist(nafp_pp_tr_room_ir_durations, bins=np.arange(0, x_max+0.5, 0.25))\n",
    "ax[0].set_title(\"Train Set\")\n",
    "\n",
    "ax[1].hist(nafp_pp_ts_room_ir_durations, bins=np.arange(0, x_max+0.5, 0.25))\n",
    "ax[1].set_title(\"Test Set\")\n",
    "ax[1].set_xlabel(\"Duration (s)\")\n",
    "\n",
    "for _x in ax:\n",
    "    _x.set_xticks(np.arange(0, x_max+0.5, 0.5))\n",
    "    _x.set_xlim([0-0.25,x_max+0.5])\n",
    "    _x.set_ylabel(\"Count\")\n",
    "    _x.grid()\n",
    "plt.show()"
   ]
  },
  {
   "cell_type": "code",
   "execution_count": 16,
   "metadata": {},
   "outputs": [
    {
     "name": "stdout",
     "output_type": "stream",
     "text": [
      "MIT dev 216\n",
      "MIT test 54\n",
      "OPENAIR dev 105\n",
      "OPENAIR test 38\n",
      "AachenIR dev 43\n",
      "AachenIR test 17\n"
     ]
    }
   ],
   "source": [
    "for dataset_name in [\"MIT\", 'OPENAIR', 'AachenIR']:\n",
    "    for split_name in [\"dev\", \"test\"]:\n",
    "        split_dir = os.path.join(nafp_pp_room_ir_dir, split_name, dataset_name)\n",
    "        split_paths = sorted(glob(os.path.join(split_dir, \"**\", \"*.wav\"), recursive=True))\n",
    "        print(f\"{dataset_name} {split_name} {len(split_paths)}\")"
   ]
  },
  {
   "cell_type": "code",
   "execution_count": 15,
   "metadata": {},
   "outputs": [
    {
     "data": {
      "image/png": "[encoded data removed]",
      "text/plain": [
       "<Figure size 1800x1000 with 6 Axes>"
      ]
     },
     "metadata": {},
     "output_type": "display_data"
    }
   ],
   "source": [
    "fig, axs = plt.subplots(nrows=3, ncols=2, figsize=(18, 10), constrained_layout=True, sharex=True)\n",
    "fig.suptitle(\"NAFP_PP Room IR Splits Duration Histograms\")\n",
    "\n",
    "for row,dataset_name in zip(axs, [\"MIT\", 'OPENAIR', 'AachenIR']):\n",
    "    for ax,split_name in zip(row, [\"dev\", \"test\"]):\n",
    "        split_dir = os.path.join(nafp_pp_room_ir_dir, split_name, dataset_name)\n",
    "        split_paths = sorted(glob(os.path.join(split_dir, \"**\", \"*.wav\"), recursive=True))\n",
    "        split_durations = []\n",
    "        for ir_path in split_paths:\n",
    "            ir = audio_processing.load_wav(ir_path, fs=fs)\n",
    "            split_durations.append(len(ir)/fs)\n",
    "        split_durations = np.array(split_durations)\n",
    "        x_max = max(split_durations)\n",
    "        ax.hist(split_durations, bins=np.arange(0, x_max+0.25, 0.25))\n",
    "        ax.set_title(f\"{dataset_name} {split_name} Set\")\n",
    "        ax.set_xticks(np.arange(0, 24, 1))\n",
    "        ax.set_xlim([0,23])\n",
    "        ax.set_ylabel(\"Count\")\n",
    "        ax.grid()\n",
    "plt.show()\n"
   ]
  },
  {
   "cell_type": "markdown",
   "metadata": {},
   "source": [
    "### Split IRs"
   ]
  },
  {
   "cell_type": "code",
   "execution_count": 10,
   "metadata": {},
   "outputs": [],
   "source": [
    "from collections import Counter\n",
    "import shutil\n",
    "\n",
    "from sklearn.model_selection import train_test_split"
   ]
  },
  {
   "cell_type": "markdown",
   "metadata": {},
   "source": [
    "##### Aachen IR"
   ]
  },
  {
   "cell_type": "code",
   "execution_count": 11,
   "metadata": {},
   "outputs": [],
   "source": [
    "aachen_bin_ir_rooms_tr = ['meeting', 'lecture', 'stairway', 'office']\n",
    "aachen_bin_ir_rooms_ts = ['aula_carolina', 'booth']"
   ]
  },
  {
   "cell_type": "markdown",
   "metadata": {},
   "source": [
    "#### MIT"
   ]
  },
  {
   "cell_type": "code",
   "execution_count": 14,
   "metadata": {},
   "outputs": [
    {
     "name": "stdout",
     "output_type": "stream",
     "text": [
      "There are 270 IRs\n",
      "{\n",
      "    \"1\": 52,\n",
      "    \"2\": 72,\n",
      "    \"0\": 65,\n",
      "    \"4\": 17,\n",
      "    \"3\": 35,\n",
      "    \"5\": 10,\n",
      "    \"7\": 14,\n",
      "    \"6\": 5\n",
      "}\n"
     ]
    }
   ],
   "source": [
    "mit_ir_durations = []\n",
    "mit_labels = []\n",
    "for ir_path in mit_ir_paths:\n",
    "    ir_len = audio_processing.check_wav_file(ir_path, fs=fs)\n",
    "    ir_dur = ir_len/fs\n",
    "    mit_ir_durations.append(ir_dur)\n",
    "    if ir_dur < 0.25:\n",
    "        mit_labels.append(\"0\")\n",
    "    elif ir_dur < 0.5:\n",
    "        mit_labels.append(\"1\")\n",
    "    elif ir_dur < 0.75:\n",
    "        mit_labels.append(\"2\")\n",
    "    elif ir_dur < 1.0:\n",
    "        mit_labels.append(\"3\")\n",
    "    elif ir_dur < 1.25:\n",
    "        mit_labels.append(\"4\")\n",
    "    elif ir_dur < 1.5:\n",
    "        mit_labels.append(\"5\")\n",
    "    elif ir_dur < 1.75:\n",
    "        mit_labels.append(\"6\")\n",
    "    else:\n",
    "        mit_labels.append(\"7\")\n",
    "\n",
    "# print(\"Train\")\n",
    "print(f\"There are {len(mit_ir_durations)} IRs\")\n",
    "mit_ir_durations = np.array(mit_ir_durations)\n",
    "\n",
    "counter = Counter(mit_labels)\n",
    "print(json.dumps(counter, indent=4))"
   ]
  },
  {
   "cell_type": "code",
   "execution_count": 15,
   "metadata": {},
   "outputs": [
    {
     "name": "stdout",
     "output_type": "stream",
     "text": [
      "216\n",
      "54\n"
     ]
    }
   ],
   "source": [
    "mit_train_paths, mit_test_paths = train_test_split(mit_ir_paths, test_size=0.20, random_state=27, stratify=mit_labels)\n",
    "print(len(mit_train_paths))\n",
    "print(len(mit_test_paths))"
   ]
  },
  {
   "cell_type": "code",
   "execution_count": 16,
   "metadata": {},
   "outputs": [
    {
     "data": {
      "text/plain": [
       "set()"
      ]
     },
     "execution_count": 16,
     "metadata": {},
     "output_type": "execute_result"
    }
   ],
   "source": [
    "set(mit_train_paths).intersection(set(mit_test_paths))"
   ]
  },
  {
   "cell_type": "code",
   "execution_count": 19,
   "metadata": {},
   "outputs": [
    {
     "data": {
      "image/png": "[encoded data removed]",
      "text/plain": [
       "<Figure size 1800x500 with 2 Axes>"
      ]
     },
     "metadata": {},
     "output_type": "display_data"
    }
   ],
   "source": [
    "mit_ir_tr_durations = []\n",
    "for ir_path in mit_train_paths:\n",
    "    audio_len = audio_processing.check_wav_file(ir_path, fs=fs)\n",
    "    mit_ir_tr_durations.append(audio_len/fs)\n",
    "\n",
    "mit_ir_ts_durations = []\n",
    "for ir_path in mit_test_paths:\n",
    "    audio_len = audio_processing.check_wav_file(ir_path, fs=fs)\n",
    "    mit_ir_ts_durations.append(audio_len/fs)\n",
    "\n",
    "fig, ax = plt.subplots(nrows=2, figsize=(18, 5), constrained_layout=True, sharex=True)\n",
    "fig.suptitle(\"MIT IR Splits' Duration Histograms\")\n",
    "\n",
    "x_max = max(max(mit_ir_tr_durations), max(mit_ir_ts_durations))\n",
    "\n",
    "ax[0].hist(mit_ir_tr_durations, bins=np.arange(0, x_max+0.1, 0.25))\n",
    "ax[0].set_title(\"Train Set\")\n",
    "\n",
    "ax[1].hist(mit_ir_ts_durations, bins=np.arange(0, x_max+0.1, 0.25))\n",
    "ax[1].set_title(\"Test Set\")\n",
    "ax[1].set_xlabel(\"Duration (s)\")\n",
    "\n",
    "for _x in ax:\n",
    "    _x.set_xticks(np.arange(0, x_max+0.05, 0.25))\n",
    "    _x.set_xlim([0-0.05,x_max+0.05])\n",
    "    _x.set_ylabel(\"Count\")\n",
    "    _x.grid()\n",
    "plt.show()"
   ]
  },
  {
   "cell_type": "code",
   "execution_count": 21,
   "metadata": {},
   "outputs": [],
   "source": [
    "nafp_pp_room_ir_dir = os.path.join(nafp_pp_dataset_dir, \"aug\", \"room_ir\")\n",
    "\n",
    "new_ir_tr_dir = os.path.join(nafp_pp_room_ir_dir, 'dev', 'MIT')\n",
    "new_ir_ts_dir = os.path.join(nafp_pp_room_ir_dir, 'test', 'MIT')\n",
    "\n",
    "os.makedirs(new_ir_tr_dir, exist_ok=True)\n",
    "os.makedirs(new_ir_ts_dir, exist_ok=True)\n",
    "\n",
    "for ir_path in mit_train_paths:\n",
    "    shutil.copy(ir_path, new_ir_tr_dir)\n",
    "\n",
    "for ir_path in mit_test_paths:\n",
    "    shutil.copy(ir_path, new_ir_ts_dir)"
   ]
  },
  {
   "cell_type": "markdown",
   "metadata": {},
   "source": [
    "#### OpenAIR Split by Rooms Stratified by Room duration"
   ]
  },
  {
   "cell_type": "code",
   "execution_count": 15,
   "metadata": {},
   "outputs": [
    {
     "name": "stdout",
     "output_type": "stream",
     "text": [
      "elveden-hall-suffolk-england 7.94 E\n",
      "falkland-palace-royal-tennis-court 4.80 B\n",
      "gill-heads-mine 5.00 C\n",
      "hamilton-mausoleum 15.00 E\n",
      "innocent-railway-tunnel 5.00 C\n",
      "koli-national-park-summer 5.00 C\n",
      "koli-national-park-winter 5.00 C\n",
      "lady-chapel-st-albans-cathedral 6.00 D\n",
      "maes-howe 1.00 A\n",
      "r1-nuclear-reactor-hall 19.94 F\n",
      "saint-lawrence-church-molenbeek-wersbeek-belgium 1.10 A\n",
      "shrine-and-parish-church-all-saints-north-street-_ 15.00 E\n",
      "spokane-womans-club 6.00 D\n",
      "sports-centre-university-york 9.80 E\n",
      "spring-lane-building-university-york 3.89 B\n",
      "st-andrews-church 2.00 A\n",
      "st-margarets-church-ncem-5-piece-band-spatial-measurements 2.00 A\n",
      "st-matthews-church-walsall 3.00 B\n",
      "st-patricks-church-patrington 6.00 D\n",
      "stairway-university-york 3.00 B\n",
      "terrys-factory-warehouse 22.67 F\n",
      "terrys-typing-room 5.80 D\n",
      "trollers-gill 5.00 C\n",
      "tyndall-bruce-monument 4.80 B\n",
      "usina-del-arte-symphony-hall 2.90 A\n",
      "waveguide-web-example-audio 5.00 C\n",
      "wheldrake-wood 2.00 A\n",
      "york-minster 10.00 E\n"
     ]
    }
   ],
   "source": [
    "open_air_8k_room_durations = []\n",
    "open_air_8k_labels = []\n",
    "for room in open_air_8k_rooms:\n",
    "    room_dir = os.path.join(open_air_8k_dir, room)\n",
    "    room_paths = sorted(glob(os.path.join(room_dir, \"**\", \"*.wav\"), recursive=True))\n",
    "    _durations = []\n",
    "    for _path in room_paths:\n",
    "        audio_len = audio_processing.check_wav_file(_path, fs=fs)\n",
    "        _durations.append(audio_len/fs)\n",
    "    min_duration = np.min(_durations).astype(float)\n",
    "    open_air_8k_room_durations.append(min_duration)\n",
    "    if min_duration < 3:\n",
    "        open_air_8k_labels.append(\"A\")\n",
    "    elif min_duration < 5:\n",
    "        open_air_8k_labels.append(\"B\")\n",
    "    elif min_duration < 5.5:\n",
    "        open_air_8k_labels.append(\"C\")\n",
    "    elif min_duration < 7:\n",
    "        open_air_8k_labels.append(\"D\")\n",
    "    elif min_duration < 16:\n",
    "        open_air_8k_labels.append(\"E\")\n",
    "    else:\n",
    "        open_air_8k_labels.append(\"F\")\n",
    "\n",
    "for room, duration, label in zip(open_air_8k_rooms, open_air_8k_room_durations, open_air_8k_labels):\n",
    "    print(f\"{room} {duration:.2f} {label}\")"
   ]
  },
  {
   "cell_type": "code",
   "execution_count": 17,
   "metadata": {},
   "outputs": [
    {
     "name": "stdout",
     "output_type": "stream",
     "text": [
      "{\n",
      "    \"E\": 5,\n",
      "    \"B\": 5,\n",
      "    \"C\": 6,\n",
      "    \"D\": 4,\n",
      "    \"A\": 6,\n",
      "    \"F\": 2\n",
      "}\n"
     ]
    }
   ],
   "source": [
    "counter = Counter(open_air_8k_labels)\n",
    "print(json.dumps(counter, indent=4))"
   ]
  },
  {
   "cell_type": "code",
   "execution_count": 20,
   "metadata": {},
   "outputs": [
    {
     "name": "stdout",
     "output_type": "stream",
     "text": [
      "21\n",
      "7\n",
      "105\n",
      "38\n"
     ]
    }
   ],
   "source": [
    "air_train_rooms, air_test_rooms = train_test_split(open_air_8k_rooms, test_size=0.25, random_state=27, stratify=open_air_8k_labels)\n",
    "assert set(air_train_rooms).intersection(set(air_test_rooms)) == set()\n",
    "print(len(air_train_rooms))\n",
    "print(len(air_test_rooms))\n",
    "\n",
    "air_ir_train_paths = []\n",
    "for room in air_train_rooms:\n",
    "    room_dir = os.path.join(open_air_8k_dir, room)\n",
    "    room_paths = sorted(glob(os.path.join(room_dir, \"**\", \"*.wav\"), recursive=True))\n",
    "    air_ir_train_paths.extend(room_paths)\n",
    "print(len(air_ir_train_paths))\n",
    "\n",
    "air_ir_test_paths = []\n",
    "for room in air_test_rooms:\n",
    "    room_dir = os.path.join(open_air_8k_dir, room)\n",
    "    room_paths = sorted(glob(os.path.join(room_dir, \"**\", \"*.wav\"), recursive=True))\n",
    "    air_ir_test_paths.extend(room_paths)\n",
    "print(len(air_ir_test_paths))"
   ]
  },
  {
   "cell_type": "code",
   "execution_count": 21,
   "metadata": {},
   "outputs": [
    {
     "data": {
      "image/png": "[encoded data removed]",
      "text/plain": [
       "<Figure size 1800x500 with 2 Axes>"
      ]
     },
     "metadata": {},
     "output_type": "display_data"
    }
   ],
   "source": [
    "air_tr_room_durations = []\n",
    "for room in air_train_rooms:\n",
    "    room_dir = os.path.join(open_air_8k_dir, room)\n",
    "    room_paths = sorted(glob(os.path.join(room_dir, \"**\", \"*.wav\"), recursive=True))\n",
    "    _durations = []\n",
    "    for _path in room_paths:\n",
    "        audio_len = audio_processing.check_wav_file(_path, fs=fs)\n",
    "        _durations.append(audio_len/fs)\n",
    "    dur = np.min(_durations)\n",
    "    air_tr_room_durations.append(dur)\n",
    "\n",
    "air_ts_room_durations = []\n",
    "for room in air_test_rooms:\n",
    "    room_dir = os.path.join(open_air_8k_dir, room)\n",
    "    room_paths = sorted(glob(os.path.join(room_dir, \"**\", \"*.wav\"), recursive=True))\n",
    "    _durations = []\n",
    "    for _path in room_paths:\n",
    "        audio_len = audio_processing.check_wav_file(_path, fs=fs)\n",
    "        _durations.append(audio_len/fs)\n",
    "    dur = np.min(_durations)\n",
    "    air_ts_room_durations.append(dur)\n",
    "\n",
    "fig, ax = plt.subplots(nrows=2, figsize=(18, 5), constrained_layout=True, sharex=True)\n",
    "fig.suptitle(\"OpenAIR Room IR Splits' Duration Histograms\")\n",
    "\n",
    "x_max = max(max(air_tr_room_durations), max(air_ts_room_durations))\n",
    "\n",
    "ax[0].hist(air_tr_room_durations, bins=np.arange(0, x_max+0.5, 0.5))\n",
    "ax[0].set_title(\"Train Set\")\n",
    "\n",
    "ax[1].hist(air_ts_room_durations, bins=np.arange(0, x_max+0.5, 0.5))\n",
    "ax[1].set_title(\"Test Set\")\n",
    "ax[1].set_xlabel(\"Duration (s)\")\n",
    "\n",
    "for _x in ax:\n",
    "    _x.set_xticks(np.arange(0, x_max+0.5, 0.5))\n",
    "    _x.set_xlim([0-0.5,x_max+0.5])\n",
    "    _x.set_ylabel(\"Count\")\n",
    "    _x.grid()\n",
    "plt.show()"
   ]
  },
  {
   "cell_type": "code",
   "execution_count": 22,
   "metadata": {},
   "outputs": [
    {
     "name": "stdout",
     "output_type": "stream",
     "text": [
      "lady-chapel-st-albans-cathedral 3\n",
      "spokane-womans-club 2\n",
      "falkland-palace-royal-tennis-court 1\n",
      "stairway-university-york 2\n",
      "gill-heads-mine 4\n",
      "york-minster 2\n",
      "koli-national-park-winter 8\n",
      "terrys-factory-warehouse 1\n",
      "st-patricks-church-patrington 6\n",
      "waveguide-web-example-audio 1\n",
      "saint-lawrence-church-molenbeek-wersbeek-belgium 2\n",
      "st-andrews-church 2\n",
      "hamilton-mausoleum 2\n",
      "st-margarets-church-ncem-5-piece-band-spatial-measurements 20\n",
      "shrine-and-parish-church-all-saints-north-street-_ 6\n",
      "tyndall-bruce-monument 1\n",
      "trollers-gill 6\n",
      "elveden-hall-suffolk-england 8\n",
      "usina-del-arte-symphony-hall 8\n",
      "st-matthews-church-walsall 6\n",
      "innocent-railway-tunnel 14\n"
     ]
    }
   ],
   "source": [
    "for room in air_train_rooms:\n",
    "    room_dir = os.path.join(open_air_8k_dir, room)\n",
    "    room_paths = sorted(glob(os.path.join(room_dir, \"**\", \"*.wav\"), recursive=True))\n",
    "    print(room, len(room_paths))"
   ]
  },
  {
   "cell_type": "code",
   "execution_count": 23,
   "metadata": {},
   "outputs": [
    {
     "name": "stdout",
     "output_type": "stream",
     "text": [
      "spring-lane-building-university-york 20\n",
      "r1-nuclear-reactor-hall 1\n",
      "koli-national-park-summer 8\n",
      "sports-centre-university-york 2\n",
      "terrys-typing-room 1\n",
      "wheldrake-wood 4\n",
      "maes-howe 2\n"
     ]
    }
   ],
   "source": [
    "for room in air_test_rooms:\n",
    "    room_dir = os.path.join(open_air_8k_dir, room)\n",
    "    room_paths = sorted(glob(os.path.join(room_dir, \"**\", \"*.wav\"), recursive=True))\n",
    "    print(room, len(room_paths))"
   ]
  },
  {
   "cell_type": "code",
   "execution_count": 24,
   "metadata": {},
   "outputs": [
    {
     "data": {
      "image/png": "[encoded data removed]",
      "text/plain": [
       "<Figure size 1800x500 with 2 Axes>"
      ]
     },
     "metadata": {},
     "output_type": "display_data"
    }
   ],
   "source": [
    "air_ir_tr_durations = []\n",
    "for ir_path in air_ir_train_paths:\n",
    "    audio_len = audio_processing.check_wav_file(ir_path, fs=fs)\n",
    "    air_ir_tr_durations.append(audio_len/fs)\n",
    "air_ir_tr_durations = np.array(air_ir_tr_durations)\n",
    "\n",
    "air_ir_ts_durations = []\n",
    "for ir_path in air_ir_test_paths:\n",
    "    audio_len = audio_processing.check_wav_file(ir_path, fs=fs)\n",
    "    air_ir_ts_durations.append(audio_len/fs)\n",
    "air_ir_ts_durations = np.array(air_ir_ts_durations)\n",
    "\n",
    "fig, ax = plt.subplots(nrows=2, figsize=(18, 5), constrained_layout=True, sharex=True)\n",
    "fig.suptitle(\"OpenAIR IR Splits' Duration Histograms\")\n",
    "\n",
    "x_max = max(max(air_ir_tr_durations), max(air_ir_ts_durations))\n",
    "\n",
    "ax[0].hist(air_ir_tr_durations, bins=np.arange(0, x_max+0.25, 0.25))\n",
    "ax[0].set_title(\"Train Set\")\n",
    "ax[0].set_yticks(np.arange(0, 36, 5))\n",
    "\n",
    "ax[1].hist(air_ir_ts_durations, bins=np.arange(0, x_max+0.25, 0.25))\n",
    "ax[1].set_title(\"Test Set\")\n",
    "ax[1].set_xlabel(\"Duration (s)\")\n",
    "ax[1].set_yticks(np.arange(0, 22, 3))\n",
    "\n",
    "for _x in ax:\n",
    "    _x.set_xticks(np.arange(0, x_max+0.25, 0.5))\n",
    "    _x.set_xlim([0,x_max+0.25])\n",
    "    _x.set_ylabel(\"Count\")\n",
    "    _x.grid()\n",
    "plt.show()"
   ]
  },
  {
   "cell_type": "code",
   "execution_count": 28,
   "metadata": {},
   "outputs": [],
   "source": [
    "nafp_pp_room_ir_dir = os.path.join(nafp_pp_dataset_dir, \"aug\", \"room_ir\")\n",
    "\n",
    "new_ir_tr_dir = os.path.join(nafp_pp_room_ir_dir, 'dev', 'OPENAIR')\n",
    "new_ir_ts_dir = os.path.join(nafp_pp_room_ir_dir, 'test', 'OPENAIR')\n",
    "\n",
    "os.makedirs(new_ir_tr_dir, exist_ok=True)\n",
    "os.makedirs(new_ir_ts_dir, exist_ok=True)\n",
    "\n",
    "for ir_path in air_ir_train_paths:\n",
    "    structure = os.path.sep.join(ir_path.split(os.path.sep)[-3:-1])\n",
    "    new_dir = os.path.join(new_ir_tr_dir, structure)\n",
    "    os.makedirs(new_dir, exist_ok=True)\n",
    "    shutil.copy(ir_path, new_dir)\n",
    "\n",
    "for ir_path in air_ir_test_paths:\n",
    "    structure = os.path.sep.join(ir_path.split(os.path.sep)[-3:-1])\n",
    "    new_dir = os.path.join(new_ir_ts_dir, structure)\n",
    "    os.makedirs(new_dir, exist_ok=True)\n",
    "    shutil.copy(ir_path, new_dir)"
   ]
  },
  {
   "cell_type": "markdown",
   "metadata": {},
   "source": [
    "#### NAFP IR New Splits"
   ]
  },
  {
   "cell_type": "code",
   "execution_count": 35,
   "metadata": {},
   "outputs": [
    {
     "name": "stdout",
     "output_type": "stream",
     "text": [
      "432\n",
      "There are 432 IRs\n",
      "77 IRs are shorter than 0.5 s\n",
      "Min duration: 0.0015 s\n",
      "Max duration: 23.0108 s\n",
      "Mean duration: 2.0684 s\n",
      "Std duration: 2.2052 s\n",
      "Median duration: 1.7385 s\n",
      "Total duration: 14.8924 m\n"
     ]
    },
    {
     "data": {
      "image/png": "[encoded data removed]",
      "text/plain": [
       "<Figure size 1800x500 with 1 Axes>"
      ]
     },
     "metadata": {},
     "output_type": "display_data"
    }
   ],
   "source": [
    "merged_ir_dir = os.path.join(datasets_dir, 'nafp_pp-dataset/aug/ir')\n",
    "merged_ir_paths = sorted(glob(os.path.join(merged_ir_dir, \"*.wav\")))\n",
    "print(len(merged_ir_paths))\n",
    "\n",
    "T_short = 0.5\n",
    "\n",
    "ir_merged_durations = []\n",
    "short_ir_paths = []\n",
    "for ir_path in merged_ir_paths:\n",
    "    ir = audio_processing.load_wav(ir_path, fs=fs)\n",
    "    ir_merged_durations.append(len(ir)/fs)\n",
    "    if len(ir)/fs < T_short:\n",
    "        short_ir_paths.append(ir_path)\n",
    "ir_merged_durations = np.array(ir_merged_durations)\n",
    "\n",
    "print(f\"There are {len(ir_merged_durations)} IRs\")\n",
    "print(f'{len(short_ir_paths)} IRs are shorter than {T_short} s')\n",
    "print(f\"Min duration: {ir_merged_durations.min():.4f} s\")\n",
    "print(f\"Max duration: {ir_merged_durations.max():.4f} s\")\n",
    "print(f\"Mean duration: {ir_merged_durations.mean():.4f} s\")\n",
    "print(f\"Std duration: {ir_merged_durations.std():.4f} s\")\n",
    "print(f\"Median duration: {np.median(ir_merged_durations):.4f} s\")\n",
    "# print(f\"Mode duration: {stats.mode(ir_merged_durations)[0][0]:.4f} s\")\n",
    "print(f\"Total duration: {ir_merged_durations.sum()/60:.4f} m\")\n",
    "\n",
    "fig, ax = plt.subplots(figsize=(18, 5), constrained_layout=True)\n",
    "fig.suptitle(\"NAFP IR Durations Histogram\")\n",
    "ax.hist(ir_merged_durations, bins=np.arange(0, 21, 0.25))\n",
    "ax.set_yscale('log')\n",
    "ax.set_xticks(np.arange(0, 22, 0.5))\n",
    "ax.set_xlim([0-0.25,21+0.25])\n",
    "ax.set_xlabel(\"Duration (s)\")\n",
    "ax.set_ylabel(\"Count (log)\")\n",
    "ax.grid()\n",
    "plt.show()"
   ]
  },
  {
   "cell_type": "code",
   "execution_count": 44,
   "metadata": {},
   "outputs": [],
   "source": [
    "T_quantization = 0.25\n",
    "\n",
    "quantized_ir_durations = []\n",
    "for ir_path in merged_ir_paths:\n",
    "    ir_len = audio_processing.check_wav_file(ir_path, fs=fs)\n",
    "    duration = ir_len/fs\n",
    "    quantized_duration = np.ceil(duration/T_quantization).astype(int)*T_quantization\n",
    "    quantized_ir_durations.append(quantized_duration)\n",
    "dur_counter = Counter(quantized_ir_durations)\n",
    "dur_counter"
   ]
  },
  {
   "cell_type": "code",
   "execution_count": 48,
   "metadata": {},
   "outputs": [],
   "source": [
    "skipped_paths = []\n",
    "kept_paths = []\n",
    "quantized_ir_durations = []\n",
    "for ir_path in merged_ir_paths:\n",
    "    ir_len = audio_processing.check_wav_file(ir_path, fs=fs)\n",
    "    duration = ir_len/fs\n",
    "    quantized_duration = np.ceil(duration/T_quantization).astype(int)*T_quantization\n",
    "    if quantized_duration==8 or quantized_duration==6.25 or quantized_duration==23.25:\n",
    "        skipped_paths.append(ir_path)\n",
    "        continue\n",
    "    quantized_ir_durations.append(quantized_duration)\n",
    "    kept_paths.append(ir_path)"
   ]
  },
  {
   "cell_type": "code",
   "execution_count": 49,
   "metadata": {},
   "outputs": [],
   "source": [
    "train_paths, test_paths = train_test_split(kept_paths, test_size=0.2, random_state=27, stratify=quantized_ir_durations)"
   ]
  },
  {
   "cell_type": "code",
   "execution_count": 59,
   "metadata": {},
   "outputs": [
    {
     "data": {
      "image/png": "[encoded data removed]",
      "text/plain": [
       "<Figure size 1800x500 with 1 Axes>"
      ]
     },
     "metadata": {},
     "output_type": "display_data"
    }
   ],
   "source": [
    "ir_tr_durations = []\n",
    "for ir_path in train_paths:\n",
    "    ir = audio_processing.load_wav(ir_path, fs=fs)\n",
    "    ir_tr_durations.append(len(ir)/fs)\n",
    "ir_tr_durations = np.array(ir_tr_durations)\n",
    "\n",
    "fig, ax = plt.subplots(figsize=(18, 5), constrained_layout=True)\n",
    "fig.suptitle(\"IR New Train Set Durations Histogram\")\n",
    "ax.hist(ir_tr_durations, bins=np.arange(0, 21, 0.25))\n",
    "ax.set_xticks(np.arange(0, 22, 0.5))\n",
    "ax.set_xlim([0-0.25,21+0.25])\n",
    "ax.set_xlabel(\"Duration (s)\")\n",
    "ax.set_ylabel(\"Count\")\n",
    "ax.grid()\n",
    "plt.show()"
   ]
  },
  {
   "cell_type": "code",
   "execution_count": 58,
   "metadata": {},
   "outputs": [
    {
     "data": {
      "image/png": "[encoded data removed]",
      "text/plain": [
       "<Figure size 1800x500 with 1 Axes>"
      ]
     },
     "metadata": {},
     "output_type": "display_data"
    }
   ],
   "source": [
    "ir_ts_durations = []\n",
    "for ir_path in test_paths:\n",
    "    ir = audio_processing.load_wav(ir_path, fs=fs)\n",
    "    ir_ts_durations.append(len(ir)/fs)\n",
    "ir_ts_durations = np.array(ir_ts_durations)\n",
    "\n",
    "fig, ax = plt.subplots(figsize=(18, 5), constrained_layout=True)\n",
    "fig.suptitle(\"IR New Test Set Durations Histogram\")\n",
    "ax.hist(ir_ts_durations, bins=np.arange(0, 21, 0.25))\n",
    "ax.set_xticks(np.arange(0, 22, 0.5))\n",
    "ax.set_xlim([0-0.25,21+0.25])\n",
    "ax.set_xlabel(\"Duration (s)\")\n",
    "ax.set_ylabel(\"Count\")\n",
    "ax.grid()\n",
    "plt.show()"
   ]
  },
  {
   "cell_type": "code",
   "execution_count": 60,
   "metadata": {},
   "outputs": [
    {
     "name": "stdout",
     "output_type": "stream",
     "text": [
      "../../datasets/nafp_pp-dataset/aug/ir/18a_smoking_room.wav\n",
      "7.94\n",
      "../../datasets/nafp_pp-dataset/aug/ir/spokane_womans_club_ir.wav\n",
      "6.002\n",
      "../../datasets/nafp_pp-dataset/aug/ir/terrys_warehouse_stereo.wav\n",
      "23.01075\n"
     ]
    }
   ],
   "source": [
    "for ir_path in skipped_paths:\n",
    "    print(ir_path)\n",
    "    ir_len = audio_processing.check_wav_file(ir_path, fs=fs)\n",
    "    duration = ir_len/fs\n",
    "    print(duration)"
   ]
  },
  {
   "cell_type": "code",
   "execution_count": 61,
   "metadata": {},
   "outputs": [],
   "source": [
    "test_paths.append(skipped_paths[2])\n",
    "\n",
    "train_paths.append(skipped_paths[0])\n",
    "train_paths.append(skipped_paths[1])"
   ]
  },
  {
   "cell_type": "code",
   "execution_count": 70,
   "metadata": {},
   "outputs": [
    {
     "data": {
      "image/png": "[encoded data removed]",
      "text/plain": [
       "<Figure size 1800x500 with 2 Axes>"
      ]
     },
     "metadata": {},
     "output_type": "display_data"
    }
   ],
   "source": [
    "ir_tr_durations = []\n",
    "for ir_path in train_paths:\n",
    "    ir = audio_processing.load_wav(ir_path, fs=fs)\n",
    "    ir_tr_durations.append(len(ir)/fs)\n",
    "ir_tr_durations = np.array(ir_tr_durations)\n",
    "\n",
    "ir_ts_durations = []\n",
    "for ir_path in test_paths:\n",
    "    ir = audio_processing.load_wav(ir_path, fs=fs)\n",
    "    ir_ts_durations.append(len(ir)/fs)\n",
    "ir_ts_durations = np.array(ir_ts_durations)\n",
    "\n",
    "fig, ax = plt.subplots(nrows=2, figsize=(18, 5), constrained_layout=True, sharex=True)\n",
    "fig.suptitle(\"New IR Splits' Duration Histograms\")\n",
    "\n",
    "x_max = max(max(ir_tr_durations), max(ir_ts_durations))\n",
    "\n",
    "ax[0].hist(ir_tr_durations, bins=np.arange(0, x_max+0.5, 0.25))\n",
    "ax[0].set_title(\"Train Set\")\n",
    "\n",
    "ax[1].hist(ir_ts_durations, bins=np.arange(0, x_max+0.5, 0.25))\n",
    "ax[1].set_title(\"Test Set\")\n",
    "ax[1].set_xlabel(\"Duration (s)\")\n",
    "\n",
    "for _x in ax:\n",
    "    _x.set_xticks(np.arange(0, x_max+0.5, 0.5))\n",
    "    _x.set_xlim([0-0.25,x_max+0.5])\n",
    "    _x.set_ylabel(\"Count\")\n",
    "    _x.grid()\n",
    "plt.show()"
   ]
  },
  {
   "cell_type": "code",
   "execution_count": 71,
   "metadata": {},
   "outputs": [
    {
     "data": {
      "text/plain": [
       "set()"
      ]
     },
     "execution_count": 71,
     "metadata": {},
     "output_type": "execute_result"
    }
   ],
   "source": [
    "set(train_paths).intersection(set(test_paths))"
   ]
  },
  {
   "cell_type": "markdown",
   "metadata": {},
   "source": [
    "## Microphone Impulse Response Data"
   ]
  },
  {
   "cell_type": "markdown",
   "metadata": {},
   "source": [
    "### Microphone Impulse Resonse Dataset"
   ]
  },
  {
   "cell_type": "code",
   "execution_count": 47,
   "metadata": {},
   "outputs": [
    {
     "name": "stdout",
     "output_type": "stream",
     "text": [
      "115\n",
      "38\n",
      "AKGC414Bidirect\n",
      "AKGC414Cardioid\n",
      "AKGC414Hyper\n",
      "AKGC414Omni\n",
      "AKGC451Cardioid\n",
      "AKGC451Omni\n",
      "AKGD112\n",
      "AKGD12\n",
      "Coles4038\n",
      "DPA4006\n",
      "ElectroVoiceRE20\n",
      "NTiM2211\n",
      "NeumannU47FET\n",
      "NeumannU87AiBidirect\n",
      "NeumannU87AiCardioid\n",
      "NeumannU87AiOmni\n",
      "RodeK2Bidirect\n",
      "RodeK2Cardioid\n",
      "RodeK2Omni\n",
      "RodeNT2ABidirect\n",
      "RodeNT2ACardioid\n",
      "RodeNT2AOmni\n",
      "RodeNTG8\n",
      "RodeNTR\n",
      "RodeReporter\n",
      "RoyerR121\n",
      "SchoepsCMC5UBidirect\n",
      "SchoepsCMC5UCardioid\n",
      "SchoepsCMC5UOmni\n",
      "SchoepsCMC6\n",
      "SchoepsCMIT5U\n",
      "SennheiserMD441\n",
      "ShureBeta52\n",
      "ShureSM57\n",
      "ShureSM58\n",
      "SonyC800Cardioid\n",
      "SonyC800Omni\n",
      "SonyECM670\n"
     ]
    }
   ],
   "source": [
    "microphone_ir_dataset_dir = os.path.join(datasets_dir, \"IR/microphone/Microphone_Impulse_Responses-8khz_16bit/Normalised_IRs\")\n",
    "microphone_direct_distance_names = sorted(os.listdir(microphone_ir_dataset_dir))\n",
    "print(len(microphone_direct_distance_names))\n",
    "\n",
    "microphone_direct_names = sorted(list(set([name.split(\"_\")[0] for name in microphone_direct_distance_names])))\n",
    "print(len(microphone_direct_names))\n",
    "print('\\n'.join(microphone_direct_names))\n",
    "\n",
    "# microphone_ir_paths = sorted(glob(os.path.join(microphone_ir_dataset_dir, \"*.wav\")))"
   ]
  },
  {
   "cell_type": "code",
   "execution_count": 48,
   "metadata": {},
   "outputs": [],
   "source": [
    "mic_direct_dict = dict()\n",
    "for microphone_direct_distance in microphone_direct_distance_names:\n",
    "    if '_' not in microphone_direct_distance:\n",
    "        print(microphone_direct_distance)\n",
    "    else:\n",
    "        lst = microphone_direct_distance.split(\"_\")\n",
    "        dst = lst[-1]\n",
    "        rest = '_'.join(lst[:-1])\n",
    "        if rest not in mic_direct_dict:\n",
    "            mic_direct_dict[rest] = []\n",
    "        mic_direct_dict[rest].append(dst)"
   ]
  },
  {
   "cell_type": "code",
   "execution_count": 49,
   "metadata": {},
   "outputs": [
    {
     "data": {
      "text/plain": [
       "{'AKGC414Bidirect': ['125cm', '50cm', '5m'],\n",
       " 'AKGC414Cardioid': ['125cm', '50cm', '5m'],\n",
       " 'AKGC414Hyper': ['125cm', '50cm', '5m'],\n",
       " 'AKGC414Omni': ['125cm', '50cm', '5m'],\n",
       " 'AKGC451Cardioid': ['125cm', '50cm', '5m'],\n",
       " 'AKGC451Omni': ['125cm', '50cm', '5m'],\n",
       " 'AKGD112': ['125cm', '50cm', '5m'],\n",
       " 'AKGD12': ['125cm', '50cm', '5m'],\n",
       " 'Coles4038': ['125cm', '50cm', '5m'],\n",
       " 'DPA4006': ['125cm', '50cm', '5m'],\n",
       " 'ElectroVoiceRE20': ['125cm', '50cm', '5m'],\n",
       " 'NTiM2211': ['125cm', '50cm', '5m'],\n",
       " 'NeumannU47FET': ['125cm', '50cm'],\n",
       " 'NeumannU87AiBidirect': ['125cm', '50cm', '5m'],\n",
       " 'NeumannU87AiCardioid': ['125cm', '50cm', '5m'],\n",
       " 'NeumannU87AiOmni': ['125cm', '50cm', '5m'],\n",
       " 'RodeK2Bidirect': ['125cm', '50cm', '5m'],\n",
       " 'RodeK2Cardioid': ['125cm', '50cm', '5m'],\n",
       " 'RodeK2Omni': ['125cm', '50cm', '5m'],\n",
       " 'RodeNT2ABidirect': ['125cm', '50cm', '5m'],\n",
       " 'RodeNT2ACardioid': ['125cm', '50cm', '5m'],\n",
       " 'RodeNT2AOmni': ['125cm', '50cm', '5m'],\n",
       " 'RodeNTG8': ['125cm', '5m'],\n",
       " 'RodeNTR': ['125cm', '50cm', '5m'],\n",
       " 'RodeReporter': ['125cm', '50cm', '5m'],\n",
       " 'RoyerR121': ['125cm', '50cm', '5m'],\n",
       " 'SchoepsCMC5UBidirect': ['125cm', '50cm', '5m'],\n",
       " 'SchoepsCMC5UCardioid': ['125cm', '50cm', '5m'],\n",
       " 'SchoepsCMC5UOmni': ['125cm', '50cm', '5m'],\n",
       " 'SchoepsCMC6_MK2H': ['125cm', '50cm', '5m'],\n",
       " 'SchoepsCMC6_MK2H_KA40': ['125cm', '50cm', '5m'],\n",
       " 'SchoepsCMIT5U': ['125cm', '50cm', '5m'],\n",
       " 'SennheiserMD441': ['125cm', '50cm', '5m'],\n",
       " 'ShureBeta52': ['125cm', '50cm', '5m'],\n",
       " 'ShureSM57': ['125cm', '50cm', '5m'],\n",
       " 'ShureSM58': ['125cm', '50cm', '5m'],\n",
       " 'SonyC800Cardioid': ['125cm', '50cm', '5m'],\n",
       " 'SonyC800Omni': ['125cm', '50cm', '5m'],\n",
       " 'SonyECM670': ['125cm', '50cm', '5m']}"
      ]
     },
     "execution_count": 49,
     "metadata": {},
     "output_type": "execute_result"
    }
   ],
   "source": [
    "mic_direct_dict"
   ]
  },
  {
   "cell_type": "code",
   "execution_count": 50,
   "metadata": {},
   "outputs": [],
   "source": [
    "mic_names = [\n",
    "    'AKGC414',\n",
    "    'AKGC451',\n",
    "    'AKGD112',\n",
    "    'AKGD12',\n",
    "    'Coles4038',\n",
    "    'DPA4006',\n",
    "    'ElectroVoiceRE20',\n",
    "    'NTiM2211',\n",
    "    'NeumannU47FET',\n",
    "    'NeumannU87Ai',\n",
    "    'RodeK2',\n",
    "    'RodeNT2A',\n",
    "    'RodeNTG8',\n",
    "    'RodeNTR',\n",
    "    'RodeReporter',\n",
    "    'RoyerR121',\n",
    "    'SchoepsCMC5U',\n",
    "    'SchoepsCMC6',\n",
    "    'SchoepsCMIT5U',\n",
    "    'SennheiserMD441',\n",
    "    'ShureBeta52',\n",
    "    'ShureSM57',\n",
    "    'ShureSM58',\n",
    "    'SonyC800',\n",
    "    'SonyECM670',\n",
    "]"
   ]
  },
  {
   "cell_type": "code",
   "execution_count": 51,
   "metadata": {},
   "outputs": [],
   "source": [
    "mic_dict = dict()\n",
    "for mic_name in mic_names:\n",
    "    mic_dict[mic_name] = []\n",
    "\n",
    "    for k,v in mic_direct_dict.items():\n",
    "        if mic_name in k:\n",
    "            mic_dict[mic_name].append({k:v})"
   ]
  },
  {
   "cell_type": "code",
   "execution_count": 19,
   "metadata": {},
   "outputs": [
    {
     "name": "stdout",
     "output_type": "stream",
     "text": [
      "{\n",
      "    \"AKGC414\": [\n",
      "        {\n",
      "            \"AKGC414Bidirect\": [\n",
      "                \"125cm\",\n",
      "                \"50cm\",\n",
      "                \"5m\"\n",
      "            ]\n",
      "        },\n",
      "        {\n",
      "            \"AKGC414Cardioid\": [\n",
      "                \"125cm\",\n",
      "                \"50cm\",\n",
      "                \"5m\"\n",
      "            ]\n",
      "        },\n",
      "        {\n",
      "            \"AKGC414Hyper\": [\n",
      "                \"125cm\",\n",
      "                \"50cm\",\n",
      "                \"5m\"\n",
      "            ]\n",
      "        },\n",
      "        {\n",
      "            \"AKGC414Omni\": [\n",
      "                \"125cm\",\n",
      "                \"50cm\",\n",
      "                \"5m\"\n",
      "            ]\n",
      "        }\n",
      "    ],\n",
      "    \"AKGC451\": [\n",
      "        {\n",
      "            \"AKGC451Cardioid\": [\n",
      "                \"125cm\",\n",
      "                \"50cm\",\n",
      "                \"5m\"\n",
      "            ]\n",
      "        },\n",
      "        {\n",
      "            \"AKGC451Omni\": [\n",
      "                \"125cm\",\n",
      "                \"50cm\",\n",
      "                \"5m\"\n",
      "            ]\n",
      "        }\n",
      "    ],\n",
      "    \"AKGD112\": [\n",
      "        {\n",
      "            \"AKGD112\": [\n",
      "                \"125cm\",\n",
      "                \"50cm\",\n",
      "                \"5m\"\n",
      "            ]\n",
      "        }\n",
      "    ],\n",
      "    \"AKGD12\": [\n",
      "        {\n",
      "            \"AKGD12\": [\n",
      "                \"125cm\",\n",
      "                \"50cm\",\n",
      "                \"5m\"\n",
      "            ]\n",
      "        }\n",
      "    ],\n",
      "    \"Coles4038\": [\n",
      "        {\n",
      "            \"Coles4038\": [\n",
      "                \"125cm\",\n",
      "                \"50cm\",\n",
      "                \"5m\"\n",
      "            ]\n",
      "        }\n",
      "    ],\n",
      "    \"DPA4006\": [\n",
      "        {\n",
      "            \"DPA4006\": [\n",
      "                \"125cm\",\n",
      "                \"50cm\",\n",
      "                \"5m\"\n",
      "            ]\n",
      "        }\n",
      "    ],\n",
      "    \"ElectroVoiceRE20\": [\n",
      "        {\n",
      "            \"ElectroVoiceRE20\": [\n",
      "                \"125cm\",\n",
      "                \"50cm\",\n",
      "                \"5m\"\n",
      "            ]\n",
      "        }\n",
      "    ],\n",
      "    \"NTiM2211\": [\n",
      "        {\n",
      "            \"NTiM2211\": [\n",
      "                \"125cm\",\n",
      "                \"50cm\",\n",
      "                \"5m\"\n",
      "            ]\n",
      "        }\n",
      "    ],\n",
      "    \"NeumannU47FET\": [\n",
      "        {\n",
      "            \"NeumannU47FET\": [\n",
      "                \"125cm\",\n",
      "                \"50cm\"\n",
      "            ]\n",
      "        }\n",
      "    ],\n",
      "    \"NeumannU87Ai\": [\n",
      "        {\n",
      "            \"NeumannU87AiBidirect\": [\n",
      "                \"125cm\",\n",
      "                \"50cm\",\n",
      "                \"5m\"\n",
      "            ]\n",
      "        },\n",
      "        {\n",
      "            \"NeumannU87AiCardioid\": [\n",
      "                \"125cm\",\n",
      "                \"50cm\",\n",
      "                \"5m\"\n",
      "            ]\n",
      "        },\n",
      "        {\n",
      "            \"NeumannU87AiOmni\": [\n",
      "                \"125cm\",\n",
      "                \"50cm\",\n",
      "                \"5m\"\n",
      "            ]\n",
      "        }\n",
      "    ],\n",
      "    \"RodeK2\": [\n",
      "        {\n",
      "            \"RodeK2Bidirect\": [\n",
      "                \"125cm\",\n",
      "                \"50cm\",\n",
      "                \"5m\"\n",
      "            ]\n",
      "        },\n",
      "        {\n",
      "            \"RodeK2Cardioid\": [\n",
      "                \"125cm\",\n",
      "                \"50cm\",\n",
      "                \"5m\"\n",
      "            ]\n",
      "        },\n",
      "        {\n",
      "            \"RodeK2Omni\": [\n",
      "                \"125cm\",\n",
      "                \"50cm\",\n",
      "                \"5m\"\n",
      "            ]\n",
      "        }\n",
      "    ],\n",
      "    \"RodeNT2A\": [\n",
      "        {\n",
      "            \"RodeNT2ABidirect\": [\n",
      "                \"125cm\",\n",
      "                \"50cm\",\n",
      "                \"5m\"\n",
      "            ]\n",
      "        },\n",
      "        {\n",
      "            \"RodeNT2ACardioid\": [\n",
      "                \"125cm\",\n",
      "                \"50cm\",\n",
      "                \"5m\"\n",
      "            ]\n",
      "        },\n",
      "        {\n",
      "            \"RodeNT2AOmni\": [\n",
      "                \"125cm\",\n",
      "                \"50cm\",\n",
      "                \"5m\"\n",
      "            ]\n",
      "        }\n",
      "    ],\n",
      "    \"RodeNTG8\": [\n",
      "        {\n",
      "            \"RodeNTG8\": [\n",
      "                \"125cm\",\n",
      "                \"5m\"\n",
      "            ]\n",
      "        }\n",
      "    ],\n",
      "    \"RodeNTR\": [\n",
      "        {\n",
      "            \"RodeNTR\": [\n",
      "                \"125cm\",\n",
      "                \"50cm\",\n",
      "                \"5m\"\n",
      "            ]\n",
      "        }\n",
      "    ],\n",
      "    \"RodeReporter\": [\n",
      "        {\n",
      "            \"RodeReporter\": [\n",
      "                \"125cm\",\n",
      "                \"50cm\",\n",
      "                \"5m\"\n",
      "            ]\n",
      "        }\n",
      "    ],\n",
      "    \"RoyerR121\": [\n",
      "        {\n",
      "            \"RoyerR121\": [\n",
      "                \"125cm\",\n",
      "                \"50cm\",\n",
      "                \"5m\"\n",
      "            ]\n",
      "        }\n",
      "    ],\n",
      "    \"SchoepsCMC5U\": [\n",
      "        {\n",
      "            \"SchoepsCMC5UBidirect\": [\n",
      "                \"125cm\",\n",
      "                \"50cm\",\n",
      "                \"5m\"\n",
      "            ]\n",
      "        },\n",
      "        {\n",
      "            \"SchoepsCMC5UCardioid\": [\n",
      "                \"125cm\",\n",
      "                \"50cm\",\n",
      "                \"5m\"\n",
      "            ]\n",
      "        },\n",
      "        {\n",
      "            \"SchoepsCMC5UOmni\": [\n",
      "                \"125cm\",\n",
      "                \"50cm\",\n",
      "                \"5m\"\n",
      "            ]\n",
      "        }\n",
      "    ],\n",
      "    \"SchoepsCMC6\": [\n",
      "        {\n",
      "            \"SchoepsCMC6_MK2H\": [\n",
      "                \"125cm\",\n",
      "                \"50cm\",\n",
      "                \"5m\"\n",
      "            ]\n",
      "        },\n",
      "        {\n",
      "            \"SchoepsCMC6_MK2H_KA40\": [\n",
      "                \"125cm\",\n",
      "                \"50cm\",\n",
      "                \"5m\"\n",
      "            ]\n",
      "        }\n",
      "    ],\n",
      "    \"SchoepsCMIT5U\": [\n",
      "        {\n",
      "            \"SchoepsCMIT5U\": [\n",
      "                \"125cm\",\n",
      "                \"50cm\",\n",
      "                \"5m\"\n",
      "            ]\n",
      "        }\n",
      "    ],\n",
      "    \"SennheiserMD441\": [\n",
      "        {\n",
      "            \"SennheiserMD441\": [\n",
      "                \"125cm\",\n",
      "                \"50cm\",\n",
      "                \"5m\"\n",
      "            ]\n",
      "        }\n",
      "    ],\n",
      "    \"ShureBeta52\": [\n",
      "        {\n",
      "            \"ShureBeta52\": [\n",
      "                \"125cm\",\n",
      "                \"50cm\",\n",
      "                \"5m\"\n",
      "            ]\n",
      "        }\n",
      "    ],\n",
      "    \"ShureSM57\": [\n",
      "        {\n",
      "            \"ShureSM57\": [\n",
      "                \"125cm\",\n",
      "                \"50cm\",\n",
      "                \"5m\"\n",
      "            ]\n",
      "        }\n",
      "    ],\n",
      "    \"ShureSM58\": [\n",
      "        {\n",
      "            \"ShureSM58\": [\n",
      "                \"125cm\",\n",
      "                \"50cm\",\n",
      "                \"5m\"\n",
      "            ]\n",
      "        }\n",
      "    ],\n",
      "    \"SonyC800\": [\n",
      "        {\n",
      "            \"SonyC800Cardioid\": [\n",
      "                \"125cm\",\n",
      "                \"50cm\",\n",
      "                \"5m\"\n",
      "            ]\n",
      "        },\n",
      "        {\n",
      "            \"SonyC800Omni\": [\n",
      "                \"125cm\",\n",
      "                \"50cm\",\n",
      "                \"5m\"\n",
      "            ]\n",
      "        }\n",
      "    ],\n",
      "    \"SonyECM670\": [\n",
      "        {\n",
      "            \"SonyECM670\": [\n",
      "                \"125cm\",\n",
      "                \"50cm\",\n",
      "                \"5m\"\n",
      "            ]\n",
      "        }\n",
      "    ]\n",
      "}\n"
     ]
    }
   ],
   "source": [
    "print(json.dumps(mic_dict, indent=4))"
   ]
  },
  {
   "cell_type": "code",
   "execution_count": 52,
   "metadata": {},
   "outputs": [
    {
     "name": "stdout",
     "output_type": "stream",
     "text": [
      "8496\n"
     ]
    }
   ],
   "source": [
    "mic_ir_dataset_paths = sorted(glob(os.path.join(microphone_ir_dataset_dir, \"**\", \"*.wav\"), recursive=True))\n",
    "print(len(mic_ir_dataset_paths))"
   ]
  },
  {
   "cell_type": "markdown",
   "metadata": {},
   "source": [
    "#### Analyze Durations"
   ]
  },
  {
   "cell_type": "code",
   "execution_count": 53,
   "metadata": {},
   "outputs": [
    {
     "name": "stdout",
     "output_type": "stream",
     "text": [
      "There are 8496 IRs\n",
      "Min duration: 10.0000 s\n",
      "Max duration: 10.0000 s\n",
      "Mean duration: 10.0000 s\n",
      "Std duration: 0.0000 s\n",
      "Median duration: 10.0000 s\n",
      "Total duration: 1416.0000 m\n",
      "8496 files are longer than 1.0 s\n",
      "Total duration of these files: 1416.0000 m\n"
     ]
    },
    {
     "data": {
      "image/png": "[encoded data removed]",
      "text/plain": [
       "<Figure size 1800x500 with 1 Axes>"
      ]
     },
     "metadata": {},
     "output_type": "display_data"
    }
   ],
   "source": [
    "mic_ir_dataset_durations = []\n",
    "for ir_path in mic_ir_dataset_paths:\n",
    "    ir_len = audio_processing.check_wav_file(ir_path, fs=fs)\n",
    "    mic_ir_dataset_durations.append(ir_len/fs)\n",
    "# print(\"Train\")\n",
    "print(f\"There are {len(mic_ir_dataset_durations)} IRs\")\n",
    "mic_ir_dataset_durations = np.array(mic_ir_dataset_durations)\n",
    "print(f\"Min duration: {mic_ir_dataset_durations.min():.4f} s\")\n",
    "print(f\"Max duration: {mic_ir_dataset_durations.max():.4f} s\")\n",
    "print(f\"Mean duration: {mic_ir_dataset_durations.mean():.4f} s\")\n",
    "print(f\"Std duration: {mic_ir_dataset_durations.std():.4f} s\")\n",
    "print(f\"Median duration: {np.median(mic_ir_dataset_durations):.4f} s\")\n",
    "print(f\"Total duration: {mic_ir_dataset_durations.sum()/60:.4f} m\")\n",
    "\n",
    "fig, ax = plt.subplots(figsize=(18, 5), constrained_layout=True)\n",
    "fig.suptitle(\"Microphone IR Dataset Duration Histogram\")\n",
    "\n",
    "x_max = max(mic_ir_dataset_durations)\n",
    "delta_t = 0.25\n",
    "\n",
    "ax.hist(mic_ir_dataset_durations, bins=np.arange(0, x_max+delta_t, delta_t))\n",
    "# ax.set_title(\"Train Set\")\n",
    "ax.set_xticks(np.arange(0, x_max+delta_t, delta_t))\n",
    "ax.set_xlim([0-(delta_t/2),x_max+(delta_t/2)])\n",
    "ax.set_ylabel(\"Count\")\n",
    "ax.grid()\n",
    "plt.show()"
   ]
  },
  {
   "cell_type": "markdown",
   "metadata": {},
   "source": [
    "#### Listen to the microphones"
   ]
  },
  {
   "cell_type": "code",
   "execution_count": null,
   "metadata": {},
   "outputs": [],
   "source": [
    "audio_path = nafp_music_db_paths[100]\n",
    "audio = audio_processing.load_wav(audio_path, fs=fs)\n",
    "print(audio_path)\n",
    "ipd.display(ipd.Audio(audio, rate=fs))"
   ]
  },
  {
   "cell_type": "code",
   "execution_count": null,
   "metadata": {},
   "outputs": [],
   "source": [
    "m_ir_path = mic_ir_dataset_paths[5005]\n",
    "\n",
    "print('IR')\n",
    "print(os.path.basename(m_ir_path))\n",
    "m_ir = audio_processing.load_wav(m_ir_path, fs=fs)\n",
    "print(len(m_ir)/fs)\n",
    "ipd.display(ipd.Audio(m_ir, rate=fs))\n",
    "\n",
    "print('Music')\n",
    "ipd.display(ipd.Audio(audio, rate=fs))\n",
    "\n",
    "print('Music with Microphone')\n",
    "audio_mic = audio_processing.convolve_with_IR(audio, m_ir)\n",
    "ipd.display(ipd.Audio(audio_mic, rate=fs))"
   ]
  },
  {
   "cell_type": "markdown",
   "metadata": {},
   "source": [
    "#### Create Your Split"
   ]
  },
  {
   "cell_type": "markdown",
   "metadata": {},
   "source": [
    "##### Move files around"
   ]
  },
  {
   "cell_type": "code",
   "execution_count": 28,
   "metadata": {},
   "outputs": [],
   "source": [
    "import shutil"
   ]
  },
  {
   "cell_type": "code",
   "execution_count": 57,
   "metadata": {},
   "outputs": [
    {
     "name": "stdout",
     "output_type": "stream",
     "text": [
      "../../datasets/IR/microphone/Microphone_Impulse_Responses-8khz_16bit/Normalised_IRs/AKGC414Bidirect_125cm\n",
      "../../datasets/IR/microphone/Microphone_Impulse_Responses-8khz_16bit/Normalised_IRs-grouped/AKGC414/AKGC414Bidirect/AKGC414Bidirect_125cm\n",
      "\n",
      "../../datasets/IR/microphone/Microphone_Impulse_Responses-8khz_16bit/Normalised_IRs/AKGC414Bidirect_50cm\n",
      "../../datasets/IR/microphone/Microphone_Impulse_Responses-8khz_16bit/Normalised_IRs-grouped/AKGC414/AKGC414Bidirect/AKGC414Bidirect_50cm\n",
      "\n",
      "../../datasets/IR/microphone/Microphone_Impulse_Responses-8khz_16bit/Normalised_IRs/AKGC414Bidirect_5m\n",
      "../../datasets/IR/microphone/Microphone_Impulse_Responses-8khz_16bit/Normalised_IRs-grouped/AKGC414/AKGC414Bidirect/AKGC414Bidirect_5m\n",
      "\n",
      "../../datasets/IR/microphone/Microphone_Impulse_Responses-8khz_16bit/Normalised_IRs/AKGC414Cardioid_125cm\n",
      "../../datasets/IR/microphone/Microphone_Impulse_Responses-8khz_16bit/Normalised_IRs-grouped/AKGC414/AKGC414Cardioid/AKGC414Cardioid_125cm\n",
      "\n",
      "../../datasets/IR/microphone/Microphone_Impulse_Responses-8khz_16bit/Normalised_IRs/AKGC414Cardioid_50cm\n",
      "../../datasets/IR/microphone/Microphone_Impulse_Responses-8khz_16bit/Normalised_IRs-grouped/AKGC414/AKGC414Cardioid/AKGC414Cardioid_50cm\n",
      "\n",
      "../../datasets/IR/microphone/Microphone_Impulse_Responses-8khz_16bit/Normalised_IRs/AKGC414Cardioid_5m\n",
      "../../datasets/IR/microphone/Microphone_Impulse_Responses-8khz_16bit/Normalised_IRs-grouped/AKGC414/AKGC414Cardioid/AKGC414Cardioid_5m\n",
      "\n",
      "../../datasets/IR/microphone/Microphone_Impulse_Responses-8khz_16bit/Normalised_IRs/AKGC414Hyper_125cm\n",
      "../../datasets/IR/microphone/Microphone_Impulse_Responses-8khz_16bit/Normalised_IRs-grouped/AKGC414/AKGC414Hyper/AKGC414Hyper_125cm\n",
      "\n",
      "../../datasets/IR/microphone/Microphone_Impulse_Responses-8khz_16bit/Normalised_IRs/AKGC414Hyper_50cm\n",
      "../../datasets/IR/microphone/Microphone_Impulse_Responses-8khz_16bit/Normalised_IRs-grouped/AKGC414/AKGC414Hyper/AKGC414Hyper_50cm\n",
      "\n",
      "../../datasets/IR/microphone/Microphone_Impulse_Responses-8khz_16bit/Normalised_IRs/AKGC414Hyper_5m\n",
      "../../datasets/IR/microphone/Microphone_Impulse_Responses-8khz_16bit/Normalised_IRs-grouped/AKGC414/AKGC414Hyper/AKGC414Hyper_5m\n",
      "\n",
      "../../datasets/IR/microphone/Microphone_Impulse_Responses-8khz_16bit/Normalised_IRs/AKGC414Omni_125cm\n",
      "../../datasets/IR/microphone/Microphone_Impulse_Responses-8khz_16bit/Normalised_IRs-grouped/AKGC414/AKGC414Omni/AKGC414Omni_125cm\n",
      "\n",
      "../../datasets/IR/microphone/Microphone_Impulse_Responses-8khz_16bit/Normalised_IRs/AKGC414Omni_50cm\n",
      "../../datasets/IR/microphone/Microphone_Impulse_Responses-8khz_16bit/Normalised_IRs-grouped/AKGC414/AKGC414Omni/AKGC414Omni_50cm\n",
      "\n",
      "../../datasets/IR/microphone/Microphone_Impulse_Responses-8khz_16bit/Normalised_IRs/AKGC414Omni_5m\n",
      "../../datasets/IR/microphone/Microphone_Impulse_Responses-8khz_16bit/Normalised_IRs-grouped/AKGC414/AKGC414Omni/AKGC414Omni_5m\n",
      "\n",
      "../../datasets/IR/microphone/Microphone_Impulse_Responses-8khz_16bit/Normalised_IRs/AKGC451Cardioid_125cm\n",
      "../../datasets/IR/microphone/Microphone_Impulse_Responses-8khz_16bit/Normalised_IRs-grouped/AKGC451/AKGC451Cardioid/AKGC451Cardioid_125cm\n",
      "\n",
      "../../datasets/IR/microphone/Microphone_Impulse_Responses-8khz_16bit/Normalised_IRs/AKGC451Cardioid_50cm\n",
      "../../datasets/IR/microphone/Microphone_Impulse_Responses-8khz_16bit/Normalised_IRs-grouped/AKGC451/AKGC451Cardioid/AKGC451Cardioid_50cm\n",
      "\n",
      "../../datasets/IR/microphone/Microphone_Impulse_Responses-8khz_16bit/Normalised_IRs/AKGC451Cardioid_5m\n",
      "../../datasets/IR/microphone/Microphone_Impulse_Responses-8khz_16bit/Normalised_IRs-grouped/AKGC451/AKGC451Cardioid/AKGC451Cardioid_5m\n",
      "\n",
      "../../datasets/IR/microphone/Microphone_Impulse_Responses-8khz_16bit/Normalised_IRs/AKGC451Omni_125cm\n",
      "../../datasets/IR/microphone/Microphone_Impulse_Responses-8khz_16bit/Normalised_IRs-grouped/AKGC451/AKGC451Omni/AKGC451Omni_125cm\n",
      "\n",
      "../../datasets/IR/microphone/Microphone_Impulse_Responses-8khz_16bit/Normalised_IRs/AKGC451Omni_50cm\n",
      "../../datasets/IR/microphone/Microphone_Impulse_Responses-8khz_16bit/Normalised_IRs-grouped/AKGC451/AKGC451Omni/AKGC451Omni_50cm\n",
      "\n",
      "../../datasets/IR/microphone/Microphone_Impulse_Responses-8khz_16bit/Normalised_IRs/AKGC451Omni_5m\n",
      "../../datasets/IR/microphone/Microphone_Impulse_Responses-8khz_16bit/Normalised_IRs-grouped/AKGC451/AKGC451Omni/AKGC451Omni_5m\n",
      "\n",
      "../../datasets/IR/microphone/Microphone_Impulse_Responses-8khz_16bit/Normalised_IRs/AKGD112_125cm\n",
      "../../datasets/IR/microphone/Microphone_Impulse_Responses-8khz_16bit/Normalised_IRs-grouped/AKGD112/AKGD112/AKGD112_125cm\n",
      "\n",
      "../../datasets/IR/microphone/Microphone_Impulse_Responses-8khz_16bit/Normalised_IRs/AKGD112_50cm\n",
      "../../datasets/IR/microphone/Microphone_Impulse_Responses-8khz_16bit/Normalised_IRs-grouped/AKGD112/AKGD112/AKGD112_50cm\n",
      "\n",
      "../../datasets/IR/microphone/Microphone_Impulse_Responses-8khz_16bit/Normalised_IRs/AKGD112_5m\n",
      "../../datasets/IR/microphone/Microphone_Impulse_Responses-8khz_16bit/Normalised_IRs-grouped/AKGD112/AKGD112/AKGD112_5m\n",
      "\n",
      "../../datasets/IR/microphone/Microphone_Impulse_Responses-8khz_16bit/Normalised_IRs/AKGD12_125cm\n",
      "../../datasets/IR/microphone/Microphone_Impulse_Responses-8khz_16bit/Normalised_IRs-grouped/AKGD12/AKGD12/AKGD12_125cm\n",
      "\n",
      "../../datasets/IR/microphone/Microphone_Impulse_Responses-8khz_16bit/Normalised_IRs/AKGD12_50cm\n",
      "../../datasets/IR/microphone/Microphone_Impulse_Responses-8khz_16bit/Normalised_IRs-grouped/AKGD12/AKGD12/AKGD12_50cm\n",
      "\n",
      "../../datasets/IR/microphone/Microphone_Impulse_Responses-8khz_16bit/Normalised_IRs/AKGD12_5m\n",
      "../../datasets/IR/microphone/Microphone_Impulse_Responses-8khz_16bit/Normalised_IRs-grouped/AKGD12/AKGD12/AKGD12_5m\n",
      "\n",
      "../../datasets/IR/microphone/Microphone_Impulse_Responses-8khz_16bit/Normalised_IRs/Coles4038_125cm\n",
      "../../datasets/IR/microphone/Microphone_Impulse_Responses-8khz_16bit/Normalised_IRs-grouped/Coles4038/Coles4038/Coles4038_125cm\n",
      "\n",
      "../../datasets/IR/microphone/Microphone_Impulse_Responses-8khz_16bit/Normalised_IRs/Coles4038_50cm\n",
      "../../datasets/IR/microphone/Microphone_Impulse_Responses-8khz_16bit/Normalised_IRs-grouped/Coles4038/Coles4038/Coles4038_50cm\n",
      "\n",
      "../../datasets/IR/microphone/Microphone_Impulse_Responses-8khz_16bit/Normalised_IRs/Coles4038_5m\n",
      "../../datasets/IR/microphone/Microphone_Impulse_Responses-8khz_16bit/Normalised_IRs-grouped/Coles4038/Coles4038/Coles4038_5m\n",
      "\n",
      "../../datasets/IR/microphone/Microphone_Impulse_Responses-8khz_16bit/Normalised_IRs/DPA4006_125cm\n",
      "../../datasets/IR/microphone/Microphone_Impulse_Responses-8khz_16bit/Normalised_IRs-grouped/DPA4006/DPA4006/DPA4006_125cm\n",
      "\n",
      "../../datasets/IR/microphone/Microphone_Impulse_Responses-8khz_16bit/Normalised_IRs/DPA4006_50cm\n",
      "../../datasets/IR/microphone/Microphone_Impulse_Responses-8khz_16bit/Normalised_IRs-grouped/DPA4006/DPA4006/DPA4006_50cm\n",
      "\n",
      "../../datasets/IR/microphone/Microphone_Impulse_Responses-8khz_16bit/Normalised_IRs/DPA4006_5m\n",
      "../../datasets/IR/microphone/Microphone_Impulse_Responses-8khz_16bit/Normalised_IRs-grouped/DPA4006/DPA4006/DPA4006_5m\n",
      "\n",
      "../../datasets/IR/microphone/Microphone_Impulse_Responses-8khz_16bit/Normalised_IRs/ElectroVoiceRE20_125cm\n",
      "../../datasets/IR/microphone/Microphone_Impulse_Responses-8khz_16bit/Normalised_IRs-grouped/ElectroVoiceRE20/ElectroVoiceRE20/ElectroVoiceRE20_125cm\n",
      "\n",
      "../../datasets/IR/microphone/Microphone_Impulse_Responses-8khz_16bit/Normalised_IRs/ElectroVoiceRE20_50cm\n",
      "../../datasets/IR/microphone/Microphone_Impulse_Responses-8khz_16bit/Normalised_IRs-grouped/ElectroVoiceRE20/ElectroVoiceRE20/ElectroVoiceRE20_50cm\n",
      "\n",
      "../../datasets/IR/microphone/Microphone_Impulse_Responses-8khz_16bit/Normalised_IRs/ElectroVoiceRE20_5m\n",
      "../../datasets/IR/microphone/Microphone_Impulse_Responses-8khz_16bit/Normalised_IRs-grouped/ElectroVoiceRE20/ElectroVoiceRE20/ElectroVoiceRE20_5m\n",
      "\n",
      "../../datasets/IR/microphone/Microphone_Impulse_Responses-8khz_16bit/Normalised_IRs/NTiM2211_125cm\n",
      "../../datasets/IR/microphone/Microphone_Impulse_Responses-8khz_16bit/Normalised_IRs-grouped/NTiM2211/NTiM2211/NTiM2211_125cm\n",
      "\n",
      "../../datasets/IR/microphone/Microphone_Impulse_Responses-8khz_16bit/Normalised_IRs/NTiM2211_50cm\n",
      "../../datasets/IR/microphone/Microphone_Impulse_Responses-8khz_16bit/Normalised_IRs-grouped/NTiM2211/NTiM2211/NTiM2211_50cm\n",
      "\n",
      "../../datasets/IR/microphone/Microphone_Impulse_Responses-8khz_16bit/Normalised_IRs/NTiM2211_5m\n",
      "../../datasets/IR/microphone/Microphone_Impulse_Responses-8khz_16bit/Normalised_IRs-grouped/NTiM2211/NTiM2211/NTiM2211_5m\n",
      "\n",
      "../../datasets/IR/microphone/Microphone_Impulse_Responses-8khz_16bit/Normalised_IRs/NeumannU47FET_125cm\n",
      "../../datasets/IR/microphone/Microphone_Impulse_Responses-8khz_16bit/Normalised_IRs-grouped/NeumannU47FET/NeumannU47FET/NeumannU47FET_125cm\n",
      "\n",
      "../../datasets/IR/microphone/Microphone_Impulse_Responses-8khz_16bit/Normalised_IRs/NeumannU47FET_50cm\n",
      "../../datasets/IR/microphone/Microphone_Impulse_Responses-8khz_16bit/Normalised_IRs-grouped/NeumannU47FET/NeumannU47FET/NeumannU47FET_50cm\n",
      "\n",
      "../../datasets/IR/microphone/Microphone_Impulse_Responses-8khz_16bit/Normalised_IRs/NeumannU87AiBidirect_125cm\n",
      "../../datasets/IR/microphone/Microphone_Impulse_Responses-8khz_16bit/Normalised_IRs-grouped/NeumannU87Ai/NeumannU87AiBidirect/NeumannU87AiBidirect_125cm\n",
      "\n",
      "../../datasets/IR/microphone/Microphone_Impulse_Responses-8khz_16bit/Normalised_IRs/NeumannU87AiBidirect_50cm\n",
      "../../datasets/IR/microphone/Microphone_Impulse_Responses-8khz_16bit/Normalised_IRs-grouped/NeumannU87Ai/NeumannU87AiBidirect/NeumannU87AiBidirect_50cm\n",
      "\n",
      "../../datasets/IR/microphone/Microphone_Impulse_Responses-8khz_16bit/Normalised_IRs/NeumannU87AiBidirect_5m\n",
      "../../datasets/IR/microphone/Microphone_Impulse_Responses-8khz_16bit/Normalised_IRs-grouped/NeumannU87Ai/NeumannU87AiBidirect/NeumannU87AiBidirect_5m\n",
      "\n",
      "../../datasets/IR/microphone/Microphone_Impulse_Responses-8khz_16bit/Normalised_IRs/NeumannU87AiCardioid_125cm\n",
      "../../datasets/IR/microphone/Microphone_Impulse_Responses-8khz_16bit/Normalised_IRs-grouped/NeumannU87Ai/NeumannU87AiCardioid/NeumannU87AiCardioid_125cm\n",
      "\n",
      "../../datasets/IR/microphone/Microphone_Impulse_Responses-8khz_16bit/Normalised_IRs/NeumannU87AiCardioid_50cm\n",
      "../../datasets/IR/microphone/Microphone_Impulse_Responses-8khz_16bit/Normalised_IRs-grouped/NeumannU87Ai/NeumannU87AiCardioid/NeumannU87AiCardioid_50cm\n",
      "\n",
      "../../datasets/IR/microphone/Microphone_Impulse_Responses-8khz_16bit/Normalised_IRs/NeumannU87AiCardioid_5m\n",
      "../../datasets/IR/microphone/Microphone_Impulse_Responses-8khz_16bit/Normalised_IRs-grouped/NeumannU87Ai/NeumannU87AiCardioid/NeumannU87AiCardioid_5m\n",
      "\n",
      "../../datasets/IR/microphone/Microphone_Impulse_Responses-8khz_16bit/Normalised_IRs/NeumannU87AiOmni_125cm\n",
      "../../datasets/IR/microphone/Microphone_Impulse_Responses-8khz_16bit/Normalised_IRs-grouped/NeumannU87Ai/NeumannU87AiOmni/NeumannU87AiOmni_125cm\n",
      "\n",
      "../../datasets/IR/microphone/Microphone_Impulse_Responses-8khz_16bit/Normalised_IRs/NeumannU87AiOmni_50cm\n",
      "../../datasets/IR/microphone/Microphone_Impulse_Responses-8khz_16bit/Normalised_IRs-grouped/NeumannU87Ai/NeumannU87AiOmni/NeumannU87AiOmni_50cm\n",
      "\n",
      "../../datasets/IR/microphone/Microphone_Impulse_Responses-8khz_16bit/Normalised_IRs/NeumannU87AiOmni_5m\n",
      "../../datasets/IR/microphone/Microphone_Impulse_Responses-8khz_16bit/Normalised_IRs-grouped/NeumannU87Ai/NeumannU87AiOmni/NeumannU87AiOmni_5m\n",
      "\n",
      "../../datasets/IR/microphone/Microphone_Impulse_Responses-8khz_16bit/Normalised_IRs/RodeK2Bidirect_125cm\n",
      "../../datasets/IR/microphone/Microphone_Impulse_Responses-8khz_16bit/Normalised_IRs-grouped/RodeK2/RodeK2Bidirect/RodeK2Bidirect_125cm\n",
      "\n",
      "../../datasets/IR/microphone/Microphone_Impulse_Responses-8khz_16bit/Normalised_IRs/RodeK2Bidirect_50cm\n",
      "../../datasets/IR/microphone/Microphone_Impulse_Responses-8khz_16bit/Normalised_IRs-grouped/RodeK2/RodeK2Bidirect/RodeK2Bidirect_50cm\n",
      "\n",
      "../../datasets/IR/microphone/Microphone_Impulse_Responses-8khz_16bit/Normalised_IRs/RodeK2Bidirect_5m\n",
      "../../datasets/IR/microphone/Microphone_Impulse_Responses-8khz_16bit/Normalised_IRs-grouped/RodeK2/RodeK2Bidirect/RodeK2Bidirect_5m\n",
      "\n",
      "../../datasets/IR/microphone/Microphone_Impulse_Responses-8khz_16bit/Normalised_IRs/RodeK2Cardioid_125cm\n",
      "../../datasets/IR/microphone/Microphone_Impulse_Responses-8khz_16bit/Normalised_IRs-grouped/RodeK2/RodeK2Cardioid/RodeK2Cardioid_125cm\n",
      "\n",
      "../../datasets/IR/microphone/Microphone_Impulse_Responses-8khz_16bit/Normalised_IRs/RodeK2Cardioid_50cm\n",
      "../../datasets/IR/microphone/Microphone_Impulse_Responses-8khz_16bit/Normalised_IRs-grouped/RodeK2/RodeK2Cardioid/RodeK2Cardioid_50cm\n",
      "\n",
      "../../datasets/IR/microphone/Microphone_Impulse_Responses-8khz_16bit/Normalised_IRs/RodeK2Cardioid_5m\n",
      "../../datasets/IR/microphone/Microphone_Impulse_Responses-8khz_16bit/Normalised_IRs-grouped/RodeK2/RodeK2Cardioid/RodeK2Cardioid_5m\n",
      "\n",
      "../../datasets/IR/microphone/Microphone_Impulse_Responses-8khz_16bit/Normalised_IRs/RodeK2Omni_125cm\n",
      "../../datasets/IR/microphone/Microphone_Impulse_Responses-8khz_16bit/Normalised_IRs-grouped/RodeK2/RodeK2Omni/RodeK2Omni_125cm\n",
      "\n",
      "../../datasets/IR/microphone/Microphone_Impulse_Responses-8khz_16bit/Normalised_IRs/RodeK2Omni_50cm\n",
      "../../datasets/IR/microphone/Microphone_Impulse_Responses-8khz_16bit/Normalised_IRs-grouped/RodeK2/RodeK2Omni/RodeK2Omni_50cm\n",
      "\n",
      "../../datasets/IR/microphone/Microphone_Impulse_Responses-8khz_16bit/Normalised_IRs/RodeK2Omni_5m\n",
      "../../datasets/IR/microphone/Microphone_Impulse_Responses-8khz_16bit/Normalised_IRs-grouped/RodeK2/RodeK2Omni/RodeK2Omni_5m\n",
      "\n",
      "../../datasets/IR/microphone/Microphone_Impulse_Responses-8khz_16bit/Normalised_IRs/RodeNT2ABidirect_125cm\n",
      "../../datasets/IR/microphone/Microphone_Impulse_Responses-8khz_16bit/Normalised_IRs-grouped/RodeNT2A/RodeNT2ABidirect/RodeNT2ABidirect_125cm\n",
      "\n",
      "../../datasets/IR/microphone/Microphone_Impulse_Responses-8khz_16bit/Normalised_IRs/RodeNT2ABidirect_50cm\n",
      "../../datasets/IR/microphone/Microphone_Impulse_Responses-8khz_16bit/Normalised_IRs-grouped/RodeNT2A/RodeNT2ABidirect/RodeNT2ABidirect_50cm\n",
      "\n",
      "../../datasets/IR/microphone/Microphone_Impulse_Responses-8khz_16bit/Normalised_IRs/RodeNT2ABidirect_5m\n",
      "../../datasets/IR/microphone/Microphone_Impulse_Responses-8khz_16bit/Normalised_IRs-grouped/RodeNT2A/RodeNT2ABidirect/RodeNT2ABidirect_5m\n",
      "\n",
      "../../datasets/IR/microphone/Microphone_Impulse_Responses-8khz_16bit/Normalised_IRs/RodeNT2ACardioid_125cm\n",
      "../../datasets/IR/microphone/Microphone_Impulse_Responses-8khz_16bit/Normalised_IRs-grouped/RodeNT2A/RodeNT2ACardioid/RodeNT2ACardioid_125cm\n",
      "\n",
      "../../datasets/IR/microphone/Microphone_Impulse_Responses-8khz_16bit/Normalised_IRs/RodeNT2ACardioid_50cm\n",
      "../../datasets/IR/microphone/Microphone_Impulse_Responses-8khz_16bit/Normalised_IRs-grouped/RodeNT2A/RodeNT2ACardioid/RodeNT2ACardioid_50cm\n",
      "\n",
      "../../datasets/IR/microphone/Microphone_Impulse_Responses-8khz_16bit/Normalised_IRs/RodeNT2ACardioid_5m\n",
      "../../datasets/IR/microphone/Microphone_Impulse_Responses-8khz_16bit/Normalised_IRs-grouped/RodeNT2A/RodeNT2ACardioid/RodeNT2ACardioid_5m\n",
      "\n",
      "../../datasets/IR/microphone/Microphone_Impulse_Responses-8khz_16bit/Normalised_IRs/RodeNT2AOmni_125cm\n",
      "../../datasets/IR/microphone/Microphone_Impulse_Responses-8khz_16bit/Normalised_IRs-grouped/RodeNT2A/RodeNT2AOmni/RodeNT2AOmni_125cm\n",
      "\n",
      "../../datasets/IR/microphone/Microphone_Impulse_Responses-8khz_16bit/Normalised_IRs/RodeNT2AOmni_50cm\n",
      "../../datasets/IR/microphone/Microphone_Impulse_Responses-8khz_16bit/Normalised_IRs-grouped/RodeNT2A/RodeNT2AOmni/RodeNT2AOmni_50cm\n",
      "\n",
      "../../datasets/IR/microphone/Microphone_Impulse_Responses-8khz_16bit/Normalised_IRs/RodeNT2AOmni_5m\n",
      "../../datasets/IR/microphone/Microphone_Impulse_Responses-8khz_16bit/Normalised_IRs-grouped/RodeNT2A/RodeNT2AOmni/RodeNT2AOmni_5m\n",
      "\n",
      "../../datasets/IR/microphone/Microphone_Impulse_Responses-8khz_16bit/Normalised_IRs/RodeNTG8_125cm\n",
      "../../datasets/IR/microphone/Microphone_Impulse_Responses-8khz_16bit/Normalised_IRs-grouped/RodeNTG8/RodeNTG8/RodeNTG8_125cm\n",
      "\n",
      "../../datasets/IR/microphone/Microphone_Impulse_Responses-8khz_16bit/Normalised_IRs/RodeNTG8_5m\n",
      "../../datasets/IR/microphone/Microphone_Impulse_Responses-8khz_16bit/Normalised_IRs-grouped/RodeNTG8/RodeNTG8/RodeNTG8_5m\n",
      "\n",
      "../../datasets/IR/microphone/Microphone_Impulse_Responses-8khz_16bit/Normalised_IRs/RodeNTR_125cm\n",
      "../../datasets/IR/microphone/Microphone_Impulse_Responses-8khz_16bit/Normalised_IRs-grouped/RodeNTR/RodeNTR/RodeNTR_125cm\n",
      "\n",
      "../../datasets/IR/microphone/Microphone_Impulse_Responses-8khz_16bit/Normalised_IRs/RodeNTR_50cm\n",
      "../../datasets/IR/microphone/Microphone_Impulse_Responses-8khz_16bit/Normalised_IRs-grouped/RodeNTR/RodeNTR/RodeNTR_50cm\n",
      "\n",
      "../../datasets/IR/microphone/Microphone_Impulse_Responses-8khz_16bit/Normalised_IRs/RodeNTR_5m\n",
      "../../datasets/IR/microphone/Microphone_Impulse_Responses-8khz_16bit/Normalised_IRs-grouped/RodeNTR/RodeNTR/RodeNTR_5m\n",
      "\n",
      "../../datasets/IR/microphone/Microphone_Impulse_Responses-8khz_16bit/Normalised_IRs/RodeReporter_125cm\n",
      "../../datasets/IR/microphone/Microphone_Impulse_Responses-8khz_16bit/Normalised_IRs-grouped/RodeReporter/RodeReporter/RodeReporter_125cm\n",
      "\n",
      "../../datasets/IR/microphone/Microphone_Impulse_Responses-8khz_16bit/Normalised_IRs/RodeReporter_50cm\n",
      "../../datasets/IR/microphone/Microphone_Impulse_Responses-8khz_16bit/Normalised_IRs-grouped/RodeReporter/RodeReporter/RodeReporter_50cm\n",
      "\n",
      "../../datasets/IR/microphone/Microphone_Impulse_Responses-8khz_16bit/Normalised_IRs/RodeReporter_5m\n",
      "../../datasets/IR/microphone/Microphone_Impulse_Responses-8khz_16bit/Normalised_IRs-grouped/RodeReporter/RodeReporter/RodeReporter_5m\n",
      "\n",
      "../../datasets/IR/microphone/Microphone_Impulse_Responses-8khz_16bit/Normalised_IRs/RoyerR121_125cm\n",
      "../../datasets/IR/microphone/Microphone_Impulse_Responses-8khz_16bit/Normalised_IRs-grouped/RoyerR121/RoyerR121/RoyerR121_125cm\n",
      "\n",
      "../../datasets/IR/microphone/Microphone_Impulse_Responses-8khz_16bit/Normalised_IRs/RoyerR121_50cm\n",
      "../../datasets/IR/microphone/Microphone_Impulse_Responses-8khz_16bit/Normalised_IRs-grouped/RoyerR121/RoyerR121/RoyerR121_50cm\n",
      "\n",
      "../../datasets/IR/microphone/Microphone_Impulse_Responses-8khz_16bit/Normalised_IRs/RoyerR121_5m\n",
      "../../datasets/IR/microphone/Microphone_Impulse_Responses-8khz_16bit/Normalised_IRs-grouped/RoyerR121/RoyerR121/RoyerR121_5m\n",
      "\n",
      "../../datasets/IR/microphone/Microphone_Impulse_Responses-8khz_16bit/Normalised_IRs/SchoepsCMC5UBidirect_125cm\n",
      "../../datasets/IR/microphone/Microphone_Impulse_Responses-8khz_16bit/Normalised_IRs-grouped/SchoepsCMC5U/SchoepsCMC5UBidirect/SchoepsCMC5UBidirect_125cm\n",
      "\n",
      "../../datasets/IR/microphone/Microphone_Impulse_Responses-8khz_16bit/Normalised_IRs/SchoepsCMC5UBidirect_50cm\n",
      "../../datasets/IR/microphone/Microphone_Impulse_Responses-8khz_16bit/Normalised_IRs-grouped/SchoepsCMC5U/SchoepsCMC5UBidirect/SchoepsCMC5UBidirect_50cm\n",
      "\n",
      "../../datasets/IR/microphone/Microphone_Impulse_Responses-8khz_16bit/Normalised_IRs/SchoepsCMC5UBidirect_5m\n",
      "../../datasets/IR/microphone/Microphone_Impulse_Responses-8khz_16bit/Normalised_IRs-grouped/SchoepsCMC5U/SchoepsCMC5UBidirect/SchoepsCMC5UBidirect_5m\n",
      "\n",
      "../../datasets/IR/microphone/Microphone_Impulse_Responses-8khz_16bit/Normalised_IRs/SchoepsCMC5UCardioid_125cm\n",
      "../../datasets/IR/microphone/Microphone_Impulse_Responses-8khz_16bit/Normalised_IRs-grouped/SchoepsCMC5U/SchoepsCMC5UCardioid/SchoepsCMC5UCardioid_125cm\n",
      "\n",
      "../../datasets/IR/microphone/Microphone_Impulse_Responses-8khz_16bit/Normalised_IRs/SchoepsCMC5UCardioid_50cm\n",
      "../../datasets/IR/microphone/Microphone_Impulse_Responses-8khz_16bit/Normalised_IRs-grouped/SchoepsCMC5U/SchoepsCMC5UCardioid/SchoepsCMC5UCardioid_50cm\n",
      "\n",
      "../../datasets/IR/microphone/Microphone_Impulse_Responses-8khz_16bit/Normalised_IRs/SchoepsCMC5UCardioid_5m\n",
      "../../datasets/IR/microphone/Microphone_Impulse_Responses-8khz_16bit/Normalised_IRs-grouped/SchoepsCMC5U/SchoepsCMC5UCardioid/SchoepsCMC5UCardioid_5m\n",
      "\n",
      "../../datasets/IR/microphone/Microphone_Impulse_Responses-8khz_16bit/Normalised_IRs/SchoepsCMC5UOmni_125cm\n",
      "../../datasets/IR/microphone/Microphone_Impulse_Responses-8khz_16bit/Normalised_IRs-grouped/SchoepsCMC5U/SchoepsCMC5UOmni/SchoepsCMC5UOmni_125cm\n",
      "\n",
      "../../datasets/IR/microphone/Microphone_Impulse_Responses-8khz_16bit/Normalised_IRs/SchoepsCMC5UOmni_50cm\n",
      "../../datasets/IR/microphone/Microphone_Impulse_Responses-8khz_16bit/Normalised_IRs-grouped/SchoepsCMC5U/SchoepsCMC5UOmni/SchoepsCMC5UOmni_50cm\n",
      "\n",
      "../../datasets/IR/microphone/Microphone_Impulse_Responses-8khz_16bit/Normalised_IRs/SchoepsCMC5UOmni_5m\n",
      "../../datasets/IR/microphone/Microphone_Impulse_Responses-8khz_16bit/Normalised_IRs-grouped/SchoepsCMC5U/SchoepsCMC5UOmni/SchoepsCMC5UOmni_5m\n",
      "\n",
      "../../datasets/IR/microphone/Microphone_Impulse_Responses-8khz_16bit/Normalised_IRs/SchoepsCMC6_MK2H_125cm\n",
      "../../datasets/IR/microphone/Microphone_Impulse_Responses-8khz_16bit/Normalised_IRs-grouped/SchoepsCMC6/SchoepsCMC6_MK2H/SchoepsCMC6_MK2H_125cm\n",
      "\n",
      "../../datasets/IR/microphone/Microphone_Impulse_Responses-8khz_16bit/Normalised_IRs/SchoepsCMC6_MK2H_50cm\n",
      "../../datasets/IR/microphone/Microphone_Impulse_Responses-8khz_16bit/Normalised_IRs-grouped/SchoepsCMC6/SchoepsCMC6_MK2H/SchoepsCMC6_MK2H_50cm\n",
      "\n",
      "../../datasets/IR/microphone/Microphone_Impulse_Responses-8khz_16bit/Normalised_IRs/SchoepsCMC6_MK2H_5m\n",
      "../../datasets/IR/microphone/Microphone_Impulse_Responses-8khz_16bit/Normalised_IRs-grouped/SchoepsCMC6/SchoepsCMC6_MK2H/SchoepsCMC6_MK2H_5m\n",
      "\n",
      "../../datasets/IR/microphone/Microphone_Impulse_Responses-8khz_16bit/Normalised_IRs/SchoepsCMC6_MK2H_KA40_125cm\n",
      "../../datasets/IR/microphone/Microphone_Impulse_Responses-8khz_16bit/Normalised_IRs-grouped/SchoepsCMC6/SchoepsCMC6_MK2H_KA40/SchoepsCMC6_MK2H_KA40_125cm\n",
      "\n",
      "../../datasets/IR/microphone/Microphone_Impulse_Responses-8khz_16bit/Normalised_IRs/SchoepsCMC6_MK2H_KA40_50cm\n",
      "../../datasets/IR/microphone/Microphone_Impulse_Responses-8khz_16bit/Normalised_IRs-grouped/SchoepsCMC6/SchoepsCMC6_MK2H_KA40/SchoepsCMC6_MK2H_KA40_50cm\n",
      "\n",
      "../../datasets/IR/microphone/Microphone_Impulse_Responses-8khz_16bit/Normalised_IRs/SchoepsCMC6_MK2H_KA40_5m\n",
      "../../datasets/IR/microphone/Microphone_Impulse_Responses-8khz_16bit/Normalised_IRs-grouped/SchoepsCMC6/SchoepsCMC6_MK2H_KA40/SchoepsCMC6_MK2H_KA40_5m\n",
      "\n",
      "../../datasets/IR/microphone/Microphone_Impulse_Responses-8khz_16bit/Normalised_IRs/SchoepsCMIT5U_125cm\n",
      "../../datasets/IR/microphone/Microphone_Impulse_Responses-8khz_16bit/Normalised_IRs-grouped/SchoepsCMIT5U/SchoepsCMIT5U/SchoepsCMIT5U_125cm\n",
      "\n",
      "../../datasets/IR/microphone/Microphone_Impulse_Responses-8khz_16bit/Normalised_IRs/SchoepsCMIT5U_50cm\n",
      "../../datasets/IR/microphone/Microphone_Impulse_Responses-8khz_16bit/Normalised_IRs-grouped/SchoepsCMIT5U/SchoepsCMIT5U/SchoepsCMIT5U_50cm\n",
      "\n",
      "../../datasets/IR/microphone/Microphone_Impulse_Responses-8khz_16bit/Normalised_IRs/SchoepsCMIT5U_5m\n",
      "../../datasets/IR/microphone/Microphone_Impulse_Responses-8khz_16bit/Normalised_IRs-grouped/SchoepsCMIT5U/SchoepsCMIT5U/SchoepsCMIT5U_5m\n",
      "\n",
      "../../datasets/IR/microphone/Microphone_Impulse_Responses-8khz_16bit/Normalised_IRs/SennheiserMD441_125cm\n",
      "../../datasets/IR/microphone/Microphone_Impulse_Responses-8khz_16bit/Normalised_IRs-grouped/SennheiserMD441/SennheiserMD441/SennheiserMD441_125cm\n",
      "\n",
      "../../datasets/IR/microphone/Microphone_Impulse_Responses-8khz_16bit/Normalised_IRs/SennheiserMD441_50cm\n",
      "../../datasets/IR/microphone/Microphone_Impulse_Responses-8khz_16bit/Normalised_IRs-grouped/SennheiserMD441/SennheiserMD441/SennheiserMD441_50cm\n",
      "\n",
      "../../datasets/IR/microphone/Microphone_Impulse_Responses-8khz_16bit/Normalised_IRs/SennheiserMD441_5m\n",
      "../../datasets/IR/microphone/Microphone_Impulse_Responses-8khz_16bit/Normalised_IRs-grouped/SennheiserMD441/SennheiserMD441/SennheiserMD441_5m\n",
      "\n",
      "../../datasets/IR/microphone/Microphone_Impulse_Responses-8khz_16bit/Normalised_IRs/ShureBeta52_125cm\n",
      "../../datasets/IR/microphone/Microphone_Impulse_Responses-8khz_16bit/Normalised_IRs-grouped/ShureBeta52/ShureBeta52/ShureBeta52_125cm\n",
      "\n",
      "../../datasets/IR/microphone/Microphone_Impulse_Responses-8khz_16bit/Normalised_IRs/ShureBeta52_50cm\n",
      "../../datasets/IR/microphone/Microphone_Impulse_Responses-8khz_16bit/Normalised_IRs-grouped/ShureBeta52/ShureBeta52/ShureBeta52_50cm\n",
      "\n",
      "../../datasets/IR/microphone/Microphone_Impulse_Responses-8khz_16bit/Normalised_IRs/ShureBeta52_5m\n",
      "../../datasets/IR/microphone/Microphone_Impulse_Responses-8khz_16bit/Normalised_IRs-grouped/ShureBeta52/ShureBeta52/ShureBeta52_5m\n",
      "\n",
      "../../datasets/IR/microphone/Microphone_Impulse_Responses-8khz_16bit/Normalised_IRs/ShureSM57_125cm\n",
      "../../datasets/IR/microphone/Microphone_Impulse_Responses-8khz_16bit/Normalised_IRs-grouped/ShureSM57/ShureSM57/ShureSM57_125cm\n",
      "\n",
      "../../datasets/IR/microphone/Microphone_Impulse_Responses-8khz_16bit/Normalised_IRs/ShureSM57_50cm\n",
      "../../datasets/IR/microphone/Microphone_Impulse_Responses-8khz_16bit/Normalised_IRs-grouped/ShureSM57/ShureSM57/ShureSM57_50cm\n",
      "\n",
      "../../datasets/IR/microphone/Microphone_Impulse_Responses-8khz_16bit/Normalised_IRs/ShureSM57_5m\n",
      "../../datasets/IR/microphone/Microphone_Impulse_Responses-8khz_16bit/Normalised_IRs-grouped/ShureSM57/ShureSM57/ShureSM57_5m\n",
      "\n",
      "../../datasets/IR/microphone/Microphone_Impulse_Responses-8khz_16bit/Normalised_IRs/ShureSM58_125cm\n",
      "../../datasets/IR/microphone/Microphone_Impulse_Responses-8khz_16bit/Normalised_IRs-grouped/ShureSM58/ShureSM58/ShureSM58_125cm\n",
      "\n",
      "../../datasets/IR/microphone/Microphone_Impulse_Responses-8khz_16bit/Normalised_IRs/ShureSM58_50cm\n",
      "../../datasets/IR/microphone/Microphone_Impulse_Responses-8khz_16bit/Normalised_IRs-grouped/ShureSM58/ShureSM58/ShureSM58_50cm\n",
      "\n",
      "../../datasets/IR/microphone/Microphone_Impulse_Responses-8khz_16bit/Normalised_IRs/ShureSM58_5m\n",
      "../../datasets/IR/microphone/Microphone_Impulse_Responses-8khz_16bit/Normalised_IRs-grouped/ShureSM58/ShureSM58/ShureSM58_5m\n",
      "\n",
      "../../datasets/IR/microphone/Microphone_Impulse_Responses-8khz_16bit/Normalised_IRs/SonyC800Cardioid_125cm\n",
      "../../datasets/IR/microphone/Microphone_Impulse_Responses-8khz_16bit/Normalised_IRs-grouped/SonyC800/SonyC800Cardioid/SonyC800Cardioid_125cm\n",
      "\n",
      "../../datasets/IR/microphone/Microphone_Impulse_Responses-8khz_16bit/Normalised_IRs/SonyC800Cardioid_50cm\n",
      "../../datasets/IR/microphone/Microphone_Impulse_Responses-8khz_16bit/Normalised_IRs-grouped/SonyC800/SonyC800Cardioid/SonyC800Cardioid_50cm\n",
      "\n",
      "../../datasets/IR/microphone/Microphone_Impulse_Responses-8khz_16bit/Normalised_IRs/SonyC800Cardioid_5m\n",
      "../../datasets/IR/microphone/Microphone_Impulse_Responses-8khz_16bit/Normalised_IRs-grouped/SonyC800/SonyC800Cardioid/SonyC800Cardioid_5m\n",
      "\n",
      "../../datasets/IR/microphone/Microphone_Impulse_Responses-8khz_16bit/Normalised_IRs/SonyC800Omni_125cm\n",
      "../../datasets/IR/microphone/Microphone_Impulse_Responses-8khz_16bit/Normalised_IRs-grouped/SonyC800/SonyC800Omni/SonyC800Omni_125cm\n",
      "\n",
      "../../datasets/IR/microphone/Microphone_Impulse_Responses-8khz_16bit/Normalised_IRs/SonyC800Omni_50cm\n",
      "../../datasets/IR/microphone/Microphone_Impulse_Responses-8khz_16bit/Normalised_IRs-grouped/SonyC800/SonyC800Omni/SonyC800Omni_50cm\n",
      "\n",
      "../../datasets/IR/microphone/Microphone_Impulse_Responses-8khz_16bit/Normalised_IRs/SonyC800Omni_5m\n",
      "../../datasets/IR/microphone/Microphone_Impulse_Responses-8khz_16bit/Normalised_IRs-grouped/SonyC800/SonyC800Omni/SonyC800Omni_5m\n",
      "\n",
      "../../datasets/IR/microphone/Microphone_Impulse_Responses-8khz_16bit/Normalised_IRs/SonyECM670_125cm\n",
      "../../datasets/IR/microphone/Microphone_Impulse_Responses-8khz_16bit/Normalised_IRs-grouped/SonyECM670/SonyECM670/SonyECM670_125cm\n",
      "\n",
      "../../datasets/IR/microphone/Microphone_Impulse_Responses-8khz_16bit/Normalised_IRs/SonyECM670_50cm\n",
      "../../datasets/IR/microphone/Microphone_Impulse_Responses-8khz_16bit/Normalised_IRs-grouped/SonyECM670/SonyECM670/SonyECM670_50cm\n",
      "\n",
      "../../datasets/IR/microphone/Microphone_Impulse_Responses-8khz_16bit/Normalised_IRs/SonyECM670_5m\n",
      "../../datasets/IR/microphone/Microphone_Impulse_Responses-8khz_16bit/Normalised_IRs-grouped/SonyECM670/SonyECM670/SonyECM670_5m\n",
      "\n"
     ]
    }
   ],
   "source": [
    "new_microphone_ir_dataset_dir = os.path.join(os.path.dirname(microphone_ir_dataset_dir), \"Normalised_IRs-grouped\")\n",
    "for mic, mic_direction_dcts in mic_dict.items():\n",
    "    new_mic_dir = os.path.join(new_microphone_ir_dataset_dir, mic)\n",
    "    for mic_direction_dct in mic_direction_dcts:\n",
    "        for mic_direction, distances in mic_direction_dct.items():\n",
    "            new_mic_direct_dir = os.path.join(new_mic_dir, mic_direction)\n",
    "            for dst in distances:\n",
    "                new_path = os.path.join(new_mic_direct_dir, f\"{mic_direction}_{dst}\")\n",
    "                old_path = os.path.join(microphone_ir_dataset_dir, f\"{mic_direction}_{dst}\")\n",
    "                print(old_path)\n",
    "                print(new_path)\n",
    "                print()\n",
    "                # shutil.copytree(old_path, new_path, dirs_exist_ok=True)"
   ]
  },
  {
   "cell_type": "markdown",
   "metadata": {},
   "source": [
    "##### Delete some degrees"
   ]
  },
  {
   "cell_type": "code",
   "execution_count": 66,
   "metadata": {},
   "outputs": [],
   "source": [
    "file_names = os.listdir(\"../../datasets/IR/microphone/Microphone_Impulse_Responses-8khz_16bit/Normalised_IRs-grouped/AKGC414/AKGC414Bidirect/AKGC414Bidirect_125cm/24bit/\")\n",
    "degrees = sorted([int(name.split(\"_\")[-2].replace('Deg', '')) for name in file_names])"
   ]
  },
  {
   "cell_type": "code",
   "execution_count": 67,
   "metadata": {},
   "outputs": [
    {
     "data": {
      "text/plain": [
       "[0,\n",
       " 5,\n",
       " 10,\n",
       " 15,\n",
       " 20,\n",
       " 25,\n",
       " 30,\n",
       " 35,\n",
       " 40,\n",
       " 45,\n",
       " 50,\n",
       " 55,\n",
       " 60,\n",
       " 65,\n",
       " 70,\n",
       " 75,\n",
       " 80,\n",
       " 85,\n",
       " 90,\n",
       " 95,\n",
       " 100,\n",
       " 105,\n",
       " 110,\n",
       " 115,\n",
       " 120,\n",
       " 125,\n",
       " 130,\n",
       " 135,\n",
       " 140,\n",
       " 145,\n",
       " 150,\n",
       " 155,\n",
       " 160,\n",
       " 165,\n",
       " 170,\n",
       " 175,\n",
       " 180,\n",
       " 185,\n",
       " 190,\n",
       " 195,\n",
       " 200,\n",
       " 205,\n",
       " 210,\n",
       " 215,\n",
       " 220,\n",
       " 225,\n",
       " 230,\n",
       " 235,\n",
       " 240,\n",
       " 245,\n",
       " 250,\n",
       " 255,\n",
       " 260,\n",
       " 265,\n",
       " 270,\n",
       " 275,\n",
       " 280,\n",
       " 285,\n",
       " 290,\n",
       " 295,\n",
       " 300,\n",
       " 305,\n",
       " 310,\n",
       " 315,\n",
       " 320,\n",
       " 325,\n",
       " 330,\n",
       " 335,\n",
       " 340,\n",
       " 345,\n",
       " 350,\n",
       " 355]"
      ]
     },
     "execution_count": 67,
     "metadata": {},
     "output_type": "execute_result"
    }
   ],
   "source": [
    "degrees"
   ]
  },
  {
   "cell_type": "code",
   "execution_count": 70,
   "metadata": {},
   "outputs": [
    {
     "name": "stdout",
     "output_type": "stream",
     "text": [
      "8496\n"
     ]
    }
   ],
   "source": [
    "mir_paths = sorted(glob(os.path.join(new_microphone_ir_dataset_dir, \"**\", \"*.wav\"), recursive=True))\n",
    "print(len(mir_paths))"
   ]
  },
  {
   "cell_type": "code",
   "execution_count": 76,
   "metadata": {},
   "outputs": [],
   "source": [
    "for mir_path in mir_paths:\n",
    "    if not os.path.isfile(mir_path):\n",
    "        continue\n",
    "    try:\n",
    "        deg = int(mir_path.split(\"_\")[-2].replace('Deg', ''))\n",
    "    except ValueError:\n",
    "        deg = int(os.path.splitext(mir_path)[0].split(\"_\")[-1].replace('Deg', ''))\n",
    "    except:\n",
    "        print(mir_path)\n",
    "        continue\n",
    "    if deg % 60 != 0:\n",
    "        os.remove(mir_path)"
   ]
  },
  {
   "cell_type": "code",
   "execution_count": 79,
   "metadata": {},
   "outputs": [],
   "source": [
    "mir_paths = sorted(glob(os.path.join(new_microphone_ir_dataset_dir, \"**\", \"*.wav\"), recursive=True))\n",
    "# print(len(mir_paths))\n",
    "\n",
    "degrees_ = []\n",
    "for mir_path in mir_paths:\n",
    "    try:\n",
    "        deg = int(mir_path.split(\"_\")[-2].replace('Deg', ''))\n",
    "    except ValueError:\n",
    "        deg = int(os.path.splitext(mir_path)[0].split(\"_\")[-1].replace('Deg', ''))\n",
    "    except:\n",
    "        print(mir_path)\n",
    "        continue\n",
    "    degrees_.append(deg)\n",
    "degrees_ = set(degrees_)"
   ]
  },
  {
   "cell_type": "code",
   "execution_count": 81,
   "metadata": {},
   "outputs": [
    {
     "data": {
      "text/plain": [
       "708"
      ]
     },
     "execution_count": 81,
     "metadata": {},
     "output_type": "execute_result"
    }
   ],
   "source": [
    "len(mir_paths)"
   ]
  },
  {
   "cell_type": "markdown",
   "metadata": {},
   "source": [
    "##### Split to Dev and Eval"
   ]
  },
  {
   "cell_type": "code",
   "execution_count": 83,
   "metadata": {},
   "outputs": [],
   "source": [
    "from sklearn.model_selection import train_test_split"
   ]
  },
  {
   "cell_type": "code",
   "execution_count": 85,
   "metadata": {},
   "outputs": [],
   "source": [
    "train_mir_names, test_mir_names = train_test_split(mic_names, test_size=0.2, random_state=27)"
   ]
  },
  {
   "cell_type": "code",
   "execution_count": 88,
   "metadata": {},
   "outputs": [
    {
     "name": "stdout",
     "output_type": "stream",
     "text": [
      "564\n",
      "144\n"
     ]
    }
   ],
   "source": [
    "train_mir_paths = []\n",
    "for mic_name in train_mir_names:\n",
    "    train_mir_paths.extend(sorted(glob(os.path.join(new_microphone_ir_dataset_dir, mic_name, \"**\", \"*.wav\"), recursive=True)))\n",
    "print(len(train_mir_paths))\n",
    "\n",
    "test_mir_paths = []\n",
    "for mic_name in test_mir_names:\n",
    "    test_mir_paths.extend(sorted(glob(os.path.join(new_microphone_ir_dataset_dir, mic_name, \"**\", \"*.wav\"), recursive=True)))\n",
    "print(len(test_mir_paths))"
   ]
  },
  {
   "cell_type": "code",
   "execution_count": 90,
   "metadata": {},
   "outputs": [
    {
     "name": "stdout",
     "output_type": "stream",
     "text": [
      "../../datasets/IR/microphone/Microphone_Impulse_Responses-8khz_16bit/Normalised_IRs-grouped/RodeNTG8\n",
      "../../datasets/IR/microphone/Microphone_Impulse_Responses-8khz_16bit/Normalised_IRs-grouped/NeumannU87Ai\n",
      "../../datasets/IR/microphone/Microphone_Impulse_Responses-8khz_16bit/Normalised_IRs-grouped/ShureSM57\n",
      "../../datasets/IR/microphone/Microphone_Impulse_Responses-8khz_16bit/Normalised_IRs-grouped/AKGC414\n",
      "../../datasets/IR/microphone/Microphone_Impulse_Responses-8khz_16bit/Normalised_IRs-grouped/RoyerR121\n",
      "../../datasets/IR/microphone/Microphone_Impulse_Responses-8khz_16bit/Normalised_IRs-grouped/AKGD12\n",
      "../../datasets/IR/microphone/Microphone_Impulse_Responses-8khz_16bit/Normalised_IRs-grouped/ElectroVoiceRE20\n",
      "../../datasets/IR/microphone/Microphone_Impulse_Responses-8khz_16bit/Normalised_IRs-grouped/Coles4038\n",
      "../../datasets/IR/microphone/Microphone_Impulse_Responses-8khz_16bit/Normalised_IRs-grouped/ShureSM58\n",
      "../../datasets/IR/microphone/Microphone_Impulse_Responses-8khz_16bit/Normalised_IRs-grouped/SonyECM670\n",
      "../../datasets/IR/microphone/Microphone_Impulse_Responses-8khz_16bit/Normalised_IRs-grouped/RodeReporter\n",
      "../../datasets/IR/microphone/Microphone_Impulse_Responses-8khz_16bit/Normalised_IRs-grouped/AKGC451\n",
      "../../datasets/IR/microphone/Microphone_Impulse_Responses-8khz_16bit/Normalised_IRs-grouped/RodeK2\n",
      "../../datasets/IR/microphone/Microphone_Impulse_Responses-8khz_16bit/Normalised_IRs-grouped/AKGD112\n",
      "../../datasets/IR/microphone/Microphone_Impulse_Responses-8khz_16bit/Normalised_IRs-grouped/SchoepsCMC6\n",
      "../../datasets/IR/microphone/Microphone_Impulse_Responses-8khz_16bit/Normalised_IRs-grouped/RodeNTR\n",
      "../../datasets/IR/microphone/Microphone_Impulse_Responses-8khz_16bit/Normalised_IRs-grouped/DPA4006\n",
      "../../datasets/IR/microphone/Microphone_Impulse_Responses-8khz_16bit/Normalised_IRs-grouped/SchoepsCMC5U\n",
      "../../datasets/IR/microphone/Microphone_Impulse_Responses-8khz_16bit/Normalised_IRs-grouped/NeumannU47FET\n",
      "../../datasets/IR/microphone/Microphone_Impulse_Responses-8khz_16bit/Normalised_IRs-grouped/SennheiserMD441\n"
     ]
    }
   ],
   "source": [
    "new_microphone_ir_dataset_dir_tr = os.path.join(nafp_pp_dataset_dir, 'aug', 'microphone_ir', 'dev')\n",
    "new_microphone_ir_dataset_dir_ts = os.path.join(nafp_pp_dataset_dir, 'aug', 'microphone_ir', 'test')\n",
    "os.makedirs(new_microphone_ir_dataset_dir_tr, exist_ok=True)\n",
    "os.makedirs(new_microphone_ir_dataset_dir_ts, exist_ok=True)\n",
    "\n",
    "for mic_name in train_mir_names:\n",
    "    mic_dir = os.path.join(new_microphone_ir_dataset_dir, mic_name)\n",
    "    shutil.copytree(mic_dir, os.path.join(new_microphone_ir_dataset_dir_tr, mic_name), dirs_exist_ok=True)\n",
    "\n",
    "for mic_name in test_mir_names:\n",
    "    mic_dir = os.path.join(new_microphone_ir_dataset_dir, mic_name)\n",
    "    # shutil.copytree(mic_dir, os.path.join(new_microphone_ir_dataset_dir_ts, mic_name), dirs_exist_ok=True)"
   ]
  }
 ],
 "metadata": {
  "kernelspec": {
   "display_name": "Python 3 (ipykernel)",
   "language": "python",
   "name": "python3"
  },
  "language_info": {
   "codemirror_mode": {
    "name": "ipython",
    "version": 3
   },
   "file_extension": ".py",
   "mimetype": "text/x-python",
   "name": "python",
   "nbconvert_exporter": "python",
   "pygments_lexer": "ipython3",
   "version": "3.11.5"
  }
 },
 "nbformat": 4,
 "nbformat_minor": 2
}
